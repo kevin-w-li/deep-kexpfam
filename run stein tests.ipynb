{
 "cells": [
  {
   "cell_type": "code",
   "execution_count": 1,
   "metadata": {},
<<<<<<< HEAD
   "outputs": [],
   "source": [
=======
   "outputs": [
    {
     "name": "stderr",
     "output_type": "stream",
     "text": [
      "Using cuDNN version 6021 on context None\n",
      "Mapped name None to device cuda: GeForce GTX 1080 Ti (0000:84:00.0)\n"
     ]
    }
   ],
   "source": [
    "import os\n",
    "os.environ[\"THEANO_FLAGS\"] = \"device=cuda\"\n",
    "\n",
>>>>>>> 34099bd1ad7807328c74d389f1c88ae95499e473
    "import numpy as np\n",
    "import matplotlib.pyplot as plt\n",
    "%matplotlib inline\n",
    "\n",
    "from results_summary import load_all_models"
   ]
  },
  {
   "cell_type": "code",
   "execution_count": 2,
   "metadata": {},
   "outputs": [],
   "source": [
<<<<<<< HEAD
    "from tqdm import tqdm_notebook as tqdm\n",
    "# from tqdm import tqdm"
=======
    "#from tqdm import tqdm_notebook as tqdm\n",
    "from tqdm import tqdm"
>>>>>>> 34099bd1ad7807328c74d389f1c88ae95499e473
   ]
  },
  {
   "cell_type": "code",
   "execution_count": 3,
   "metadata": {},
   "outputs": [],
   "source": [
    "dl_args = dict(npoint=300, nlayer=3, nneuron=30, init_log_lam=-3, points_std=0.0, keep_prob=1.0, init_weight_std=1.0, noise_std=0.05,\n",
    "                    points_type=\"opt\", log_lam_weights=-6, step_size=1e-2, mixture_kernel=False, init_log_sigma=np.linspace(0,1,3), base=True,\n",
    "                    niter=5000, ntrain=100, nvalid=100, patience=50, gpu_count=0, clip_score=True, trainable=False)\n",
    "\n",
    "others_args = dict( n_hiddens = [100]*2,\n",
    "                    n_comps = 10,\n",
    "                    n_layers = 5,\n",
    "                    act_fun = 'tanh',\n",
    "                    mode = 'random')"
   ]
  },
  {
   "cell_type": "markdown",
   "metadata": {},
   "source": [
    "* `p` is the data object\n",
    "* `m` is a dict of all models\n",
    "* `l` is a dict of log liks\n",
    "* `s` is a dict of samples (not for dkef)"
   ]
  },
  {
   "cell_type": "code",
   "execution_count": 4,
   "metadata": {},
   "outputs": [],
   "source": [
    "from kgof import density, data, kernel\n",
    "from kmod import mctest\n",
    "from itertools import combinations\n",
    "\n",
    "def run_all_steins(data_name, seeds=range(15), save=True):\n",
    "    model_names = None\n",
    "    ps = None\n",
    "    stats = None\n",
    "    k = kernel.KPoly(degree=3)\n",
    "\n",
    "    for seed_i, seed in enumerate(tqdm(seeds, unit=\"seed\")):\n",
    "        p, m, l, s = load_all_models(data_name, seed, dl_args, others_args)\n",
    "        if model_names is None:\n",
    "            model_names = sorted(m)\n",
    "            n = len(model_names)\n",
    "\n",
    "            ps = np.full((len(seeds), n, n), np.nan)\n",
    "            stats = np.full_like(ps, np.nan)\n",
    "        else:\n",
    "            assert model_names == sorted(m)\n",
    "\n",
    "        test_data = data.Data(p.test_data)\n",
    "\n",
    "        rs = np.random.RandomState(seed=seed_i)\n",
    "        V = p.test_data[rs.choice(p.test_data.shape[0], 100)]\n",
    "        V += rs.normal(scale=.2, size=V.shape)\n",
    "\n",
    "        densities = {name: density.from_grad_log(p.D, model.grad)\n",
    "                     for name, model in m.iteritems()}\n",
    "\n",
    "        for i, j in tqdm(list(combinations(range(n), 2)), unit=\"test\"):\n",
    "            d1 = densities[model_names[i]]\n",
    "            d2 = densities[model_names[j]]\n",
    "            res = mctest.DC_FSSD(d1, d2, k, k, V, V).perform_test(test_data)\n",
    "            ps[seed_i, i, j] = res['pvalue']\n",
    "            ps[seed_i, j, i] = 1 - res['pvalue']\n",
    "            stats[seed_i, i, j] = res['test_stat']\n",
    "            stats[seed_i, j, i] = -res['test_stat']\n",
    "\n",
    "    if save:\n",
<<<<<<< HEAD
    "        np.savez('stein_{}.npz'.format(data_name), ps=ps, stats=stats)\n",
    "    return ps, stats"
=======
    "        np.savez('stein_{}.npz'.format(data_name), ps=ps, stats=stats, model_names=model_names)\n",
    "    return ps, stats, model_names"
   ]
  },
  {
   "cell_type": "code",
   "execution_count": 5,
   "metadata": {},
   "outputs": [
    {
     "name": "stderr",
     "output_type": "stream",
     "text": [
      "  0%|          | 0/15 [00:00<?, ?seed/s]"
     ]
    },
    {
     "name": "stdout",
     "output_type": "stream",
     "text": [
      "INFO:tensorflow:Restoring parameters from ckpts/R_D11_l3_nd30_np300_nt100_nv100_pto_ss100_ni5000_n05_k10_m0_b1_p50_nk3_c1_s00.ckpt\n"
     ]
    },
    {
     "name": "stderr",
     "output_type": "stream",
     "text": [
      "INFO: 2018-09-27 17:39:36,858: tf_logging.info(): Restoring parameters from ckpts/R_D11_l3_nd30_np300_nt100_nv100_pto_ss100_ni5000_n05_k10_m0_b1_p50_nk3_c1_s00.ckpt\n",
      "\n",
      "  0%|          | 0/15 [00:00<?, ?test/s]\u001b[A\n",
      "  7%|▋         | 1/15 [00:04<01:08,  4.87s/test]\u001b[A\n",
      " 13%|█▎        | 2/15 [00:10<01:06,  5.15s/test]\u001b[A\n",
      " 20%|██        | 3/15 [00:15<01:01,  5.14s/test]\u001b[A\n",
      " 27%|██▋       | 4/15 [00:22<01:02,  5.68s/test]\u001b[A\n",
      " 33%|███▎      | 5/15 [00:30<01:00,  6.09s/test]\u001b[A\n",
      " 40%|████      | 6/15 [00:30<00:46,  5.17s/test]\u001b[A\n",
      " 47%|████▋     | 7/15 [00:31<00:36,  4.53s/test]\u001b[A\n",
      " 53%|█████▎    | 8/15 [00:32<00:28,  4.08s/test]\u001b[A\n",
      " 60%|██████    | 9/15 [00:33<00:22,  3.73s/test]\u001b[A\n",
      " 67%|██████▋   | 10/15 [00:34<00:17,  3.44s/test]\u001b[A\n",
      " 73%|███████▎  | 11/15 [00:35<00:12,  3.22s/test]\u001b[A\n",
      " 80%|████████  | 12/15 [00:36<00:09,  3.04s/test]\u001b[A\n",
      " 87%|████████▋ | 13/15 [00:37<00:05,  2.90s/test]\u001b[A\n",
      " 93%|█████████▎| 14/15 [00:38<00:02,  2.79s/test]\u001b[A\n",
      "100%|██████████| 15/15 [00:40<00:00,  2.69s/test]\u001b[A\n",
      "  7%|▋         | 1/15 [00:53<12:26, 53.34s/seed]"
     ]
    },
    {
     "name": "stdout",
     "output_type": "stream",
     "text": [
      "INFO:tensorflow:Restoring parameters from ckpts/R_D11_l3_nd30_np300_nt100_nv100_pto_ss100_ni5000_n05_k10_m0_b1_p50_nk3_c1_s01.ckpt\n"
     ]
    },
    {
     "name": "stderr",
     "output_type": "stream",
     "text": [
      "INFO: 2018-09-27 17:40:30,441: tf_logging.info(): Restoring parameters from ckpts/R_D11_l3_nd30_np300_nt100_nv100_pto_ss100_ni5000_n05_k10_m0_b1_p50_nk3_c1_s01.ckpt\n",
      "\n",
      "  0%|          | 0/15 [00:00<?, ?test/s]\u001b[A\n",
      "  7%|▋         | 1/15 [00:03<00:43,  3.13s/test]\u001b[A\n",
      " 13%|█▎        | 2/15 [00:08<00:55,  4.28s/test]\u001b[A\n",
      " 20%|██        | 3/15 [00:14<00:56,  4.71s/test]\u001b[A\n",
      " 27%|██▋       | 4/15 [00:24<01:08,  6.21s/test]\u001b[A\n",
      " 33%|███▎      | 5/15 [00:33<01:07,  6.71s/test]\u001b[A\n",
      " 40%|████      | 6/15 [00:34<00:51,  5.70s/test]\u001b[A\n",
      " 47%|████▋     | 7/15 [00:35<00:40,  5.00s/test]\u001b[A\n",
      " 53%|█████▎    | 8/15 [00:35<00:31,  4.49s/test]\u001b[A\n",
      " 60%|██████    | 9/15 [00:36<00:24,  4.11s/test]\u001b[A\n",
      " 67%|██████▋   | 10/15 [00:37<00:18,  3.78s/test]\u001b[A\n",
      " 73%|███████▎  | 11/15 [00:38<00:14,  3.54s/test]\u001b[A\n",
      " 80%|████████  | 12/15 [00:40<00:10,  3.34s/test]\u001b[A\n",
      " 87%|████████▋ | 13/15 [00:41<00:06,  3.19s/test]\u001b[A\n",
      " 93%|█████████▎| 14/15 [00:42<00:03,  3.06s/test]\u001b[A\n",
      "100%|██████████| 15/15 [00:44<00:00,  2.96s/test]\u001b[A\n",
      " 13%|█▎        | 2/15 [01:51<12:02, 55.55s/seed]"
     ]
    },
    {
     "name": "stdout",
     "output_type": "stream",
     "text": [
      "INFO:tensorflow:Restoring parameters from ckpts/R_D11_l3_nd30_np300_nt100_nv100_pto_ss100_ni5000_n05_k10_m0_b1_p50_nk3_c1_s02.ckpt\n"
     ]
    },
    {
     "name": "stderr",
     "output_type": "stream",
     "text": [
      "INFO: 2018-09-27 17:41:27,478: tf_logging.info(): Restoring parameters from ckpts/R_D11_l3_nd30_np300_nt100_nv100_pto_ss100_ni5000_n05_k10_m0_b1_p50_nk3_c1_s02.ckpt\n",
      "\n",
      "  0%|          | 0/15 [00:00<?, ?test/s]\u001b[A\n",
      "  7%|▋         | 1/15 [00:03<00:43,  3.09s/test]\u001b[A\n",
      " 13%|█▎        | 2/15 [00:07<00:46,  3.56s/test]\u001b[A\n",
      " 20%|██        | 3/15 [00:13<00:52,  4.36s/test]\u001b[A\n",
      " 27%|██▋       | 4/15 [00:20<00:55,  5.01s/test]\u001b[A\n",
      " 33%|███▎      | 5/15 [00:30<01:00,  6.01s/test]\u001b[A\n",
      " 40%|████      | 6/15 [00:30<00:45,  5.09s/test]\u001b[A\n",
      " 47%|████▋     | 7/15 [00:31<00:35,  4.48s/test]\u001b[A\n",
      " 53%|█████▎    | 8/15 [00:32<00:28,  4.02s/test]\u001b[A\n",
      " 60%|██████    | 9/15 [00:33<00:22,  3.67s/test]\u001b[A\n",
      " 67%|██████▋   | 10/15 [00:33<00:16,  3.39s/test]\u001b[A\n",
      " 73%|███████▎  | 11/15 [00:34<00:12,  3.18s/test]\u001b[A\n",
      " 80%|████████  | 12/15 [00:36<00:09,  3.00s/test]\u001b[A\n",
      " 87%|████████▋ | 13/15 [00:37<00:05,  2.87s/test]\u001b[A\n",
      " 93%|█████████▎| 14/15 [00:38<00:02,  2.76s/test]\u001b[A\n",
      "100%|██████████| 15/15 [00:40<00:00,  2.68s/test]\u001b[A\n",
      " 20%|██        | 3/15 [02:43<10:55, 54.60s/seed]"
     ]
    },
    {
     "name": "stdout",
     "output_type": "stream",
     "text": [
      "INFO:tensorflow:Restoring parameters from ckpts/R_D11_l3_nd30_np300_nt100_nv100_pto_ss100_ni5000_n05_k10_m0_b1_p50_nk3_c1_s03.ckpt\n"
     ]
    },
    {
     "name": "stderr",
     "output_type": "stream",
     "text": [
      "INFO: 2018-09-27 17:42:22,119: tf_logging.info(): Restoring parameters from ckpts/R_D11_l3_nd30_np300_nt100_nv100_pto_ss100_ni5000_n05_k10_m0_b1_p50_nk3_c1_s03.ckpt\n",
      "\n",
      "  0%|          | 0/15 [00:00<?, ?test/s]\u001b[A\n",
      "  7%|▋         | 1/15 [00:03<00:45,  3.22s/test]\u001b[A\n",
      " 13%|█▎        | 2/15 [00:07<00:46,  3.57s/test]\u001b[A\n",
      " 20%|██        | 3/15 [00:12<00:49,  4.15s/test]\u001b[A\n",
      " 27%|██▋       | 4/15 [00:19<00:53,  4.82s/test]\u001b[A\n",
      " 33%|███▎      | 5/15 [00:26<00:52,  5.29s/test]\u001b[A\n",
      " 40%|████      | 6/15 [00:26<00:40,  4.50s/test]\u001b[A\n",
      " 47%|████▋     | 7/15 [00:27<00:31,  3.96s/test]\u001b[A\n",
      " 53%|█████▎    | 8/15 [00:28<00:25,  3.58s/test]\u001b[A\n",
      " 60%|██████    | 9/15 [00:29<00:19,  3.29s/test]\u001b[A\n",
      " 67%|██████▋   | 10/15 [00:30<00:15,  3.05s/test]\u001b[A\n",
      " 73%|███████▎  | 11/15 [00:31<00:11,  2.87s/test]\u001b[A\n",
      " 80%|████████  | 12/15 [00:32<00:08,  2.72s/test]\u001b[A\n",
      " 87%|████████▋ | 13/15 [00:34<00:05,  2.62s/test]\u001b[A\n",
      " 93%|█████████▎| 14/15 [00:35<00:02,  2.52s/test]\u001b[A\n",
      "100%|██████████| 15/15 [00:36<00:00,  2.45s/test]\u001b[A\n",
      " 27%|██▋       | 4/15 [03:35<09:51, 53.81s/seed]"
     ]
    },
    {
     "name": "stdout",
     "output_type": "stream",
     "text": [
      "INFO:tensorflow:Restoring parameters from ckpts/R_D11_l3_nd30_np300_nt100_nv100_pto_ss100_ni5000_n05_k10_m0_b1_p50_nk3_c1_s04.ckpt\n"
     ]
    },
    {
     "name": "stderr",
     "output_type": "stream",
     "text": [
      "INFO: 2018-09-27 17:43:13,578: tf_logging.info(): Restoring parameters from ckpts/R_D11_l3_nd30_np300_nt100_nv100_pto_ss100_ni5000_n05_k10_m0_b1_p50_nk3_c1_s04.ckpt\n",
      "\n",
      "  0%|          | 0/15 [00:00<?, ?test/s]\u001b[A\n",
      "  7%|▋         | 1/15 [00:03<00:45,  3.28s/test]\u001b[A\n",
      " 13%|█▎        | 2/15 [00:08<00:57,  4.39s/test]\u001b[A\n",
      " 20%|██        | 3/15 [00:14<00:56,  4.73s/test]\u001b[A\n",
      " 27%|██▋       | 4/15 [00:21<00:57,  5.25s/test]\u001b[A\n",
      " 33%|███▎      | 5/15 [00:29<00:59,  5.98s/test]\u001b[A\n",
      " 40%|████      | 6/15 [00:30<00:45,  5.08s/test]\u001b[A\n",
      " 47%|████▋     | 7/15 [00:31<00:35,  4.46s/test]\u001b[A\n",
      " 53%|█████▎    | 8/15 [00:32<00:28,  4.03s/test]\u001b[A\n",
      " 60%|██████    | 9/15 [00:33<00:22,  3.69s/test]\u001b[A\n",
      " 67%|██████▋   | 10/15 [00:34<00:17,  3.41s/test]\u001b[A\n",
      " 73%|███████▎  | 11/15 [00:35<00:12,  3.20s/test]\u001b[A\n",
      " 80%|████████  | 12/15 [00:36<00:09,  3.02s/test]\u001b[A\n",
      " 87%|████████▋ | 13/15 [00:37<00:05,  2.89s/test]\u001b[A\n",
      " 93%|█████████▎| 14/15 [00:38<00:02,  2.79s/test]\u001b[A\n",
      "100%|██████████| 15/15 [00:40<00:00,  2.70s/test]\u001b[A\n",
      " 33%|███▎      | 5/15 [04:30<09:00, 54.06s/seed]"
     ]
    },
    {
     "name": "stdout",
     "output_type": "stream",
     "text": [
      "INFO:tensorflow:Restoring parameters from ckpts/R_D11_l3_nd30_np300_nt100_nv100_pto_ss100_ni5000_n05_k10_m0_b1_p50_nk3_c1_s05.ckpt\n"
     ]
    },
    {
     "name": "stderr",
     "output_type": "stream",
     "text": [
      "INFO: 2018-09-27 17:44:07,614: tf_logging.info(): Restoring parameters from ckpts/R_D11_l3_nd30_np300_nt100_nv100_pto_ss100_ni5000_n05_k10_m0_b1_p50_nk3_c1_s05.ckpt\n",
      "\n",
      "  0%|          | 0/15 [00:00<?, ?test/s]\u001b[A\n",
      "  7%|▋         | 1/15 [00:03<00:44,  3.18s/test]\u001b[A\n",
      " 13%|█▎        | 2/15 [00:06<00:45,  3.50s/test]\u001b[A\n",
      " 20%|██        | 3/15 [00:12<00:50,  4.18s/test]\u001b[A\n",
      " 27%|██▋       | 4/15 [00:19<00:53,  4.90s/test]\u001b[A\n",
      " 33%|███▎      | 5/15 [00:29<00:59,  5.96s/test]\u001b[A\n",
      " 40%|████      | 6/15 [00:30<00:45,  5.06s/test]\u001b[A\n",
      " 47%|████▋     | 7/15 [00:31<00:35,  4.45s/test]\u001b[A\n",
      " 53%|█████▎    | 8/15 [00:32<00:28,  4.02s/test]\u001b[A\n",
      " 60%|██████    | 9/15 [00:33<00:22,  3.68s/test]\u001b[A\n",
      " 67%|██████▋   | 10/15 [00:33<00:16,  3.40s/test]\u001b[A\n",
      " 73%|███████▎  | 11/15 [00:35<00:12,  3.19s/test]\u001b[A\n",
      " 80%|████████  | 12/15 [00:36<00:09,  3.02s/test]\u001b[A\n",
      " 87%|████████▋ | 13/15 [00:37<00:05,  2.89s/test]\u001b[A\n",
      " 93%|█████████▎| 14/15 [00:38<00:02,  2.77s/test]\u001b[A\n",
      "100%|██████████| 15/15 [00:40<00:00,  2.68s/test]\u001b[A\n",
      " 40%|████      | 6/15 [05:24<08:06, 54.02s/seed]"
     ]
    },
    {
     "name": "stdout",
     "output_type": "stream",
     "text": [
      "INFO:tensorflow:Restoring parameters from ckpts/R_D11_l3_nd30_np300_nt100_nv100_pto_ss100_ni5000_n05_k10_m0_b1_p50_nk3_c1_s06.ckpt\n"
     ]
    },
    {
     "name": "stderr",
     "output_type": "stream",
     "text": [
      "INFO: 2018-09-27 17:45:01,312: tf_logging.info(): Restoring parameters from ckpts/R_D11_l3_nd30_np300_nt100_nv100_pto_ss100_ni5000_n05_k10_m0_b1_p50_nk3_c1_s06.ckpt\n",
      "\n",
      "  0%|          | 0/15 [00:00<?, ?test/s]\u001b[A\n",
      "  7%|▋         | 1/15 [00:03<00:43,  3.11s/test]\u001b[A\n",
      " 13%|█▎        | 2/15 [00:06<00:44,  3.45s/test]\u001b[A\n",
      " 20%|██        | 3/15 [00:12<00:48,  4.08s/test]\u001b[A\n",
      " 27%|██▋       | 4/15 [00:19<00:53,  4.86s/test]\u001b[A\n",
      " 33%|███▎      | 5/15 [00:26<00:53,  5.35s/test]\u001b[A\n",
      " 40%|████      | 6/15 [00:27<00:40,  4.55s/test]\u001b[A\n",
      " 47%|████▋     | 7/15 [00:28<00:32,  4.01s/test]\u001b[A\n",
      " 53%|█████▎    | 8/15 [00:28<00:25,  3.62s/test]\u001b[A\n",
      " 60%|██████    | 9/15 [00:29<00:19,  3.33s/test]\u001b[A\n",
      " 67%|██████▋   | 10/15 [00:30<00:15,  3.08s/test]\u001b[A\n",
      " 73%|███████▎  | 11/15 [00:31<00:11,  2.91s/test]\u001b[A\n",
      " 80%|████████  | 12/15 [00:33<00:08,  2.76s/test]\u001b[A\n",
      " 87%|████████▋ | 13/15 [00:34<00:05,  2.65s/test]\u001b[A\n",
      " 93%|█████████▎| 14/15 [00:35<00:02,  2.55s/test]\u001b[A\n",
      "100%|██████████| 15/15 [00:37<00:00,  2.49s/test]\u001b[A\n",
      " 47%|████▋     | 7/15 [06:15<07:08, 53.60s/seed]"
     ]
    },
    {
     "name": "stdout",
     "output_type": "stream",
     "text": [
      "INFO:tensorflow:Restoring parameters from ckpts/R_D11_l3_nd30_np300_nt100_nv100_pto_ss100_ni5000_n05_k10_m0_b1_p50_nk3_c1_s07.ckpt\n"
     ]
    },
    {
     "name": "stderr",
     "output_type": "stream",
     "text": [
      "INFO: 2018-09-27 17:45:53,949: tf_logging.info(): Restoring parameters from ckpts/R_D11_l3_nd30_np300_nt100_nv100_pto_ss100_ni5000_n05_k10_m0_b1_p50_nk3_c1_s07.ckpt\n",
      "\n",
      "  0%|          | 0/15 [00:00<?, ?test/s]\u001b[A\n",
      "  7%|▋         | 1/15 [00:03<00:42,  3.04s/test]\u001b[A\n",
      " 13%|█▎        | 2/15 [00:08<00:55,  4.27s/test]\u001b[A\n",
      " 20%|██        | 3/15 [00:13<00:55,  4.62s/test]\u001b[A\n",
      " 27%|██▋       | 4/15 [00:20<00:57,  5.20s/test]\u001b[A\n",
      " 33%|███▎      | 5/15 [00:29<00:58,  5.84s/test]\u001b[A\n",
      " 40%|████      | 6/15 [00:29<00:44,  4.97s/test]\u001b[A\n",
      " 47%|████▋     | 7/15 [00:30<00:34,  4.36s/test]\u001b[A\n",
      " 53%|█████▎    | 8/15 [00:31<00:27,  3.94s/test]\u001b[A\n",
      " 60%|██████    | 9/15 [00:32<00:21,  3.61s/test]\u001b[A\n",
      " 67%|██████▋   | 10/15 [00:33<00:16,  3.34s/test]\u001b[A\n",
      " 73%|███████▎  | 11/15 [00:34<00:12,  3.14s/test]\u001b[A\n",
      " 80%|████████  | 12/15 [00:35<00:08,  2.98s/test]\u001b[A\n",
      " 87%|████████▋ | 13/15 [00:37<00:05,  2.85s/test]\u001b[A\n",
      " 93%|█████████▎| 14/15 [00:38<00:02,  2.74s/test]\u001b[A\n",
      "100%|██████████| 15/15 [00:39<00:00,  2.66s/test]\u001b[A\n",
      " 53%|█████▎    | 8/15 [07:10<06:16, 53.75s/seed]"
     ]
    },
    {
     "name": "stdout",
     "output_type": "stream",
     "text": [
      "INFO:tensorflow:Restoring parameters from ckpts/R_D11_l3_nd30_np300_nt100_nv100_pto_ss100_ni5000_n05_k10_m0_b1_p50_nk3_c1_s08.ckpt\n"
     ]
    },
    {
     "name": "stderr",
     "output_type": "stream",
     "text": [
      "INFO: 2018-09-27 17:46:47,158: tf_logging.info(): Restoring parameters from ckpts/R_D11_l3_nd30_np300_nt100_nv100_pto_ss100_ni5000_n05_k10_m0_b1_p50_nk3_c1_s08.ckpt\n",
      "\n",
      "  0%|          | 0/15 [00:00<?, ?test/s]\u001b[A\n",
      "  7%|▋         | 1/15 [00:03<00:43,  3.13s/test]\u001b[A\n",
      " 13%|█▎        | 2/15 [00:07<00:45,  3.50s/test]\u001b[A\n",
      " 20%|██        | 3/15 [00:12<00:49,  4.12s/test]\u001b[A\n",
      " 27%|██▋       | 4/15 [00:19<00:52,  4.81s/test]\u001b[A\n",
      " 33%|███▎      | 5/15 [00:28<00:57,  5.74s/test]\u001b[A\n",
      " 40%|████      | 6/15 [00:29<00:43,  4.88s/test]\u001b[A\n",
      " 47%|████▋     | 7/15 [00:30<00:34,  4.30s/test]\u001b[A\n",
      " 53%|█████▎    | 8/15 [00:31<00:27,  3.88s/test]\u001b[A\n",
      " 60%|██████    | 9/15 [00:32<00:21,  3.56s/test]\u001b[A\n",
      " 67%|██████▋   | 10/15 [00:32<00:16,  3.29s/test]\u001b[A\n",
      " 73%|███████▎  | 11/15 [00:33<00:12,  3.08s/test]\u001b[A\n",
      " 80%|████████  | 12/15 [00:35<00:08,  2.92s/test]\u001b[A\n",
      " 87%|████████▋ | 13/15 [00:36<00:05,  2.80s/test]\u001b[A\n",
      " 93%|█████████▎| 14/15 [00:37<00:02,  2.69s/test]\u001b[A\n",
      "100%|██████████| 15/15 [00:39<00:00,  2.61s/test]\u001b[A\n",
      " 60%|██████    | 9/15 [08:02<05:21, 53.63s/seed]"
     ]
    },
    {
     "name": "stdout",
     "output_type": "stream",
     "text": [
      "INFO:tensorflow:Restoring parameters from ckpts/R_D11_l3_nd30_np300_nt100_nv100_pto_ss100_ni5000_n05_k10_m0_b1_p50_nk3_c1_s09.ckpt\n"
     ]
    },
    {
     "name": "stderr",
     "output_type": "stream",
     "text": [
      "INFO: 2018-09-27 17:47:39,495: tf_logging.info(): Restoring parameters from ckpts/R_D11_l3_nd30_np300_nt100_nv100_pto_ss100_ni5000_n05_k10_m0_b1_p50_nk3_c1_s09.ckpt\n",
      "\n",
      "  0%|          | 0/15 [00:00<?, ?test/s]\u001b[A\n",
      "  7%|▋         | 1/15 [00:03<00:45,  3.23s/test]\u001b[A\n",
      " 13%|█▎        | 2/15 [00:06<00:44,  3.46s/test]\u001b[A\n",
      " 20%|██        | 3/15 [00:12<00:48,  4.04s/test]\u001b[A\n",
      " 27%|██▋       | 4/15 [00:19<00:53,  4.83s/test]\u001b[A\n",
      " 33%|███▎      | 5/15 [00:26<00:53,  5.30s/test]\u001b[A\n",
      " 40%|████      | 6/15 [00:27<00:40,  4.51s/test]\u001b[A\n",
      " 47%|████▋     | 7/15 [00:27<00:31,  3.97s/test]\u001b[A\n",
      " 53%|█████▎    | 8/15 [00:28<00:25,  3.60s/test]\u001b[A\n",
      " 60%|██████    | 9/15 [00:29<00:19,  3.31s/test]\u001b[A\n",
      " 67%|██████▋   | 10/15 [00:30<00:15,  3.07s/test]\u001b[A\n",
      " 73%|███████▎  | 11/15 [00:31<00:11,  2.88s/test]\u001b[A\n",
      " 80%|████████  | 12/15 [00:32<00:08,  2.73s/test]\u001b[A\n",
      " 87%|████████▋ | 13/15 [00:33<00:05,  2.61s/test]\u001b[A\n",
      " 93%|█████████▎| 14/15 [00:35<00:02,  2.52s/test]\u001b[A\n",
      "100%|██████████| 15/15 [00:36<00:00,  2.45s/test]\u001b[A\n",
      " 67%|██████▋   | 10/15 [08:52<04:26, 53.25s/seed]"
     ]
    },
    {
     "name": "stdout",
     "output_type": "stream",
     "text": [
      "INFO:tensorflow:Restoring parameters from ckpts/R_D11_l3_nd30_np300_nt100_nv100_pto_ss100_ni5000_n05_k10_m0_b1_p50_nk3_c1_s10.ckpt\n"
     ]
    },
    {
     "name": "stderr",
     "output_type": "stream",
     "text": [
      "INFO: 2018-09-27 17:48:31,184: tf_logging.info(): Restoring parameters from ckpts/R_D11_l3_nd30_np300_nt100_nv100_pto_ss100_ni5000_n05_k10_m0_b1_p50_nk3_c1_s10.ckpt\n",
      "\n",
      "  0%|          | 0/15 [00:00<?, ?test/s]\u001b[A\n",
      "  7%|▋         | 1/15 [00:03<00:42,  3.04s/test]\u001b[A\n",
      " 13%|█▎        | 2/15 [00:06<00:43,  3.35s/test]\u001b[A\n",
      " 20%|██        | 3/15 [00:12<00:48,  4.07s/test]\u001b[A\n",
      " 27%|██▋       | 4/15 [00:19<00:52,  4.76s/test]\u001b[A\n",
      " 33%|███▎      | 5/15 [00:25<00:51,  5.19s/test]\u001b[A\n",
      " 40%|████      | 6/15 [00:26<00:39,  4.42s/test]\u001b[A\n",
      " 47%|████▋     | 7/15 [00:27<00:31,  3.91s/test]\u001b[A\n",
      " 53%|█████▎    | 8/15 [00:28<00:24,  3.54s/test]\u001b[A\n",
      " 60%|██████    | 9/15 [00:29<00:19,  3.25s/test]\u001b[A\n",
      " 67%|██████▋   | 10/15 [00:30<00:15,  3.02s/test]\u001b[A\n",
      " 73%|███████▎  | 11/15 [00:31<00:11,  2.84s/test]\u001b[A\n",
      " 80%|████████  | 12/15 [00:32<00:08,  2.69s/test]\u001b[A\n",
      " 87%|████████▋ | 13/15 [00:33<00:05,  2.58s/test]\u001b[A\n",
      " 93%|█████████▎| 14/15 [00:34<00:02,  2.49s/test]\u001b[A\n",
      "100%|██████████| 15/15 [00:36<00:00,  2.42s/test]\u001b[A\n",
      " 73%|███████▎  | 11/15 [09:44<03:32, 53.18s/seed]"
     ]
    },
    {
     "name": "stdout",
     "output_type": "stream",
     "text": [
      "INFO:tensorflow:Restoring parameters from ckpts/R_D11_l3_nd30_np300_nt100_nv100_pto_ss100_ni5000_n05_k10_m0_b1_p50_nk3_c1_s11.ckpt\n"
     ]
    },
    {
     "name": "stderr",
     "output_type": "stream",
     "text": [
      "INFO: 2018-09-27 17:49:22,821: tf_logging.info(): Restoring parameters from ckpts/R_D11_l3_nd30_np300_nt100_nv100_pto_ss100_ni5000_n05_k10_m0_b1_p50_nk3_c1_s11.ckpt\n",
      "\n",
      "  0%|          | 0/15 [00:00<?, ?test/s]\u001b[A\n",
      "  7%|▋         | 1/15 [00:03<00:43,  3.07s/test]\u001b[A\n",
      " 13%|█▎        | 2/15 [00:06<00:43,  3.34s/test]\u001b[A\n",
      " 20%|██        | 3/15 [00:12<00:48,  4.01s/test]\u001b[A\n",
      " 27%|██▋       | 4/15 [00:21<00:58,  5.36s/test]\u001b[A\n",
      " 33%|███▎      | 5/15 [00:28<00:57,  5.77s/test]\u001b[A\n",
      " 40%|████      | 6/15 [00:29<00:44,  4.90s/test]\u001b[A\n",
      " 47%|████▋     | 7/15 [00:30<00:34,  4.31s/test]\u001b[A\n",
      " 53%|█████▎    | 8/15 [00:31<00:27,  3.89s/test]\u001b[A\n",
      " 60%|██████    | 9/15 [00:32<00:21,  3.56s/test]\u001b[A\n",
      " 67%|██████▋   | 10/15 [00:32<00:16,  3.29s/test]\u001b[A\n",
      " 73%|███████▎  | 11/15 [00:33<00:12,  3.09s/test]\u001b[A\n",
      " 80%|████████  | 12/15 [00:35<00:08,  2.92s/test]\u001b[A\n",
      " 87%|████████▋ | 13/15 [00:36<00:05,  2.79s/test]\u001b[A\n",
      " 93%|█████████▎| 14/15 [00:37<00:02,  2.69s/test]\u001b[A\n",
      "100%|██████████| 15/15 [00:39<00:00,  2.61s/test]\u001b[A\n",
      " 80%|████████  | 12/15 [10:38<02:39, 53.19s/seed]"
     ]
    },
    {
     "name": "stdout",
     "output_type": "stream",
     "text": [
      "INFO:tensorflow:Restoring parameters from ckpts/R_D11_l3_nd30_np300_nt100_nv100_pto_ss100_ni5000_n05_k10_m0_b1_p50_nk3_c1_s12.ckpt\n"
     ]
    },
    {
     "name": "stderr",
     "output_type": "stream",
     "text": [
      "INFO: 2018-09-27 17:50:15,061: tf_logging.info(): Restoring parameters from ckpts/R_D11_l3_nd30_np300_nt100_nv100_pto_ss100_ni5000_n05_k10_m0_b1_p50_nk3_c1_s12.ckpt\n",
      "\n",
      "  0%|          | 0/15 [00:00<?, ?test/s]\u001b[A\n",
      "  7%|▋         | 1/15 [00:03<00:43,  3.12s/test]\u001b[A\n",
      " 13%|█▎        | 2/15 [00:09<01:00,  4.62s/test]\u001b[A\n",
      " 20%|██        | 3/15 [00:14<00:57,  4.80s/test]\u001b[A\n",
      " 27%|██▋       | 4/15 [00:21<00:58,  5.30s/test]\u001b[A\n",
      " 33%|███▎      | 5/15 [00:29<00:59,  5.92s/test]\u001b[A\n",
      " 40%|████      | 6/15 [00:30<00:45,  5.02s/test]\u001b[A\n",
      " 47%|████▋     | 7/15 [00:30<00:35,  4.40s/test]\u001b[A\n",
      " 53%|█████▎    | 8/15 [00:31<00:27,  3.96s/test]\u001b[A\n",
      " 60%|██████    | 9/15 [00:32<00:21,  3.61s/test]\u001b[A\n",
      " 67%|██████▋   | 10/15 [00:33<00:16,  3.33s/test]\u001b[A\n",
      " 73%|███████▎  | 11/15 [00:34<00:12,  3.12s/test]\u001b[A\n",
      " 80%|████████  | 12/15 [00:35<00:08,  2.94s/test]\u001b[A\n",
      " 87%|████████▋ | 13/15 [00:36<00:05,  2.81s/test]\u001b[A\n",
      " 93%|█████████▎| 14/15 [00:37<00:02,  2.70s/test]\u001b[A\n",
      "100%|██████████| 15/15 [00:39<00:00,  2.62s/test]\u001b[A\n",
      " 87%|████████▋ | 13/15 [11:30<01:46, 53.13s/seed]"
     ]
    },
    {
     "name": "stdout",
     "output_type": "stream",
     "text": [
      "INFO:tensorflow:Restoring parameters from ckpts/R_D11_l3_nd30_np300_nt100_nv100_pto_ss100_ni5000_n05_k10_m0_b1_p50_nk3_c1_s13.ckpt\n"
     ]
    },
    {
     "name": "stderr",
     "output_type": "stream",
     "text": [
      "INFO: 2018-09-27 17:51:07,695: tf_logging.info(): Restoring parameters from ckpts/R_D11_l3_nd30_np300_nt100_nv100_pto_ss100_ni5000_n05_k10_m0_b1_p50_nk3_c1_s13.ckpt\n",
      "\n",
      "  0%|          | 0/15 [00:00<?, ?test/s]\u001b[A\n",
      "  7%|▋         | 1/15 [00:03<00:45,  3.23s/test]\u001b[A\n",
      " 13%|█▎        | 2/15 [00:07<00:45,  3.50s/test]\u001b[A\n",
      " 20%|██        | 3/15 [00:12<00:49,  4.14s/test]\u001b[A\n",
      " 27%|██▋       | 4/15 [00:19<00:53,  4.88s/test]\u001b[A\n",
      " 33%|███▎      | 5/15 [00:29<00:58,  5.83s/test]\u001b[A\n",
      " 40%|████      | 6/15 [00:29<00:44,  4.95s/test]\u001b[A\n",
      " 47%|████▋     | 7/15 [00:30<00:34,  4.36s/test]\u001b[A\n",
      " 53%|█████▎    | 8/15 [00:31<00:27,  3.93s/test]\u001b[A\n",
      " 60%|██████    | 9/15 [00:32<00:21,  3.60s/test]\u001b[A\n",
      " 67%|██████▋   | 10/15 [00:33<00:16,  3.33s/test]\u001b[A\n",
      " 73%|███████▎  | 11/15 [00:34<00:12,  3.12s/test]\u001b[A\n",
      " 80%|████████  | 12/15 [00:35<00:08,  2.95s/test]\u001b[A\n",
      " 87%|████████▋ | 13/15 [00:36<00:05,  2.82s/test]\u001b[A\n",
      " 93%|█████████▎| 14/15 [00:37<00:02,  2.71s/test]\u001b[A\n",
      "100%|██████████| 15/15 [00:39<00:00,  2.63s/test]\u001b[A\n",
      " 93%|█████████▎| 14/15 [12:23<00:53, 53.11s/seed]"
     ]
    },
    {
     "name": "stdout",
     "output_type": "stream",
     "text": [
      "INFO:tensorflow:Restoring parameters from ckpts/R_D11_l3_nd30_np300_nt100_nv100_pto_ss100_ni5000_n05_k10_m0_b1_p50_nk3_c1_s14.ckpt\n"
     ]
    },
    {
     "name": "stderr",
     "output_type": "stream",
     "text": [
      "INFO: 2018-09-27 17:52:00,593: tf_logging.info(): Restoring parameters from ckpts/R_D11_l3_nd30_np300_nt100_nv100_pto_ss100_ni5000_n05_k10_m0_b1_p50_nk3_c1_s14.ckpt\n",
      "\n",
      "  0%|          | 0/15 [00:00<?, ?test/s]\u001b[A\n",
      "  7%|▋         | 1/15 [00:03<00:42,  3.07s/test]\u001b[A\n",
      " 13%|█▎        | 2/15 [00:06<00:43,  3.37s/test]\u001b[A\n",
      " 20%|██        | 3/15 [00:12<00:48,  4.04s/test]\u001b[A\n",
      " 27%|██▋       | 4/15 [00:18<00:51,  4.72s/test]\u001b[A\n",
      " 33%|███▎      | 5/15 [00:28<00:57,  5.76s/test]\u001b[A\n",
      " 40%|████      | 6/15 [00:29<00:43,  4.88s/test]\u001b[A\n",
      " 47%|████▋     | 7/15 [00:30<00:34,  4.30s/test]\u001b[A\n",
      " 53%|█████▎    | 8/15 [00:31<00:27,  3.89s/test]\u001b[A\n",
      " 60%|██████    | 9/15 [00:32<00:21,  3.57s/test]\u001b[A\n",
      " 67%|██████▋   | 10/15 [00:32<00:16,  3.30s/test]\u001b[A\n",
      " 73%|███████▎  | 11/15 [00:34<00:12,  3.10s/test]\u001b[A\n",
      " 80%|████████  | 12/15 [00:35<00:08,  2.93s/test]\u001b[A\n",
      " 87%|████████▋ | 13/15 [00:36<00:05,  2.80s/test]\u001b[A\n",
      " 93%|█████████▎| 14/15 [00:37<00:02,  2.70s/test]\u001b[A\n",
      "100%|██████████| 15/15 [00:39<00:00,  2.63s/test]\u001b[A\n",
      "100%|██████████| 15/15 [13:16<00:00, 53.08s/seed]\n",
      "  0%|          | 0/15 [00:00<?, ?seed/s]"
     ]
    },
    {
     "name": "stdout",
     "output_type": "stream",
     "text": [
      "INFO:tensorflow:Restoring parameters from ckpts/W_D11_l3_nd30_np300_nt100_nv100_pto_ss100_ni5000_n05_k10_m0_b1_p50_nk3_c1_s00.ckpt\n"
     ]
    },
    {
     "name": "stderr",
     "output_type": "stream",
     "text": [
      "INFO: 2018-09-27 17:52:56,073: tf_logging.info(): Restoring parameters from ckpts/W_D11_l3_nd30_np300_nt100_nv100_pto_ss100_ni5000_n05_k10_m0_b1_p50_nk3_c1_s00.ckpt\n",
      "\n",
      "  0%|          | 0/15 [00:00<?, ?test/s]\u001b[A\n",
      "  7%|▋         | 1/15 [00:05<01:13,  5.28s/test]\u001b[A\n",
      " 13%|█▎        | 2/15 [00:11<01:14,  5.71s/test]\u001b[A\n",
      " 20%|██        | 3/15 [00:20<01:22,  6.91s/test]\u001b[A\n",
      " 27%|██▋       | 4/15 [00:30<01:24,  7.66s/test]\u001b[A\n",
      " 33%|███▎      | 5/15 [00:40<01:21,  8.15s/test]\u001b[A\n",
      " 40%|████      | 6/15 [00:41<01:02,  6.94s/test]\u001b[A\n",
      " 47%|████▋     | 7/15 [00:43<00:49,  6.15s/test]\u001b[A\n",
      " 53%|█████▎    | 8/15 [00:44<00:39,  5.61s/test]\u001b[A\n",
      " 60%|██████    | 9/15 [00:46<00:31,  5.19s/test]\u001b[A\n",
      " 67%|██████▋   | 10/15 [00:48<00:24,  4.84s/test]\u001b[A\n",
      " 73%|███████▎  | 11/15 [00:50<00:18,  4.58s/test]\u001b[A\n",
      " 80%|████████  | 12/15 [00:52<00:13,  4.37s/test]\u001b[A\n",
      " 87%|████████▋ | 13/15 [00:54<00:08,  4.23s/test]\u001b[A\n",
      " 93%|█████████▎| 14/15 [00:57<00:04,  4.10s/test]\u001b[A\n",
      "100%|██████████| 15/15 [01:00<00:00,  4.03s/test]\u001b[A\n",
      "  7%|▋         | 1/15 [01:16<17:46, 76.17s/seed]"
     ]
    },
    {
     "name": "stdout",
     "output_type": "stream",
     "text": [
      "INFO:tensorflow:Restoring parameters from ckpts/W_D11_l3_nd30_np300_nt100_nv100_pto_ss100_ni5000_n05_k10_m0_b1_p50_nk3_c1_s01.ckpt\n"
     ]
    },
    {
     "name": "stderr",
     "output_type": "stream",
     "text": [
      "INFO: 2018-09-27 17:54:11,728: tf_logging.info(): Restoring parameters from ckpts/W_D11_l3_nd30_np300_nt100_nv100_pto_ss100_ni5000_n05_k10_m0_b1_p50_nk3_c1_s01.ckpt\n",
      "\n",
      "  0%|          | 0/15 [00:00<?, ?test/s]\u001b[A\n",
      "  7%|▋         | 1/15 [00:05<01:17,  5.52s/test]\u001b[A\n",
      " 13%|█▎        | 2/15 [00:13<01:25,  6.61s/test]\u001b[A\n",
      " 20%|██        | 3/15 [00:21<01:25,  7.09s/test]\u001b[A\n",
      " 27%|██▋       | 4/15 [00:31<01:25,  7.76s/test]\u001b[A\n",
      " 33%|███▎      | 5/15 [00:41<01:22,  8.25s/test]\u001b[A\n",
      " 40%|████      | 6/15 [00:42<01:03,  7.03s/test]\u001b[A\n",
      " 47%|████▋     | 7/15 [00:43<00:49,  6.23s/test]\u001b[A\n",
      " 53%|█████▎    | 8/15 [00:45<00:39,  5.67s/test]\u001b[A\n",
      " 60%|██████    | 9/15 [00:47<00:31,  5.23s/test]\u001b[A\n",
      " 67%|██████▋   | 10/15 [00:48<00:24,  4.87s/test]\u001b[A\n",
      " 73%|███████▎  | 11/15 [00:50<00:18,  4.60s/test]\u001b[A\n",
      " 80%|████████  | 12/15 [00:52<00:13,  4.38s/test]\u001b[A\n",
      " 87%|████████▋ | 13/15 [00:55<00:08,  4.23s/test]\u001b[A\n",
      " 93%|█████████▎| 14/15 [00:57<00:04,  4.11s/test]\u001b[A\n",
      "100%|██████████| 15/15 [01:00<00:00,  4.02s/test]\u001b[A\n",
      " 13%|█▎        | 2/15 [02:31<16:27, 75.95s/seed]"
     ]
    },
    {
     "name": "stdout",
     "output_type": "stream",
     "text": [
      "INFO:tensorflow:Restoring parameters from ckpts/W_D11_l3_nd30_np300_nt100_nv100_pto_ss100_ni5000_n05_k10_m0_b1_p50_nk3_c1_s02.ckpt\n"
     ]
    },
    {
     "name": "stderr",
     "output_type": "stream",
     "text": [
      "INFO: 2018-09-27 17:55:27,809: tf_logging.info(): Restoring parameters from ckpts/W_D11_l3_nd30_np300_nt100_nv100_pto_ss100_ni5000_n05_k10_m0_b1_p50_nk3_c1_s02.ckpt\n",
      "\n",
      "  0%|          | 0/15 [00:00<?, ?test/s]\u001b[A\n",
      "  7%|▋         | 1/15 [00:05<01:13,  5.23s/test]\u001b[A\n",
      " 13%|█▎        | 2/15 [00:12<01:23,  6.41s/test]\u001b[A\n",
      " 20%|██        | 3/15 [00:20<01:22,  6.85s/test]\u001b[A\n",
      " 27%|██▋       | 4/15 [00:30<01:24,  7.67s/test]\u001b[A\n",
      " 33%|███▎      | 5/15 [00:41<01:23,  8.34s/test]\u001b[A\n",
      " 40%|████      | 6/15 [00:42<01:03,  7.10s/test]\u001b[A\n",
      " 47%|████▋     | 7/15 [00:43<00:50,  6.28s/test]\u001b[A\n",
      " 53%|█████▎    | 8/15 [00:45<00:39,  5.71s/test]\u001b[A\n",
      " 60%|██████    | 9/15 [00:47<00:31,  5.27s/test]\u001b[A\n",
      " 67%|██████▋   | 10/15 [00:49<00:24,  4.90s/test]\u001b[A\n",
      " 73%|███████▎  | 11/15 [00:51<00:18,  4.64s/test]\u001b[A\n",
      " 80%|████████  | 12/15 [00:53<00:13,  4.42s/test]\u001b[A\n",
      " 87%|████████▋ | 13/15 [00:55<00:08,  4.28s/test]\u001b[A\n",
      " 93%|█████████▎| 14/15 [00:58<00:04,  4.15s/test]\u001b[A\n",
      "100%|██████████| 15/15 [01:00<00:00,  4.06s/test]\u001b[A\n",
      " 20%|██        | 3/15 [03:48<15:14, 76.17s/seed]"
     ]
    },
    {
     "name": "stdout",
     "output_type": "stream",
     "text": [
      "INFO:tensorflow:Restoring parameters from ckpts/W_D11_l3_nd30_np300_nt100_nv100_pto_ss100_ni5000_n05_k10_m0_b1_p50_nk3_c1_s03.ckpt\n"
     ]
    },
    {
     "name": "stderr",
     "output_type": "stream",
     "text": [
      "INFO: 2018-09-27 17:56:42,914: tf_logging.info(): Restoring parameters from ckpts/W_D11_l3_nd30_np300_nt100_nv100_pto_ss100_ni5000_n05_k10_m0_b1_p50_nk3_c1_s03.ckpt\n",
      "\n",
      "  0%|          | 0/15 [00:00<?, ?test/s]\u001b[A\n",
      "  7%|▋         | 1/15 [00:05<01:13,  5.23s/test]\u001b[A\n",
      " 13%|█▎        | 2/15 [00:11<01:13,  5.66s/test]\u001b[A\n",
      " 20%|██        | 3/15 [00:19<01:17,  6.42s/test]\u001b[A\n",
      " 27%|██▋       | 4/15 [00:29<01:20,  7.30s/test]\u001b[A\n",
      " 33%|███▎      | 5/15 [00:41<01:23,  8.35s/test]\u001b[A\n",
      " 40%|████      | 6/15 [00:42<01:04,  7.12s/test]\u001b[A\n",
      " 47%|████▋     | 7/15 [00:44<00:50,  6.31s/test]\u001b[A\n",
      " 53%|█████▎    | 8/15 [00:45<00:40,  5.74s/test]\u001b[A\n",
      " 60%|██████    | 9/15 [00:47<00:31,  5.31s/test]\u001b[A\n",
      " 67%|██████▋   | 10/15 [00:49<00:24,  4.94s/test]\u001b[A\n",
      " 73%|███████▎  | 11/15 [00:51<00:18,  4.68s/test]\u001b[A\n",
      " 80%|████████  | 12/15 [00:53<00:13,  4.45s/test]\u001b[A\n",
      " 87%|████████▋ | 13/15 [00:55<00:08,  4.30s/test]\u001b[A\n",
      " 93%|█████████▎| 14/15 [00:58<00:04,  4.17s/test]\u001b[A\n",
      "100%|██████████| 15/15 [01:01<00:00,  4.08s/test]\u001b[A\n",
      " 27%|██▋       | 4/15 [05:04<13:56, 76.03s/seed]"
     ]
    },
    {
     "name": "stdout",
     "output_type": "stream",
     "text": [
      "INFO:tensorflow:Restoring parameters from ckpts/W_D11_l3_nd30_np300_nt100_nv100_pto_ss100_ni5000_n05_k10_m0_b1_p50_nk3_c1_s04.ckpt\n"
     ]
    },
    {
     "name": "stderr",
     "output_type": "stream",
     "text": [
      "INFO: 2018-09-27 17:57:58,543: tf_logging.info(): Restoring parameters from ckpts/W_D11_l3_nd30_np300_nt100_nv100_pto_ss100_ni5000_n05_k10_m0_b1_p50_nk3_c1_s04.ckpt\n",
      "\n",
      "  0%|          | 0/15 [00:00<?, ?test/s]\u001b[A\n",
      "  7%|▋         | 1/15 [00:05<01:16,  5.49s/test]\u001b[A\n",
      " 13%|█▎        | 2/15 [00:11<01:15,  5.82s/test]\u001b[A\n",
      " 20%|██        | 3/15 [00:19<01:18,  6.56s/test]\u001b[A\n",
      " 27%|██▋       | 4/15 [00:29<01:21,  7.43s/test]\u001b[A\n",
      " 33%|███▎      | 5/15 [00:39<01:19,  7.97s/test]\u001b[A\n",
      " 40%|████      | 6/15 [00:40<01:01,  6.80s/test]\u001b[A\n",
      " 47%|████▋     | 7/15 [00:42<00:48,  6.02s/test]\u001b[A\n",
      " 53%|█████▎    | 8/15 [00:43<00:38,  5.48s/test]\u001b[A\n",
      " 60%|██████    | 9/15 [00:45<00:30,  5.07s/test]\u001b[A\n",
      " 67%|██████▋   | 10/15 [00:47<00:23,  4.73s/test]\u001b[A\n",
      " 73%|███████▎  | 11/15 [00:49<00:17,  4.48s/test]\u001b[A\n",
      " 80%|████████  | 12/15 [00:51<00:12,  4.26s/test]\u001b[A\n",
      " 87%|████████▋ | 13/15 [00:53<00:08,  4.12s/test]\u001b[A\n",
      " 93%|█████████▎| 14/15 [00:56<00:04,  4.01s/test]\u001b[A\n",
      "100%|██████████| 15/15 [00:58<00:00,  3.93s/test]\u001b[A\n",
      " 33%|███▎      | 5/15 [06:17<12:35, 75.53s/seed]"
     ]
    },
    {
     "name": "stdout",
     "output_type": "stream",
     "text": [
      "INFO:tensorflow:Restoring parameters from ckpts/W_D11_l3_nd30_np300_nt100_nv100_pto_ss100_ni5000_n05_k10_m0_b1_p50_nk3_c1_s05.ckpt\n"
     ]
    },
    {
     "name": "stderr",
     "output_type": "stream",
     "text": [
      "INFO: 2018-09-27 17:59:12,425: tf_logging.info(): Restoring parameters from ckpts/W_D11_l3_nd30_np300_nt100_nv100_pto_ss100_ni5000_n05_k10_m0_b1_p50_nk3_c1_s05.ckpt\n",
      "\n",
      "  0%|          | 0/15 [00:00<?, ?test/s]\u001b[A\n",
      "  7%|▋         | 1/15 [00:05<01:16,  5.49s/test]\u001b[A\n",
      " 13%|█▎        | 2/15 [00:13<01:30,  6.99s/test]\u001b[A\n",
      " 20%|██        | 3/15 [00:21<01:27,  7.26s/test]\u001b[A\n",
      " 27%|██▋       | 4/15 [00:31<01:26,  7.88s/test]\u001b[A\n",
      " 33%|███▎      | 5/15 [00:42<01:24,  8.49s/test]\u001b[A\n",
      " 40%|████      | 6/15 [00:43<01:05,  7.23s/test]\u001b[A\n",
      " 47%|████▋     | 7/15 [00:44<00:51,  6.39s/test]\u001b[A\n",
      " 53%|█████▎    | 8/15 [00:46<00:40,  5.83s/test]\u001b[A\n",
      " 60%|██████    | 9/15 [00:48<00:32,  5.38s/test]\u001b[A\n",
      " 67%|██████▋   | 10/15 [00:50<00:25,  5.01s/test]\u001b[A\n",
      " 73%|███████▎  | 11/15 [00:52<00:18,  4.74s/test]\u001b[A\n",
      " 80%|████████  | 12/15 [00:54<00:13,  4.51s/test]\u001b[A\n",
      " 87%|████████▋ | 13/15 [00:56<00:08,  4.36s/test]\u001b[A\n",
      " 93%|█████████▎| 14/15 [00:59<00:04,  4.23s/test]\u001b[A\n",
      "100%|██████████| 15/15 [01:02<00:00,  4.14s/test]\u001b[A\n",
      " 40%|████      | 6/15 [07:34<11:21, 75.74s/seed]"
     ]
    },
    {
     "name": "stdout",
     "output_type": "stream",
     "text": [
      "INFO:tensorflow:Restoring parameters from ckpts/W_D11_l3_nd30_np300_nt100_nv100_pto_ss100_ni5000_n05_k10_m0_b1_p50_nk3_c1_s06.ckpt\n"
     ]
    },
    {
     "name": "stderr",
     "output_type": "stream",
     "text": [
      "INFO: 2018-09-27 18:00:29,301: tf_logging.info(): Restoring parameters from ckpts/W_D11_l3_nd30_np300_nt100_nv100_pto_ss100_ni5000_n05_k10_m0_b1_p50_nk3_c1_s06.ckpt\n",
      "\n",
      "  0%|          | 0/15 [00:00<?, ?test/s]\u001b[A\n",
      "  7%|▋         | 1/15 [00:05<01:15,  5.41s/test]\u001b[A\n",
      " 13%|█▎        | 2/15 [00:11<01:14,  5.73s/test]\u001b[A\n",
      " 20%|██        | 3/15 [00:19<01:17,  6.42s/test]\u001b[A\n",
      " 27%|██▋       | 4/15 [00:29<01:20,  7.28s/test]\u001b[A\n",
      " 33%|███▎      | 5/15 [00:41<01:22,  8.26s/test]\u001b[A\n",
      " 40%|████      | 6/15 [00:42<01:03,  7.04s/test]\u001b[A\n",
      " 47%|████▋     | 7/15 [00:43<00:49,  6.24s/test]\u001b[A\n",
      " 53%|█████▎    | 8/15 [00:45<00:39,  5.68s/test]\u001b[A\n",
      " 60%|██████    | 9/15 [00:47<00:31,  5.25s/test]\u001b[A\n",
      " 67%|██████▋   | 10/15 [00:48<00:24,  4.89s/test]\u001b[A\n",
      " 73%|███████▎  | 11/15 [00:50<00:18,  4.62s/test]\u001b[A\n",
      " 80%|████████  | 12/15 [00:52<00:13,  4.39s/test]\u001b[A\n",
      " 87%|████████▋ | 13/15 [00:55<00:08,  4.23s/test]\u001b[A\n",
      " 93%|█████████▎| 14/15 [00:57<00:04,  4.11s/test]\u001b[A\n",
      "100%|██████████| 15/15 [01:00<00:00,  4.03s/test]\u001b[A\n",
      " 47%|████▋     | 7/15 [08:49<10:05, 75.70s/seed]"
     ]
    },
    {
     "name": "stdout",
     "output_type": "stream",
     "text": [
      "INFO:tensorflow:Restoring parameters from ckpts/W_D11_l3_nd30_np300_nt100_nv100_pto_ss100_ni5000_n05_k10_m0_b1_p50_nk3_c1_s07.ckpt\n"
     ]
    },
    {
     "name": "stderr",
     "output_type": "stream",
     "text": [
      "INFO: 2018-09-27 18:01:43,998: tf_logging.info(): Restoring parameters from ckpts/W_D11_l3_nd30_np300_nt100_nv100_pto_ss100_ni5000_n05_k10_m0_b1_p50_nk3_c1_s07.ckpt\n",
      "\n",
      "  0%|          | 0/15 [00:00<?, ?test/s]\u001b[A\n",
      "  7%|▋         | 1/15 [00:09<02:07,  9.14s/test]\u001b[A\n",
      " 13%|█▎        | 2/15 [00:15<01:40,  7.72s/test]\u001b[A\n",
      " 20%|██        | 3/15 [00:23<01:35,  7.94s/test]\u001b[A\n",
      " 27%|██▋       | 4/15 [00:33<01:31,  8.35s/test]\u001b[A\n",
      " 33%|███▎      | 5/15 [00:46<01:32,  9.29s/test]\u001b[A\n",
      " 40%|████      | 6/15 [00:47<01:11,  7.90s/test]\u001b[A\n",
      " 47%|████▋     | 7/15 [00:48<00:55,  6.98s/test]\u001b[A\n",
      " 53%|█████▎    | 8/15 [00:50<00:44,  6.34s/test]\u001b[A\n",
      " 60%|██████    | 9/15 [00:52<00:35,  5.85s/test]\u001b[A\n",
      " 67%|██████▋   | 10/15 [00:54<00:27,  5.44s/test]\u001b[A\n",
      " 73%|███████▎  | 11/15 [00:56<00:20,  5.13s/test]\u001b[A\n",
      " 80%|████████  | 12/15 [00:58<00:14,  4.88s/test]\u001b[A\n",
      " 87%|████████▋ | 13/15 [01:01<00:09,  4.70s/test]\u001b[A\n",
      " 93%|█████████▎| 14/15 [01:03<00:04,  4.55s/test]\u001b[A\n",
      "100%|██████████| 15/15 [01:06<00:00,  4.44s/test]\u001b[A\n",
      " 53%|█████▎    | 8/15 [10:10<08:54, 76.32s/seed]"
     ]
    },
    {
     "name": "stdout",
     "output_type": "stream",
     "text": [
      "INFO:tensorflow:Restoring parameters from ckpts/W_D11_l3_nd30_np300_nt100_nv100_pto_ss100_ni5000_n05_k10_m0_b1_p50_nk3_c1_s08.ckpt\n"
     ]
    },
    {
     "name": "stderr",
     "output_type": "stream",
     "text": [
      "INFO: 2018-09-27 18:03:05,718: tf_logging.info(): Restoring parameters from ckpts/W_D11_l3_nd30_np300_nt100_nv100_pto_ss100_ni5000_n05_k10_m0_b1_p50_nk3_c1_s08.ckpt\n",
      "\n",
      "  0%|          | 0/15 [00:00<?, ?test/s]\u001b[A\n",
      "  7%|▋         | 1/15 [00:05<01:12,  5.18s/test]\u001b[A\n",
      " 13%|█▎        | 2/15 [00:11<01:12,  5.56s/test]\u001b[A\n",
      " 20%|██        | 3/15 [00:19<01:16,  6.34s/test]\u001b[A\n",
      " 27%|██▋       | 4/15 [00:28<01:17,  7.05s/test]\u001b[A\n",
      " 33%|███▎      | 5/15 [00:38<01:16,  7.62s/test]\u001b[A\n",
      " 40%|████      | 6/15 [00:39<00:58,  6.52s/test]\u001b[A\n",
      " 47%|████▋     | 7/15 [00:40<00:46,  5.79s/test]\u001b[A\n",
      " 53%|█████▎    | 8/15 [00:42<00:37,  5.31s/test]\u001b[A\n",
      " 60%|██████    | 9/15 [00:44<00:29,  4.92s/test]\u001b[A\n",
      " 67%|██████▋   | 10/15 [00:45<00:22,  4.59s/test]\u001b[A\n",
      " 73%|███████▎  | 11/15 [00:47<00:17,  4.35s/test]\u001b[A\n",
      " 80%|████████  | 12/15 [00:49<00:12,  4.15s/test]\u001b[A\n",
      " 87%|████████▋ | 13/15 [00:52<00:08,  4.02s/test]\u001b[A\n",
      " 93%|█████████▎| 14/15 [00:54<00:03,  3.92s/test]\u001b[A\n",
      "100%|██████████| 15/15 [00:57<00:00,  3.85s/test]\u001b[A\n",
      " 60%|██████    | 9/15 [11:23<07:35, 75.93s/seed]"
     ]
    },
    {
     "name": "stdout",
     "output_type": "stream",
     "text": [
      "INFO:tensorflow:Restoring parameters from ckpts/W_D11_l3_nd30_np300_nt100_nv100_pto_ss100_ni5000_n05_k10_m0_b1_p50_nk3_c1_s09.ckpt\n"
     ]
    },
    {
     "name": "stderr",
     "output_type": "stream",
     "text": [
      "INFO: 2018-09-27 18:04:18,817: tf_logging.info(): Restoring parameters from ckpts/W_D11_l3_nd30_np300_nt100_nv100_pto_ss100_ni5000_n05_k10_m0_b1_p50_nk3_c1_s09.ckpt\n",
      "\n",
      "  0%|          | 0/15 [00:00<?, ?test/s]\u001b[A\n",
      "  7%|▋         | 1/15 [00:05<01:15,  5.37s/test]\u001b[A\n",
      " 13%|█▎        | 2/15 [00:13<01:27,  6.76s/test]\u001b[A\n",
      " 20%|██        | 3/15 [00:21<01:26,  7.19s/test]\u001b[A\n",
      " 27%|██▋       | 4/15 [00:31<01:26,  7.90s/test]\u001b[A\n",
      " 33%|███▎      | 5/15 [00:43<01:26,  8.70s/test]\u001b[A\n",
      " 40%|████      | 6/15 [00:44<01:06,  7.41s/test]\u001b[A\n",
      " 47%|████▋     | 7/15 [00:45<00:52,  6.55s/test]\u001b[A\n",
      " 53%|█████▎    | 8/15 [00:47<00:41,  5.96s/test]\u001b[A\n",
      " 60%|██████    | 9/15 [00:49<00:33,  5.51s/test]\u001b[A\n",
      " 67%|██████▋   | 10/15 [00:51<00:25,  5.12s/test]\u001b[A\n",
      " 73%|███████▎  | 11/15 [00:53<00:19,  4.84s/test]\u001b[A\n",
      " 80%|████████  | 12/15 [00:55<00:13,  4.61s/test]\u001b[A\n",
      " 87%|████████▋ | 13/15 [00:57<00:08,  4.45s/test]\u001b[A\n",
      " 93%|█████████▎| 14/15 [01:00<00:04,  4.33s/test]\u001b[A\n",
      "100%|██████████| 15/15 [01:03<00:00,  4.23s/test]\u001b[A\n",
      " 67%|██████▋   | 10/15 [12:42<06:21, 76.23s/seed]"
     ]
    },
    {
     "name": "stdout",
     "output_type": "stream",
     "text": [
      "INFO:tensorflow:Restoring parameters from ckpts/W_D11_l3_nd30_np300_nt100_nv100_pto_ss100_ni5000_n05_k10_m0_b1_p50_nk3_c1_s10.ckpt\n"
     ]
    },
    {
     "name": "stderr",
     "output_type": "stream",
     "text": [
      "INFO: 2018-09-27 18:05:36,995: tf_logging.info(): Restoring parameters from ckpts/W_D11_l3_nd30_np300_nt100_nv100_pto_ss100_ni5000_n05_k10_m0_b1_p50_nk3_c1_s10.ckpt\n",
      "\n",
      "  0%|          | 0/15 [00:00<?, ?test/s]\u001b[A\n",
      "  7%|▋         | 1/15 [00:05<01:14,  5.29s/test]\u001b[A\n",
      " 13%|█▎        | 2/15 [00:11<01:14,  5.73s/test]\u001b[A\n",
      " 20%|██        | 3/15 [00:19<01:17,  6.50s/test]\u001b[A\n",
      " 27%|██▋       | 4/15 [00:29<01:20,  7.31s/test]\u001b[A\n",
      " 33%|███▎      | 5/15 [00:42<01:24,  8.43s/test]\u001b[A\n",
      " 40%|████      | 6/15 [00:43<01:04,  7.18s/test]\u001b[A\n",
      " 47%|████▋     | 7/15 [00:44<00:50,  6.36s/test]\u001b[A\n",
      " 53%|█████▎    | 8/15 [00:46<00:40,  5.79s/test]\u001b[A\n",
      " 60%|██████    | 9/15 [00:48<00:32,  5.35s/test]\u001b[A\n",
      " 67%|██████▋   | 10/15 [00:49<00:24,  4.99s/test]\u001b[A\n",
      " 73%|███████▎  | 11/15 [00:51<00:18,  4.71s/test]\u001b[A\n",
      " 80%|████████  | 12/15 [00:53<00:13,  4.48s/test]\u001b[A\n",
      " 87%|████████▋ | 13/15 [00:56<00:08,  4.34s/test]\u001b[A\n",
      " 93%|█████████▎| 14/15 [00:58<00:04,  4.21s/test]\u001b[A\n",
      "100%|██████████| 15/15 [01:01<00:00,  4.12s/test]\u001b[A\n",
      " 73%|███████▎  | 11/15 [13:58<05:04, 76.24s/seed]"
     ]
    },
    {
     "name": "stdout",
     "output_type": "stream",
     "text": [
      "INFO:tensorflow:Restoring parameters from ckpts/W_D11_l3_nd30_np300_nt100_nv100_pto_ss100_ni5000_n05_k10_m0_b1_p50_nk3_c1_s11.ckpt\n"
     ]
    },
    {
     "name": "stderr",
     "output_type": "stream",
     "text": [
      "INFO: 2018-09-27 18:06:53,148: tf_logging.info(): Restoring parameters from ckpts/W_D11_l3_nd30_np300_nt100_nv100_pto_ss100_ni5000_n05_k10_m0_b1_p50_nk3_c1_s11.ckpt\n",
      "\n",
      "  0%|          | 0/15 [00:00<?, ?test/s]\u001b[A\n",
      "  7%|▋         | 1/15 [00:05<01:14,  5.32s/test]\u001b[A\n",
      " 13%|█▎        | 2/15 [00:11<01:13,  5.67s/test]\u001b[A\n",
      " 20%|██        | 3/15 [00:18<01:15,  6.31s/test]\u001b[A\n",
      " 27%|██▋       | 4/15 [00:28<01:19,  7.21s/test]\u001b[A\n",
      " 33%|███▎      | 5/15 [00:41<01:23,  8.38s/test]\u001b[A\n",
      " 40%|████      | 6/15 [00:42<01:04,  7.14s/test]\u001b[A\n",
      " 47%|████▋     | 7/15 [00:44<00:50,  6.32s/test]\u001b[A\n",
      " 53%|█████▎    | 8/15 [00:46<00:40,  5.76s/test]\u001b[A\n",
      " 60%|██████    | 9/15 [00:48<00:32,  5.34s/test]\u001b[A\n",
      " 67%|██████▋   | 10/15 [00:49<00:24,  4.97s/test]\u001b[A\n",
      " 73%|███████▎  | 11/15 [00:51<00:18,  4.71s/test]\u001b[A\n",
      " 80%|████████  | 12/15 [00:53<00:13,  4.49s/test]\u001b[A\n",
      " 87%|████████▋ | 13/15 [00:56<00:08,  4.35s/test]\u001b[A\n",
      " 93%|█████████▎| 14/15 [00:59<00:04,  4.22s/test]\u001b[A\n",
      "100%|██████████| 15/15 [01:02<00:00,  4.14s/test]\u001b[A\n",
      " 80%|████████  | 12/15 [15:15<03:48, 76.26s/seed]"
     ]
    },
    {
     "name": "stdout",
     "output_type": "stream",
     "text": [
      "INFO:tensorflow:Restoring parameters from ckpts/W_D11_l3_nd30_np300_nt100_nv100_pto_ss100_ni5000_n05_k10_m0_b1_p50_nk3_c1_s12.ckpt\n"
     ]
    },
    {
     "name": "stderr",
     "output_type": "stream",
     "text": [
      "INFO: 2018-09-27 18:08:10,273: tf_logging.info(): Restoring parameters from ckpts/W_D11_l3_nd30_np300_nt100_nv100_pto_ss100_ni5000_n05_k10_m0_b1_p50_nk3_c1_s12.ckpt\n",
      "\n",
      "  0%|          | 0/15 [00:00<?, ?test/s]\u001b[A\n",
      "  7%|▋         | 1/15 [00:05<01:14,  5.32s/test]\u001b[A\n",
      " 13%|█▎        | 2/15 [00:11<01:13,  5.62s/test]\u001b[A\n",
      " 20%|██        | 3/15 [00:19<01:17,  6.42s/test]\u001b[A\n",
      " 27%|██▋       | 4/15 [00:29<01:19,  7.27s/test]\u001b[A\n",
      " 33%|███▎      | 5/15 [00:39<01:18,  7.80s/test]\u001b[A\n",
      " 40%|████      | 6/15 [00:40<01:00,  6.67s/test]\u001b[A\n",
      " 47%|████▋     | 7/15 [00:41<00:47,  5.92s/test]\u001b[A\n",
      " 53%|█████▎    | 8/15 [00:43<00:37,  5.41s/test]\u001b[A\n",
      " 60%|██████    | 9/15 [00:45<00:30,  5.02s/test]\u001b[A\n",
      " 67%|██████▋   | 10/15 [00:46<00:23,  4.68s/test]\u001b[A\n",
      " 73%|███████▎  | 11/15 [00:48<00:17,  4.45s/test]\u001b[A\n",
      " 80%|████████  | 12/15 [00:51<00:12,  4.25s/test]\u001b[A\n",
      " 87%|████████▋ | 13/15 [00:53<00:08,  4.12s/test]\u001b[A\n",
      " 93%|█████████▎| 14/15 [00:56<00:04,  4.01s/test]\u001b[A\n",
      "100%|██████████| 15/15 [00:58<00:00,  3.93s/test]\u001b[A\n",
      " 87%|████████▋ | 13/15 [16:29<02:32, 76.09s/seed]"
     ]
    },
    {
     "name": "stdout",
     "output_type": "stream",
     "text": [
      "INFO:tensorflow:Restoring parameters from ckpts/W_D11_l3_nd30_np300_nt100_nv100_pto_ss100_ni5000_n05_k10_m0_b1_p50_nk3_c1_s13.ckpt\n"
     ]
    },
    {
     "name": "stderr",
     "output_type": "stream",
     "text": [
      "INFO: 2018-09-27 18:09:25,348: tf_logging.info(): Restoring parameters from ckpts/W_D11_l3_nd30_np300_nt100_nv100_pto_ss100_ni5000_n05_k10_m0_b1_p50_nk3_c1_s13.ckpt\n",
      "\n",
      "  0%|          | 0/15 [00:00<?, ?test/s]\u001b[A\n",
      "  7%|▋         | 1/15 [00:05<01:15,  5.40s/test]\u001b[A\n",
      " 13%|█▎        | 2/15 [00:13<01:26,  6.66s/test]\u001b[A\n",
      " 20%|██        | 3/15 [00:21<01:25,  7.13s/test]\u001b[A\n",
      " 27%|██▋       | 4/15 [00:31<01:25,  7.79s/test]\u001b[A\n",
      " 33%|███▎      | 5/15 [00:42<01:25,  8.55s/test]\u001b[A\n",
      " 40%|████      | 6/15 [00:43<01:05,  7.29s/test]\u001b[A\n",
      " 47%|████▋     | 7/15 [00:45<00:51,  6.45s/test]\u001b[A\n",
      " 53%|█████▎    | 8/15 [00:46<00:41,  5.87s/test]\u001b[A\n",
      " 60%|██████    | 9/15 [00:48<00:32,  5.41s/test]\u001b[A\n",
      " 67%|██████▋   | 10/15 [00:50<00:25,  5.05s/test]\u001b[A\n",
      " 73%|███████▎  | 11/15 [00:52<00:19,  4.78s/test]\u001b[A\n",
      " 80%|████████  | 12/15 [00:54<00:13,  4.55s/test]\u001b[A\n",
      " 87%|████████▋ | 13/15 [00:57<00:08,  4.39s/test]\u001b[A\n",
      " 93%|█████████▎| 14/15 [00:59<00:04,  4.26s/test]\u001b[A\n",
      "100%|██████████| 15/15 [01:02<00:00,  4.18s/test]\u001b[A\n",
      " 93%|█████████▎| 14/15 [17:47<01:16, 76.28s/seed]"
     ]
    },
    {
     "name": "stdout",
     "output_type": "stream",
     "text": [
      "INFO:tensorflow:Restoring parameters from ckpts/W_D11_l3_nd30_np300_nt100_nv100_pto_ss100_ni5000_n05_k10_m0_b1_p50_nk3_c1_s14.ckpt\n"
     ]
    },
    {
     "name": "stderr",
     "output_type": "stream",
     "text": [
      "INFO: 2018-09-27 18:10:42,725: tf_logging.info(): Restoring parameters from ckpts/W_D11_l3_nd30_np300_nt100_nv100_pto_ss100_ni5000_n05_k10_m0_b1_p50_nk3_c1_s14.ckpt\n",
      "\n",
      "  0%|          | 0/15 [00:00<?, ?test/s]\u001b[A\n",
      "  7%|▋         | 1/15 [00:05<01:15,  5.42s/test]\u001b[A\n",
      " 13%|█▎        | 2/15 [00:11<01:15,  5.77s/test]\u001b[A\n",
      " 20%|██        | 3/15 [00:19<01:18,  6.50s/test]\u001b[A\n",
      " 27%|██▋       | 4/15 [00:28<01:19,  7.22s/test]\u001b[A\n",
      " 33%|███▎      | 5/15 [00:41<01:22,  8.26s/test]\u001b[A\n",
      " 40%|████      | 6/15 [00:42<01:03,  7.04s/test]\u001b[A\n",
      " 47%|████▋     | 7/15 [00:43<00:49,  6.25s/test]\u001b[A\n",
      " 53%|█████▎    | 8/15 [00:45<00:39,  5.70s/test]\u001b[A\n",
      " 60%|██████    | 9/15 [00:47<00:31,  5.28s/test]\u001b[A\n",
      " 67%|██████▋   | 10/15 [00:49<00:24,  4.91s/test]\u001b[A\n",
      " 73%|███████▎  | 11/15 [00:51<00:18,  4.65s/test]\u001b[A\n",
      " 80%|████████  | 12/15 [00:53<00:13,  4.42s/test]\u001b[A\n",
      " 87%|████████▋ | 13/15 [00:55<00:08,  4.27s/test]\u001b[A\n",
      " 93%|█████████▎| 14/15 [00:58<00:04,  4.15s/test]\u001b[A\n",
      "100%|██████████| 15/15 [01:00<00:00,  4.06s/test]\u001b[A\n",
      "100%|██████████| 15/15 [19:03<00:00, 76.22s/seed]\n",
      "  0%|          | 0/15 [00:00<?, ?seed/s]"
     ]
    },
    {
     "name": "stdout",
     "output_type": "stream",
     "text": [
      "INFO:tensorflow:Restoring parameters from ckpts/P_D15_l3_nd30_np300_nt100_nv100_pto_ss100_ni5000_n05_k10_m0_b1_p50_nk3_c1_s00.ckpt\n"
     ]
    },
    {
     "name": "stderr",
     "output_type": "stream",
     "text": [
      "INFO: 2018-09-27 18:11:59,511: tf_logging.info(): Restoring parameters from ckpts/P_D15_l3_nd30_np300_nt100_nv100_pto_ss100_ni5000_n05_k10_m0_b1_p50_nk3_c1_s00.ckpt\n",
      "\n",
      "  0%|          | 0/15 [00:00<?, ?test/s]\u001b[A\n",
      "  7%|▋         | 1/15 [00:05<01:18,  5.58s/test]\u001b[A\n",
      " 13%|█▎        | 2/15 [00:11<01:17,  5.97s/test]\u001b[A\n",
      " 20%|██        | 3/15 [00:20<01:22,  6.85s/test]\u001b[A\n",
      " 27%|██▋       | 4/15 [00:30<01:25,  7.73s/test]\u001b[A\n",
      " 33%|███▎      | 5/15 [00:40<01:21,  8.18s/test]\u001b[A\n",
      " 40%|████      | 6/15 [00:41<01:02,  6.98s/test]\u001b[A\n",
      " 47%|████▋     | 7/15 [00:43<00:49,  6.18s/test]\u001b[A\n",
      " 53%|█████▎    | 8/15 [00:45<00:39,  5.63s/test]\u001b[A\n",
      " 60%|██████    | 9/15 [00:46<00:31,  5.20s/test]\u001b[A\n",
      " 67%|██████▋   | 10/15 [00:48<00:24,  4.84s/test]\u001b[A\n",
      " 73%|███████▎  | 11/15 [00:50<00:18,  4.59s/test]\u001b[A\n",
      " 80%|████████  | 12/15 [00:52<00:13,  4.38s/test]\u001b[A\n",
      " 87%|████████▋ | 13/15 [00:55<00:08,  4.24s/test]\u001b[A\n",
      " 93%|█████████▎| 14/15 [00:57<00:04,  4.13s/test]\u001b[A\n",
      "100%|██████████| 15/15 [01:00<00:00,  4.05s/test]\u001b[A\n",
      "  7%|▋         | 1/15 [01:16<17:56, 76.87s/seed]"
     ]
    },
    {
     "name": "stdout",
     "output_type": "stream",
     "text": [
      "INFO:tensorflow:Restoring parameters from ckpts/P_D15_l3_nd30_np300_nt100_nv100_pto_ss100_ni5000_n05_k10_m0_b1_p50_nk3_c1_s01.ckpt\n"
     ]
    },
    {
     "name": "stderr",
     "output_type": "stream",
     "text": [
      "INFO: 2018-09-27 18:13:16,753: tf_logging.info(): Restoring parameters from ckpts/P_D15_l3_nd30_np300_nt100_nv100_pto_ss100_ni5000_n05_k10_m0_b1_p50_nk3_c1_s01.ckpt\n",
      "\n",
      "  0%|          | 0/15 [00:00<?, ?test/s]\u001b[A\n",
      "  7%|▋         | 1/15 [00:05<01:16,  5.48s/test]\u001b[A\n",
      " 13%|█▎        | 2/15 [00:11<01:15,  5.84s/test]\u001b[A\n",
      " 20%|██        | 3/15 [00:19<01:19,  6.61s/test]\u001b[A\n",
      " 27%|██▋       | 4/15 [00:29<01:21,  7.37s/test]\u001b[A\n",
      " 33%|███▎      | 5/15 [00:39<01:19,  7.92s/test]\u001b[A\n",
      " 40%|████      | 6/15 [00:40<01:00,  6.77s/test]\u001b[A\n",
      " 47%|████▋     | 7/15 [00:42<00:48,  6.01s/test]\u001b[A\n",
      " 53%|█████▎    | 8/15 [00:43<00:38,  5.48s/test]\u001b[A\n",
      " 60%|██████    | 9/15 [00:45<00:30,  5.06s/test]\u001b[A\n",
      " 67%|██████▋   | 10/15 [00:47<00:23,  4.72s/test]\u001b[A\n",
      " 73%|███████▎  | 11/15 [00:49<00:17,  4.48s/test]\u001b[A\n",
      " 80%|████████  | 12/15 [00:51<00:12,  4.27s/test]\u001b[A\n",
      " 87%|████████▋ | 13/15 [00:53<00:08,  4.14s/test]\u001b[A\n",
      " 93%|█████████▎| 14/15 [00:56<00:04,  4.03s/test]\u001b[A\n",
      "100%|██████████| 15/15 [00:59<00:00,  3.95s/test]\u001b[A\n",
      " 13%|█▎        | 2/15 [02:32<16:32, 76.36s/seed]"
     ]
    },
    {
     "name": "stdout",
     "output_type": "stream",
     "text": [
      "INFO:tensorflow:Restoring parameters from ckpts/P_D15_l3_nd30_np300_nt100_nv100_pto_ss100_ni5000_n05_k10_m0_b1_p50_nk3_c1_s02.ckpt\n"
     ]
    },
    {
     "name": "stderr",
     "output_type": "stream",
     "text": [
      "INFO: 2018-09-27 18:14:30,889: tf_logging.info(): Restoring parameters from ckpts/P_D15_l3_nd30_np300_nt100_nv100_pto_ss100_ni5000_n05_k10_m0_b1_p50_nk3_c1_s02.ckpt\n",
      "\n",
      "  0%|          | 0/15 [00:00<?, ?test/s]\u001b[A\n",
      "  7%|▋         | 1/15 [00:05<01:16,  5.46s/test]\u001b[A\n",
      " 13%|█▎        | 2/15 [00:14<01:32,  7.08s/test]\u001b[A\n",
      " 20%|██        | 3/15 [00:22<01:28,  7.36s/test]\u001b[A\n",
      " 27%|██▋       | 4/15 [00:31<01:27,  7.94s/test]\u001b[A\n",
      " 33%|███▎      | 5/15 [00:42<01:25,  8.56s/test]\u001b[A\n",
      " 40%|████      | 6/15 [00:43<01:05,  7.28s/test]\u001b[A\n",
      " 47%|████▋     | 7/15 [00:45<00:51,  6.43s/test]\u001b[A\n",
      " 53%|█████▎    | 8/15 [00:46<00:40,  5.84s/test]\u001b[A\n",
      " 60%|██████    | 9/15 [00:48<00:32,  5.39s/test]\u001b[A\n",
      " 67%|██████▋   | 10/15 [00:50<00:25,  5.02s/test]\u001b[A\n",
      " 73%|███████▎  | 11/15 [00:52<00:18,  4.74s/test]\u001b[A\n",
      " 80%|████████  | 12/15 [00:54<00:13,  4.52s/test]\u001b[A\n",
      " 87%|████████▋ | 13/15 [00:56<00:08,  4.36s/test]\u001b[A\n",
      " 93%|█████████▎| 14/15 [00:59<00:04,  4.23s/test]\u001b[A\n",
      "100%|██████████| 15/15 [01:02<00:00,  4.15s/test]\u001b[A\n",
      " 20%|██        | 3/15 [03:50<15:20, 76.70s/seed]"
     ]
    },
    {
     "name": "stdout",
     "output_type": "stream",
     "text": [
      "INFO:tensorflow:Restoring parameters from ckpts/P_D15_l3_nd30_np300_nt100_nv100_pto_ss100_ni5000_n05_k10_m0_b1_p50_nk3_c1_s03.ckpt\n"
     ]
    },
    {
     "name": "stderr",
     "output_type": "stream",
     "text": [
      "INFO: 2018-09-27 18:15:48,916: tf_logging.info(): Restoring parameters from ckpts/P_D15_l3_nd30_np300_nt100_nv100_pto_ss100_ni5000_n05_k10_m0_b1_p50_nk3_c1_s03.ckpt\n",
      "\n",
      "  0%|          | 0/15 [00:00<?, ?test/s]\u001b[A\n",
      "  7%|▋         | 1/15 [00:05<01:17,  5.53s/test]\u001b[A\n",
      " 13%|█▎        | 2/15 [00:11<01:14,  5.74s/test]\u001b[A\n",
      " 20%|██        | 3/15 [00:19<01:17,  6.45s/test]\u001b[A\n",
      " 27%|██▋       | 4/15 [00:28<01:18,  7.16s/test]\u001b[A\n",
      " 33%|███▎      | 5/15 [00:42<01:24,  8.44s/test]\u001b[A\n",
      " 40%|████      | 6/15 [00:43<01:04,  7.18s/test]\u001b[A\n",
      " 47%|████▋     | 7/15 [00:44<00:50,  6.36s/test]\u001b[A\n",
      " 53%|█████▎    | 8/15 [00:46<00:40,  5.79s/test]\u001b[A\n",
      " 60%|██████    | 9/15 [00:48<00:32,  5.34s/test]\u001b[A\n",
      " 67%|██████▋   | 10/15 [00:49<00:24,  4.98s/test]\u001b[A\n",
      " 73%|███████▎  | 11/15 [00:51<00:18,  4.71s/test]\u001b[A\n",
      " 80%|████████  | 12/15 [00:53<00:13,  4.48s/test]\u001b[A\n",
      " 87%|████████▋ | 13/15 [00:56<00:08,  4.33s/test]\u001b[A\n",
      " 93%|█████████▎| 14/15 [00:58<00:04,  4.20s/test]\u001b[A\n",
      "100%|██████████| 15/15 [01:01<00:00,  4.11s/test]\u001b[A\n",
      " 27%|██▋       | 4/15 [05:07<14:04, 76.80s/seed]"
     ]
    },
    {
     "name": "stdout",
     "output_type": "stream",
     "text": [
      "INFO:tensorflow:Restoring parameters from ckpts/P_D15_l3_nd30_np300_nt100_nv100_pto_ss100_ni5000_n05_k10_m0_b1_p50_nk3_c1_s04.ckpt\n"
     ]
    },
    {
     "name": "stderr",
     "output_type": "stream",
     "text": [
      "INFO: 2018-09-27 18:17:06,320: tf_logging.info(): Restoring parameters from ckpts/P_D15_l3_nd30_np300_nt100_nv100_pto_ss100_ni5000_n05_k10_m0_b1_p50_nk3_c1_s04.ckpt\n",
      "\n",
      "  0%|          | 0/15 [00:00<?, ?test/s]\u001b[A\n",
      "  7%|▋         | 1/15 [00:05<01:14,  5.33s/test]\u001b[A\n",
      " 13%|█▎        | 2/15 [00:11<01:14,  5.70s/test]\u001b[A\n",
      " 20%|██        | 3/15 [00:19<01:17,  6.44s/test]\u001b[A\n",
      " 27%|██▋       | 4/15 [00:28<01:18,  7.17s/test]\u001b[A\n",
      " 33%|███▎      | 5/15 [00:38<01:17,  7.77s/test]\u001b[A\n",
      " 40%|████      | 6/15 [00:39<00:59,  6.63s/test]\u001b[A\n",
      " 47%|████▋     | 7/15 [00:41<00:47,  5.88s/test]\u001b[A\n",
      " 53%|█████▎    | 8/15 [00:42<00:37,  5.37s/test]\u001b[A\n",
      " 60%|██████    | 9/15 [00:44<00:29,  4.98s/test]\u001b[A\n",
      " 67%|██████▋   | 10/15 [00:46<00:23,  4.65s/test]\u001b[A\n",
      " 73%|███████▎  | 11/15 [00:48<00:17,  4.41s/test]\u001b[A\n",
      " 80%|████████  | 12/15 [00:50<00:12,  4.21s/test]\u001b[A\n",
      " 87%|████████▋ | 13/15 [00:53<00:08,  4.09s/test]\u001b[A\n",
      " 93%|█████████▎| 14/15 [00:55<00:03,  3.98s/test]\u001b[A\n",
      "100%|██████████| 15/15 [00:58<00:00,  3.91s/test]\u001b[A\n",
      " 33%|███▎      | 5/15 [06:21<12:43, 76.36s/seed]"
     ]
    },
    {
     "name": "stdout",
     "output_type": "stream",
     "text": [
      "INFO:tensorflow:Restoring parameters from ckpts/P_D15_l3_nd30_np300_nt100_nv100_pto_ss100_ni5000_n05_k10_m0_b1_p50_nk3_c1_s05.ckpt\n"
     ]
    },
    {
     "name": "stderr",
     "output_type": "stream",
     "text": [
      "INFO: 2018-09-27 18:18:20,012: tf_logging.info(): Restoring parameters from ckpts/P_D15_l3_nd30_np300_nt100_nv100_pto_ss100_ni5000_n05_k10_m0_b1_p50_nk3_c1_s05.ckpt\n",
      "\n",
      "  0%|          | 0/15 [00:00<?, ?test/s]\u001b[A\n",
      "  7%|▋         | 1/15 [00:05<01:16,  5.49s/test]\u001b[A\n",
      " 13%|█▎        | 2/15 [00:13<01:29,  6.88s/test]\u001b[A\n",
      " 20%|██        | 3/15 [00:21<01:26,  7.24s/test]\u001b[A\n",
      " 27%|██▋       | 4/15 [00:31<01:26,  7.85s/test]\u001b[A\n",
      " 33%|███▎      | 5/15 [00:42<01:25,  8.51s/test]\u001b[A\n",
      " 40%|████      | 6/15 [00:43<01:05,  7.27s/test]\u001b[A\n",
      " 47%|████▋     | 7/15 [00:45<00:51,  6.44s/test]\u001b[A\n",
      " 53%|█████▎    | 8/15 [00:46<00:41,  5.86s/test]\u001b[A\n",
      " 60%|██████    | 9/15 [00:48<00:32,  5.42s/test]\u001b[A\n",
      " 67%|██████▋   | 10/15 [00:50<00:25,  5.04s/test]\u001b[A\n",
      " 73%|███████▎  | 11/15 [00:52<00:19,  4.76s/test]\u001b[A\n",
      " 80%|████████  | 12/15 [00:54<00:13,  4.54s/test]\u001b[A\n",
      " 87%|████████▋ | 13/15 [00:56<00:08,  4.38s/test]\u001b[A\n",
      " 93%|█████████▎| 14/15 [00:59<00:04,  4.24s/test]\u001b[A\n",
      "100%|██████████| 15/15 [01:02<00:00,  4.15s/test]\u001b[A\n",
      " 40%|████      | 6/15 [07:39<11:28, 76.53s/seed]"
     ]
    },
    {
     "name": "stdout",
     "output_type": "stream",
     "text": [
      "INFO:tensorflow:Restoring parameters from ckpts/P_D15_l3_nd30_np300_nt100_nv100_pto_ss100_ni5000_n05_k10_m0_b1_p50_nk3_c1_s06.ckpt\n"
     ]
    },
    {
     "name": "stderr",
     "output_type": "stream",
     "text": [
      "INFO: 2018-09-27 18:19:38,082: tf_logging.info(): Restoring parameters from ckpts/P_D15_l3_nd30_np300_nt100_nv100_pto_ss100_ni5000_n05_k10_m0_b1_p50_nk3_c1_s06.ckpt\n",
      "\n",
      "  0%|          | 0/15 [00:00<?, ?test/s]\u001b[A\n",
      "  7%|▋         | 1/15 [00:05<01:14,  5.35s/test]\u001b[A\n",
      " 13%|█▎        | 2/15 [00:14<01:36,  7.41s/test]\u001b[A\n",
      " 20%|██        | 3/15 [00:22<01:31,  7.60s/test]\u001b[A\n",
      " 27%|██▋       | 4/15 [00:32<01:29,  8.13s/test]\u001b[A\n",
      " 33%|███▎      | 5/15 [00:44<01:28,  8.90s/test]\u001b[A\n",
      " 40%|████      | 6/15 [00:45<01:08,  7.59s/test]\u001b[A\n",
      " 47%|████▋     | 7/15 [00:46<00:53,  6.71s/test]\u001b[A\n",
      " 53%|█████▎    | 8/15 [00:48<00:42,  6.11s/test]\u001b[A\n",
      " 60%|██████    | 9/15 [00:50<00:33,  5.62s/test]\u001b[A\n",
      " 67%|██████▋   | 10/15 [00:52<00:26,  5.22s/test]\u001b[A\n",
      " 73%|███████▎  | 11/15 [00:54<00:19,  4.92s/test]\u001b[A\n",
      " 80%|████████  | 12/15 [00:56<00:14,  4.67s/test]\u001b[A\n",
      " 87%|████████▋ | 13/15 [00:58<00:09,  4.51s/test]\u001b[A\n",
      " 93%|█████████▎| 14/15 [01:01<00:04,  4.37s/test]\u001b[A\n",
      "100%|██████████| 15/15 [01:04<00:00,  4.27s/test]\u001b[A\n",
      " 47%|████▋     | 7/15 [08:59<10:16, 77.03s/seed]"
     ]
    },
    {
     "name": "stdout",
     "output_type": "stream",
     "text": [
      "INFO:tensorflow:Restoring parameters from ckpts/P_D15_l3_nd30_np300_nt100_nv100_pto_ss100_ni5000_n05_k10_m0_b1_p50_nk3_c1_s07.ckpt\n"
     ]
    },
    {
     "name": "stderr",
     "output_type": "stream",
     "text": [
      "INFO: 2018-09-27 18:20:56,972: tf_logging.info(): Restoring parameters from ckpts/P_D15_l3_nd30_np300_nt100_nv100_pto_ss100_ni5000_n05_k10_m0_b1_p50_nk3_c1_s07.ckpt\n",
      "\n",
      "  0%|          | 0/15 [00:00<?, ?test/s]\u001b[A\n",
      "  7%|▋         | 1/15 [00:05<01:15,  5.38s/test]\u001b[A\n",
      " 13%|█▎        | 2/15 [00:11<01:15,  5.80s/test]\u001b[A\n",
      " 20%|██        | 3/15 [00:19<01:17,  6.46s/test]\u001b[A\n",
      " 27%|██▋       | 4/15 [00:29<01:20,  7.29s/test]\u001b[A\n",
      " 33%|███▎      | 5/15 [00:41<01:22,  8.28s/test]\u001b[A\n",
      " 40%|████      | 6/15 [00:42<01:03,  7.06s/test]\u001b[A\n",
      " 47%|████▋     | 7/15 [00:43<00:50,  6.26s/test]\u001b[A\n",
      " 53%|█████▎    | 8/15 [00:45<00:39,  5.70s/test]\u001b[A\n",
      " 60%|██████    | 9/15 [00:47<00:31,  5.26s/test]\u001b[A\n",
      " 67%|██████▋   | 10/15 [00:49<00:24,  4.91s/test]\u001b[A\n",
      " 73%|███████▎  | 11/15 [00:51<00:18,  4.65s/test]\u001b[A\n",
      " 80%|████████  | 12/15 [00:53<00:13,  4.43s/test]\u001b[A\n",
      " 87%|████████▋ | 13/15 [00:55<00:08,  4.28s/test]\u001b[A\n",
      " 93%|█████████▎| 14/15 [00:58<00:04,  4.17s/test]\u001b[A\n",
      "100%|██████████| 15/15 [01:01<00:00,  4.09s/test]\u001b[A\n",
      " 53%|█████▎    | 8/15 [10:14<08:57, 76.85s/seed]"
     ]
    },
    {
     "name": "stdout",
     "output_type": "stream",
     "text": [
      "INFO:tensorflow:Restoring parameters from ckpts/P_D15_l3_nd30_np300_nt100_nv100_pto_ss100_ni5000_n05_k10_m0_b1_p50_nk3_c1_s08.ckpt\n"
     ]
    },
    {
     "name": "stderr",
     "output_type": "stream",
     "text": [
      "INFO: 2018-09-27 18:22:12,923: tf_logging.info(): Restoring parameters from ckpts/P_D15_l3_nd30_np300_nt100_nv100_pto_ss100_ni5000_n05_k10_m0_b1_p50_nk3_c1_s08.ckpt\n",
      "\n",
      "  0%|          | 0/15 [00:00<?, ?test/s]\u001b[A\n",
      "  7%|▋         | 1/15 [00:05<01:19,  5.65s/test]\u001b[A\n",
      " 13%|█▎        | 2/15 [00:11<01:16,  5.90s/test]\u001b[A\n",
      " 20%|██        | 3/15 [00:19<01:19,  6.60s/test]\u001b[A\n",
      " 27%|██▋       | 4/15 [00:29<01:20,  7.33s/test]\u001b[A\n",
      " 33%|███▎      | 5/15 [00:39<01:18,  7.90s/test]\u001b[A\n",
      " 40%|████      | 6/15 [00:40<01:00,  6.74s/test]\u001b[A\n",
      " 47%|████▋     | 7/15 [00:41<00:47,  5.98s/test]\u001b[A\n",
      " 53%|█████▎    | 8/15 [00:43<00:38,  5.46s/test]\u001b[A\n",
      " 60%|██████    | 9/15 [00:45<00:30,  5.06s/test]\u001b[A\n",
      " 67%|██████▋   | 10/15 [00:47<00:23,  4.73s/test]\u001b[A\n",
      " 73%|███████▎  | 11/15 [00:49<00:17,  4.48s/test]\u001b[A\n",
      " 80%|████████  | 12/15 [00:51<00:12,  4.28s/test]\u001b[A\n",
      " 87%|████████▋ | 13/15 [00:53<00:08,  4.14s/test]\u001b[A\n",
      " 93%|█████████▎| 14/15 [00:56<00:04,  4.03s/test]\u001b[A\n",
      "100%|██████████| 15/15 [00:59<00:00,  3.95s/test]\u001b[A\n",
      " 60%|██████    | 9/15 [11:28<07:39, 76.55s/seed]"
     ]
    },
    {
     "name": "stdout",
     "output_type": "stream",
     "text": [
      "INFO:tensorflow:Restoring parameters from ckpts/P_D15_l3_nd30_np300_nt100_nv100_pto_ss100_ni5000_n05_k10_m0_b1_p50_nk3_c1_s09.ckpt\n"
     ]
    },
    {
     "name": "stderr",
     "output_type": "stream",
     "text": [
      "INFO: 2018-09-27 18:23:27,860: tf_logging.info(): Restoring parameters from ckpts/P_D15_l3_nd30_np300_nt100_nv100_pto_ss100_ni5000_n05_k10_m0_b1_p50_nk3_c1_s09.ckpt\n",
      "\n",
      "  0%|          | 0/15 [00:00<?, ?test/s]\u001b[A\n",
      "  7%|▋         | 1/15 [00:05<01:16,  5.49s/test]\u001b[A\n",
      " 13%|█▎        | 2/15 [00:13<01:26,  6.65s/test]\u001b[A\n",
      " 20%|██        | 3/15 [00:21<01:25,  7.08s/test]\u001b[A\n",
      " 27%|██▋       | 4/15 [00:30<01:25,  7.75s/test]\u001b[A\n",
      " 33%|███▎      | 5/15 [00:42<01:25,  8.54s/test]\u001b[A\n",
      " 40%|████      | 6/15 [00:43<01:05,  7.29s/test]\u001b[A\n",
      " 47%|████▋     | 7/15 [00:45<00:51,  6.46s/test]\u001b[A\n",
      " 53%|█████▎    | 8/15 [00:46<00:41,  5.87s/test]\u001b[A\n",
      " 60%|██████    | 9/15 [00:48<00:32,  5.42s/test]\u001b[A\n",
      " 67%|██████▋   | 10/15 [00:50<00:25,  5.04s/test]\u001b[A\n",
      " 73%|███████▎  | 11/15 [00:52<00:19,  4.78s/test]\u001b[A\n",
      " 80%|████████  | 12/15 [00:54<00:13,  4.55s/test]\u001b[A\n",
      " 87%|████████▋ | 13/15 [00:57<00:08,  4.40s/test]\u001b[A\n",
      " 93%|█████████▎| 14/15 [00:59<00:04,  4.26s/test]\u001b[A\n",
      "100%|██████████| 15/15 [01:02<00:00,  4.18s/test]\u001b[A\n",
      " 67%|██████▋   | 10/15 [12:47<06:23, 76.72s/seed]"
     ]
    },
    {
     "name": "stdout",
     "output_type": "stream",
     "text": [
      "INFO:tensorflow:Restoring parameters from ckpts/P_D15_l3_nd30_np300_nt100_nv100_pto_ss100_ni5000_n05_k10_m0_b1_p50_nk3_c1_s10.ckpt\n"
     ]
    },
    {
     "name": "stderr",
     "output_type": "stream",
     "text": [
      "INFO: 2018-09-27 18:24:44,747: tf_logging.info(): Restoring parameters from ckpts/P_D15_l3_nd30_np300_nt100_nv100_pto_ss100_ni5000_n05_k10_m0_b1_p50_nk3_c1_s10.ckpt\n",
      "\n",
      "  0%|          | 0/15 [00:00<?, ?test/s]\u001b[A\n",
      "  7%|▋         | 1/15 [00:05<01:18,  5.62s/test]\u001b[A\n",
      " 13%|█▎        | 2/15 [00:11<01:16,  5.90s/test]\u001b[A\n",
      " 20%|██        | 3/15 [00:20<01:20,  6.67s/test]\u001b[A\n",
      " 27%|██▋       | 4/15 [00:30<01:23,  7.57s/test]\u001b[A\n",
      " 33%|███▎      | 5/15 [00:42<01:24,  8.42s/test]\u001b[A\n",
      " 40%|████      | 6/15 [00:43<01:04,  7.18s/test]\u001b[A\n",
      " 47%|████▋     | 7/15 [00:44<00:50,  6.35s/test]\u001b[A\n",
      " 53%|█████▎    | 8/15 [00:46<00:40,  5.79s/test]\u001b[A\n",
      " 60%|██████    | 9/15 [00:48<00:32,  5.35s/test]\u001b[A\n",
      " 67%|██████▋   | 10/15 [00:49<00:24,  4.98s/test]\u001b[A\n",
      " 73%|███████▎  | 11/15 [00:51<00:18,  4.71s/test]\u001b[A\n",
      " 80%|████████  | 12/15 [00:53<00:13,  4.50s/test]\u001b[A\n",
      " 87%|████████▋ | 13/15 [00:56<00:08,  4.34s/test]\u001b[A\n",
      " 93%|█████████▎| 14/15 [00:59<00:04,  4.22s/test]\u001b[A\n",
      "100%|██████████| 15/15 [01:01<00:00,  4.13s/test]\u001b[A\n",
      " 73%|███████▎  | 11/15 [14:03<05:06, 76.67s/seed]"
     ]
    },
    {
     "name": "stdout",
     "output_type": "stream",
     "text": [
      "INFO:tensorflow:Restoring parameters from ckpts/P_D15_l3_nd30_np300_nt100_nv100_pto_ss100_ni5000_n05_k10_m0_b1_p50_nk3_c1_s11.ckpt\n"
     ]
    },
    {
     "name": "stderr",
     "output_type": "stream",
     "text": [
      "INFO: 2018-09-27 18:26:02,029: tf_logging.info(): Restoring parameters from ckpts/P_D15_l3_nd30_np300_nt100_nv100_pto_ss100_ni5000_n05_k10_m0_b1_p50_nk3_c1_s11.ckpt\n",
      "\n",
      "  0%|          | 0/15 [00:00<?, ?test/s]\u001b[A\n",
      "  7%|▋         | 1/15 [00:05<01:16,  5.45s/test]\u001b[A\n",
      " 13%|█▎        | 2/15 [00:11<01:16,  5.89s/test]\u001b[A\n",
      " 20%|██        | 3/15 [00:19<01:19,  6.64s/test]\u001b[A\n",
      " 27%|██▋       | 4/15 [00:29<01:21,  7.44s/test]\u001b[A\n",
      " 33%|███▎      | 5/15 [00:40<01:20,  8.02s/test]\u001b[A\n",
      " 40%|████      | 6/15 [00:41<01:01,  6.85s/test]\u001b[A\n",
      " 47%|████▋     | 7/15 [00:42<00:48,  6.08s/test]\u001b[A\n",
      " 53%|█████▎    | 8/15 [00:44<00:38,  5.55s/test]\u001b[A\n",
      " 60%|██████    | 9/15 [00:46<00:30,  5.15s/test]\u001b[A\n",
      " 67%|██████▋   | 10/15 [00:48<00:24,  4.80s/test]\u001b[A\n",
      " 73%|███████▎  | 11/15 [00:50<00:18,  4.55s/test]\u001b[A\n",
      " 80%|████████  | 12/15 [00:52<00:13,  4.33s/test]\u001b[A\n",
      " 87%|████████▋ | 13/15 [00:54<00:08,  4.19s/test]\u001b[A\n",
      " 93%|█████████▎| 14/15 [00:56<00:04,  4.07s/test]\u001b[A\n",
      "100%|██████████| 15/15 [00:59<00:00,  3.99s/test]\u001b[A\n",
      " 80%|████████  | 12/15 [15:18<03:49, 76.53s/seed]"
     ]
    },
    {
     "name": "stdout",
     "output_type": "stream",
     "text": [
      "INFO:tensorflow:Restoring parameters from ckpts/P_D15_l3_nd30_np300_nt100_nv100_pto_ss100_ni5000_n05_k10_m0_b1_p50_nk3_c1_s12.ckpt\n"
     ]
    },
    {
     "name": "stderr",
     "output_type": "stream",
     "text": [
      "INFO: 2018-09-27 18:27:20,043: tf_logging.info(): Restoring parameters from ckpts/P_D15_l3_nd30_np300_nt100_nv100_pto_ss100_ni5000_n05_k10_m0_b1_p50_nk3_c1_s12.ckpt\n",
      "\n",
      "  0%|          | 0/15 [00:00<?, ?test/s]\u001b[A\n",
      "  7%|▋         | 1/15 [00:05<01:16,  5.44s/test]\u001b[A\n",
      " 13%|█▎        | 2/15 [00:11<01:17,  5.94s/test]\u001b[A\n",
      " 20%|██        | 3/15 [00:19<01:19,  6.62s/test]\u001b[A\n",
      " 27%|██▋       | 4/15 [00:29<01:21,  7.45s/test]\u001b[A\n",
      " 33%|███▎      | 5/15 [00:39<01:19,  7.92s/test]\u001b[A\n",
      " 40%|████      | 6/15 [00:40<01:00,  6.76s/test]\u001b[A\n",
      " 47%|████▋     | 7/15 [00:42<00:48,  6.01s/test]\u001b[A\n",
      " 53%|█████▎    | 8/15 [00:43<00:38,  5.49s/test]\u001b[A\n",
      " 60%|██████    | 9/15 [00:45<00:30,  5.08s/test]\u001b[A\n",
      " 67%|██████▋   | 10/15 [00:47<00:23,  4.75s/test]\u001b[A\n",
      " 73%|███████▎  | 11/15 [00:49<00:18,  4.51s/test]\u001b[A\n",
      " 80%|████████  | 12/15 [00:51<00:12,  4.32s/test]\u001b[A\n",
      " 87%|████████▋ | 13/15 [00:54<00:08,  4.19s/test]\u001b[A\n",
      " 93%|█████████▎| 14/15 [00:57<00:04,  4.08s/test]\u001b[A\n",
      "100%|██████████| 15/15 [00:59<00:00,  4.00s/test]\u001b[A\n",
      " 87%|████████▋ | 13/15 [16:36<02:33, 76.68s/seed]"
     ]
    },
    {
     "name": "stdout",
     "output_type": "stream",
     "text": [
      "INFO:tensorflow:Restoring parameters from ckpts/P_D15_l3_nd30_np300_nt100_nv100_pto_ss100_ni5000_n05_k10_m0_b1_p50_nk3_c1_s13.ckpt\n"
     ]
    },
    {
     "name": "stderr",
     "output_type": "stream",
     "text": [
      "INFO: 2018-09-27 18:28:35,152: tf_logging.info(): Restoring parameters from ckpts/P_D15_l3_nd30_np300_nt100_nv100_pto_ss100_ni5000_n05_k10_m0_b1_p50_nk3_c1_s13.ckpt\n",
      "\n",
      "  0%|          | 0/15 [00:00<?, ?test/s]\u001b[A\n",
      "  7%|▋         | 1/15 [00:05<01:16,  5.48s/test]\u001b[A\n",
      " 13%|█▎        | 2/15 [00:11<01:16,  5.88s/test]\u001b[A\n",
      " 20%|██        | 3/15 [00:22<01:29,  7.43s/test]\u001b[A\n",
      " 27%|██▋       | 4/15 [00:32<01:29,  8.11s/test]\u001b[A\n",
      " 33%|███▎      | 5/15 [00:42<01:25,  8.54s/test]\u001b[A\n",
      " 40%|████      | 6/15 [00:43<01:05,  7.28s/test]\u001b[A\n",
      " 47%|████▋     | 7/15 [00:45<00:51,  6.45s/test]\u001b[A\n",
      " 53%|█████▎    | 8/15 [00:46<00:41,  5.86s/test]\u001b[A\n",
      " 60%|██████    | 9/15 [00:48<00:32,  5.40s/test]\u001b[A\n",
      " 67%|██████▋   | 10/15 [00:50<00:25,  5.02s/test]\u001b[A\n",
      " 73%|███████▎  | 11/15 [00:52<00:18,  4.75s/test]\u001b[A\n",
      " 80%|████████  | 12/15 [00:54<00:13,  4.52s/test]\u001b[A\n",
      " 87%|████████▋ | 13/15 [00:56<00:08,  4.36s/test]\u001b[A\n",
      " 93%|█████████▎| 14/15 [00:59<00:04,  4.23s/test]\u001b[A\n",
      "100%|██████████| 15/15 [01:02<00:00,  4.14s/test]\u001b[A\n",
      " 93%|█████████▎| 14/15 [17:54<01:16, 76.72s/seed]"
     ]
    },
    {
     "name": "stdout",
     "output_type": "stream",
     "text": [
      "INFO:tensorflow:Restoring parameters from ckpts/P_D15_l3_nd30_np300_nt100_nv100_pto_ss100_ni5000_n05_k10_m0_b1_p50_nk3_c1_s14.ckpt\n"
     ]
    },
    {
     "name": "stderr",
     "output_type": "stream",
     "text": [
      "INFO: 2018-09-27 18:29:52,211: tf_logging.info(): Restoring parameters from ckpts/P_D15_l3_nd30_np300_nt100_nv100_pto_ss100_ni5000_n05_k10_m0_b1_p50_nk3_c1_s14.ckpt\n",
      "\n",
      "  0%|          | 0/15 [00:00<?, ?test/s]\u001b[A\n",
      "  7%|▋         | 1/15 [00:05<01:15,  5.37s/test]\u001b[A\n",
      " 13%|█▎        | 2/15 [00:11<01:15,  5.80s/test]\u001b[A\n",
      " 20%|██        | 3/15 [00:19<01:17,  6.47s/test]\u001b[A\n",
      " 27%|██▋       | 4/15 [00:29<01:20,  7.29s/test]\u001b[A\n",
      " 33%|███▎      | 5/15 [00:38<01:17,  7.76s/test]\u001b[A\n",
      " 40%|████      | 6/15 [00:39<00:59,  6.63s/test]\u001b[A\n",
      " 47%|████▋     | 7/15 [00:41<00:47,  5.88s/test]\u001b[A\n",
      " 53%|█████▎    | 8/15 [00:42<00:37,  5.37s/test]\u001b[A\n",
      " 60%|██████    | 9/15 [00:44<00:29,  4.98s/test]\u001b[A\n",
      " 67%|██████▋   | 10/15 [00:46<00:23,  4.66s/test]\u001b[A\n",
      " 73%|███████▎  | 11/15 [00:48<00:17,  4.42s/test]\u001b[A\n",
      " 80%|████████  | 12/15 [00:50<00:12,  4.23s/test]\u001b[A\n",
      " 87%|████████▋ | 13/15 [00:53<00:08,  4.11s/test]\u001b[A\n",
      " 93%|█████████▎| 14/15 [00:55<00:03,  3.99s/test]\u001b[A\n",
      "100%|██████████| 15/15 [00:58<00:00,  3.92s/test]\u001b[A\n",
      "100%|██████████| 15/15 [19:09<00:00, 76.61s/seed]\n",
      "  0%|          | 0/15 [00:00<?, ?seed/s]"
     ]
    },
    {
     "name": "stdout",
     "output_type": "stream",
     "text": [
      "INFO:tensorflow:Restoring parameters from ckpts/H_D22_l3_nd30_np300_nt100_nv100_pto_ss100_ni5000_n05_k10_m0_b1_p50_nk3_c1_s00.ckpt\n"
     ]
    },
    {
     "name": "stderr",
     "output_type": "stream",
     "text": [
      "INFO: 2018-09-27 18:31:19,425: tf_logging.info(): Restoring parameters from ckpts/H_D22_l3_nd30_np300_nt100_nv100_pto_ss100_ni5000_n05_k10_m0_b1_p50_nk3_c1_s00.ckpt\n",
      "\n",
      "  0%|          | 0/15 [00:00<?, ?test/s]\u001b[A\n",
      "  7%|▋         | 1/15 [00:05<01:15,  5.41s/test]\u001b[A\n",
      " 13%|█▎        | 2/15 [00:12<01:19,  6.12s/test]\u001b[A\n",
      " 20%|██        | 3/15 [00:20<01:20,  6.73s/test]\u001b[A\n",
      " 27%|██▋       | 4/15 [00:29<01:21,  7.42s/test]\u001b[A\n",
      " 33%|███▎      | 5/15 [00:40<01:21,  8.12s/test]\u001b[A\n",
      " 40%|████      | 6/15 [00:41<01:02,  6.92s/test]\u001b[A\n",
      " 47%|████▋     | 7/15 [00:43<00:49,  6.15s/test]\u001b[A\n",
      " 53%|█████▎    | 8/15 [00:44<00:39,  5.62s/test]\u001b[A\n",
      " 60%|██████    | 9/15 [00:46<00:31,  5.20s/test]\u001b[A\n",
      " 67%|██████▋   | 10/15 [00:48<00:24,  4.85s/test]\u001b[A\n",
      " 73%|███████▎  | 11/15 [00:50<00:18,  4.59s/test]\u001b[A\n",
      " 80%|████████  | 12/15 [00:52<00:13,  4.38s/test]\u001b[A\n",
      " 87%|████████▋ | 13/15 [00:55<00:08,  4.25s/test]\u001b[A\n",
      " 93%|█████████▎| 14/15 [00:57<00:04,  4.13s/test]\u001b[A\n",
      "100%|██████████| 15/15 [01:00<00:00,  4.05s/test]\u001b[A\n",
      "  7%|▋         | 1/15 [01:27<20:25, 87.52s/seed]"
     ]
    },
    {
     "name": "stdout",
     "output_type": "stream",
     "text": [
      "INFO:tensorflow:Restoring parameters from ckpts/H_D22_l3_nd30_np300_nt100_nv100_pto_ss100_ni5000_n05_k10_m0_b1_p50_nk3_c1_s01.ckpt\n"
     ]
    },
    {
     "name": "stderr",
     "output_type": "stream",
     "text": [
      "INFO: 2018-09-27 18:32:42,046: tf_logging.info(): Restoring parameters from ckpts/H_D22_l3_nd30_np300_nt100_nv100_pto_ss100_ni5000_n05_k10_m0_b1_p50_nk3_c1_s01.ckpt\n",
      "\n",
      "  0%|          | 0/15 [00:00<?, ?test/s]\u001b[A\n",
      "  7%|▋         | 1/15 [00:05<01:17,  5.53s/test]\u001b[A\n",
      " 13%|█▎        | 2/15 [00:11<01:15,  5.83s/test]\u001b[A\n",
      " 20%|██        | 3/15 [00:19<01:19,  6.62s/test]\u001b[A\n",
      " 27%|██▋       | 4/15 [00:29<01:20,  7.36s/test]\u001b[A\n",
      " 33%|███▎      | 5/15 [00:41<01:23,  8.39s/test]\u001b[A\n",
      " 40%|████      | 6/15 [00:42<01:04,  7.16s/test]\u001b[A\n",
      " 47%|████▋     | 7/15 [00:44<00:50,  6.35s/test]\u001b[A\n",
      " 53%|█████▎    | 8/15 [00:46<00:40,  5.78s/test]\u001b[A\n",
      " 60%|██████    | 9/15 [00:48<00:32,  5.34s/test]\u001b[A\n",
      " 67%|██████▋   | 10/15 [00:49<00:24,  4.98s/test]\u001b[A\n",
      " 73%|███████▎  | 11/15 [00:52<00:18,  4.73s/test]\u001b[A\n",
      " 80%|████████  | 12/15 [00:53<00:13,  4.50s/test]\u001b[A\n",
      " 87%|████████▋ | 13/15 [00:56<00:08,  4.35s/test]\u001b[A\n",
      " 93%|█████████▎| 14/15 [00:59<00:04,  4.22s/test]\u001b[A\n",
      "100%|██████████| 15/15 [01:02<00:00,  4.14s/test]\u001b[A\n",
      " 13%|█▎        | 2/15 [02:52<18:38, 86.00s/seed]"
     ]
    },
    {
     "name": "stdout",
     "output_type": "stream",
     "text": [
      "INFO:tensorflow:Restoring parameters from ckpts/H_D22_l3_nd30_np300_nt100_nv100_pto_ss100_ni5000_n05_k10_m0_b1_p50_nk3_c1_s02.ckpt\n"
     ]
    },
    {
     "name": "stderr",
     "output_type": "stream",
     "text": [
      "INFO: 2018-09-27 18:34:06,625: tf_logging.info(): Restoring parameters from ckpts/H_D22_l3_nd30_np300_nt100_nv100_pto_ss100_ni5000_n05_k10_m0_b1_p50_nk3_c1_s02.ckpt\n",
      "\n",
      "  0%|          | 0/15 [00:00<?, ?test/s]\u001b[A\n",
      "  7%|▋         | 1/15 [00:05<01:18,  5.63s/test]\u001b[A\n",
      " 13%|█▎        | 2/15 [00:11<01:17,  5.94s/test]\u001b[A\n",
      " 20%|██        | 3/15 [00:19<01:19,  6.64s/test]\u001b[A\n",
      " 27%|██▋       | 4/15 [00:29<01:22,  7.47s/test]\u001b[A\n",
      " 33%|███▎      | 5/15 [00:41<01:23,  8.38s/test]\u001b[A\n",
      " 40%|████      | 6/15 [00:42<01:04,  7.16s/test]\u001b[A\n",
      " 47%|████▋     | 7/15 [00:44<00:50,  6.35s/test]\u001b[A\n",
      " 53%|█████▎    | 8/15 [00:46<00:40,  5.81s/test]\u001b[A\n",
      " 60%|██████    | 9/15 [00:48<00:32,  5.36s/test]\u001b[A\n",
      " 67%|██████▋   | 10/15 [00:49<00:24,  4.99s/test]\u001b[A\n",
      " 73%|███████▎  | 11/15 [00:51<00:18,  4.73s/test]\u001b[A\n",
      " 80%|████████  | 12/15 [00:54<00:13,  4.51s/test]\u001b[A\n",
      " 87%|████████▋ | 13/15 [00:56<00:08,  4.36s/test]\u001b[A\n",
      " 93%|█████████▎| 14/15 [00:59<00:04,  4.23s/test]\u001b[A\n",
      "100%|██████████| 15/15 [01:02<00:00,  4.15s/test]\u001b[A\n",
      " 20%|██        | 3/15 [04:16<17:05, 85.45s/seed]"
     ]
    },
    {
     "name": "stdout",
     "output_type": "stream",
     "text": [
      "INFO:tensorflow:Restoring parameters from ckpts/H_D22_l3_nd30_np300_nt100_nv100_pto_ss100_ni5000_n05_k10_m0_b1_p50_nk3_c1_s03.ckpt\n"
     ]
    },
    {
     "name": "stderr",
     "output_type": "stream",
     "text": [
      "INFO: 2018-09-27 18:35:32,112: tf_logging.info(): Restoring parameters from ckpts/H_D22_l3_nd30_np300_nt100_nv100_pto_ss100_ni5000_n05_k10_m0_b1_p50_nk3_c1_s03.ckpt\n",
      "\n",
      "  0%|          | 0/15 [00:00<?, ?test/s]\u001b[A\n",
      "  7%|▋         | 1/15 [00:05<01:14,  5.35s/test]\u001b[A\n",
      " 13%|█▎        | 2/15 [00:11<01:14,  5.74s/test]\u001b[A\n",
      " 20%|██        | 3/15 [00:19<01:18,  6.58s/test]\u001b[A\n",
      " 27%|██▋       | 4/15 [00:29<01:20,  7.30s/test]\u001b[A\n",
      " 33%|███▎      | 5/15 [00:39<01:18,  7.86s/test]\u001b[A\n",
      " 40%|████      | 6/15 [00:40<01:00,  6.73s/test]\u001b[A\n",
      " 47%|████▋     | 7/15 [00:41<00:47,  5.97s/test]\u001b[A\n",
      " 53%|█████▎    | 8/15 [00:43<00:38,  5.46s/test]\u001b[A\n",
      " 60%|██████    | 9/15 [00:45<00:30,  5.07s/test]\u001b[A\n",
      " 67%|██████▋   | 10/15 [00:47<00:23,  4.73s/test]\u001b[A\n",
      " 73%|███████▎  | 11/15 [00:49<00:17,  4.48s/test]\u001b[A\n",
      " 80%|████████  | 12/15 [00:51<00:12,  4.29s/test]\u001b[A\n",
      " 87%|████████▋ | 13/15 [00:54<00:08,  4.16s/test]\u001b[A\n",
      " 93%|█████████▎| 14/15 [00:56<00:04,  4.04s/test]\u001b[A\n",
      "100%|██████████| 15/15 [00:59<00:00,  3.97s/test]\u001b[A\n",
      " 27%|██▋       | 4/15 [05:39<15:33, 84.82s/seed]"
     ]
    },
    {
     "name": "stdout",
     "output_type": "stream",
     "text": [
      "INFO:tensorflow:Restoring parameters from ckpts/H_D22_l3_nd30_np300_nt100_nv100_pto_ss100_ni5000_n05_k10_m0_b1_p50_nk3_c1_s04.ckpt\n"
     ]
    },
    {
     "name": "stderr",
     "output_type": "stream",
     "text": [
      "INFO: 2018-09-27 18:36:55,342: tf_logging.info(): Restoring parameters from ckpts/H_D22_l3_nd30_np300_nt100_nv100_pto_ss100_ni5000_n05_k10_m0_b1_p50_nk3_c1_s04.ckpt\n",
      "\n",
      "  0%|          | 0/15 [00:00<?, ?test/s]\u001b[A\n",
      "  7%|▋         | 1/15 [00:05<01:18,  5.60s/test]\u001b[A\n",
      " 13%|█▎        | 2/15 [00:11<01:15,  5.82s/test]\u001b[A\n",
      " 20%|██        | 3/15 [00:19<01:17,  6.49s/test]\u001b[A\n",
      " 27%|██▋       | 4/15 [00:29<01:20,  7.28s/test]\u001b[A\n",
      " 33%|███▎      | 5/15 [00:39<01:18,  7.81s/test]\u001b[A\n",
      " 40%|████      | 6/15 [00:40<01:00,  6.67s/test]\u001b[A\n",
      " 47%|████▋     | 7/15 [00:41<00:47,  5.94s/test]\u001b[A\n",
      " 53%|█████▎    | 8/15 [00:43<00:38,  5.43s/test]\u001b[A\n",
      " 60%|██████    | 9/15 [00:45<00:30,  5.03s/test]\u001b[A\n",
      " 67%|██████▋   | 10/15 [00:47<00:23,  4.70s/test]\u001b[A\n",
      " 73%|███████▎  | 11/15 [00:49<00:17,  4.47s/test]\u001b[A\n",
      " 80%|████████  | 12/15 [00:51<00:12,  4.27s/test]\u001b[A\n",
      " 87%|████████▋ | 13/15 [00:53<00:08,  4.14s/test]\u001b[A\n",
      " 93%|█████████▎| 14/15 [00:56<00:04,  4.03s/test]\u001b[A\n",
      "100%|██████████| 15/15 [00:59<00:00,  3.96s/test]\u001b[A\n",
      " 33%|███▎      | 5/15 [07:02<14:05, 84.52s/seed]"
     ]
    },
    {
     "name": "stdout",
     "output_type": "stream",
     "text": [
      "INFO:tensorflow:Restoring parameters from ckpts/H_D22_l3_nd30_np300_nt100_nv100_pto_ss100_ni5000_n05_k10_m0_b1_p50_nk3_c1_s05.ckpt\n"
     ]
    },
    {
     "name": "stderr",
     "output_type": "stream",
     "text": [
      "INFO: 2018-09-27 18:38:20,593: tf_logging.info(): Restoring parameters from ckpts/H_D22_l3_nd30_np300_nt100_nv100_pto_ss100_ni5000_n05_k10_m0_b1_p50_nk3_c1_s05.ckpt\n",
      "\n",
      "  0%|          | 0/15 [00:00<?, ?test/s]\u001b[A\n",
      "  7%|▋         | 1/15 [00:05<01:16,  5.45s/test]\u001b[A\n",
      " 13%|█▎        | 2/15 [00:11<01:16,  5.86s/test]\u001b[A\n",
      " 20%|██        | 3/15 [00:22<01:29,  7.42s/test]\u001b[A\n",
      " 27%|██▋       | 4/15 [00:31<01:27,  7.95s/test]\u001b[A\n",
      " 33%|███▎      | 5/15 [00:42<01:24,  8.45s/test]\u001b[A\n",
      " 40%|████      | 6/15 [00:43<01:04,  7.20s/test]\u001b[A\n",
      " 47%|████▋     | 7/15 [00:44<00:51,  6.39s/test]\u001b[A\n",
      " 53%|█████▎    | 8/15 [00:46<00:40,  5.82s/test]\u001b[A\n",
      " 60%|██████    | 9/15 [00:48<00:32,  5.38s/test]\u001b[A\n",
      " 67%|██████▋   | 10/15 [00:50<00:25,  5.01s/test]\u001b[A\n",
      " 73%|███████▎  | 11/15 [00:52<00:18,  4.75s/test]\u001b[A\n",
      " 80%|████████  | 12/15 [00:54<00:13,  4.53s/test]\u001b[A\n",
      " 87%|████████▋ | 13/15 [00:56<00:08,  4.38s/test]\u001b[A\n",
      " 93%|█████████▎| 14/15 [00:59<00:04,  4.24s/test]\u001b[A\n",
      "100%|██████████| 15/15 [01:02<00:00,  4.15s/test]\u001b[A\n",
      " 40%|████      | 6/15 [08:30<12:45, 85.04s/seed]"
     ]
    },
    {
     "name": "stdout",
     "output_type": "stream",
     "text": [
      "INFO:tensorflow:Restoring parameters from ckpts/H_D22_l3_nd30_np300_nt100_nv100_pto_ss100_ni5000_n05_k10_m0_b1_p50_nk3_c1_s06.ckpt\n"
     ]
    },
    {
     "name": "stderr",
     "output_type": "stream",
     "text": [
      "INFO: 2018-09-27 18:39:46,336: tf_logging.info(): Restoring parameters from ckpts/H_D22_l3_nd30_np300_nt100_nv100_pto_ss100_ni5000_n05_k10_m0_b1_p50_nk3_c1_s06.ckpt\n",
      "\n",
      "  0%|          | 0/15 [00:00<?, ?test/s]\u001b[A\n",
      "  7%|▋         | 1/15 [00:05<01:14,  5.35s/test]\u001b[A\n",
      " 13%|█▎        | 2/15 [00:11<01:13,  5.66s/test]\u001b[A\n",
      " 20%|██        | 3/15 [00:19<01:16,  6.40s/test]\u001b[A\n",
      " 27%|██▋       | 4/15 [00:28<01:18,  7.17s/test]\u001b[A\n",
      " 33%|███▎      | 5/15 [00:38<01:17,  7.74s/test]\u001b[A\n",
      " 40%|████      | 6/15 [00:39<00:59,  6.60s/test]\u001b[A\n",
      " 47%|████▋     | 7/15 [00:41<00:46,  5.87s/test]\u001b[A\n",
      " 53%|█████▎    | 8/15 [00:42<00:37,  5.37s/test]\u001b[A\n",
      " 60%|██████    | 9/15 [00:44<00:29,  4.97s/test]\u001b[A\n",
      " 67%|██████▋   | 10/15 [00:46<00:23,  4.64s/test]\u001b[A\n",
      " 73%|███████▎  | 11/15 [00:48<00:17,  4.42s/test]\u001b[A\n",
      " 80%|████████  | 12/15 [00:50<00:12,  4.22s/test]\u001b[A\n",
      " 87%|████████▋ | 13/15 [00:53<00:08,  4.09s/test]\u001b[A\n",
      " 93%|█████████▎| 14/15 [00:55<00:03,  3.98s/test]\u001b[A\n",
      "100%|██████████| 15/15 [00:58<00:00,  3.90s/test]\u001b[A\n",
      " 47%|████▋     | 7/15 [09:52<11:16, 84.60s/seed]"
     ]
    },
    {
     "name": "stdout",
     "output_type": "stream",
     "text": [
      "INFO:tensorflow:Restoring parameters from ckpts/H_D22_l3_nd30_np300_nt100_nv100_pto_ss100_ni5000_n05_k10_m0_b1_p50_nk3_c1_s07.ckpt\n"
     ]
    },
    {
     "name": "stderr",
     "output_type": "stream",
     "text": [
      "INFO: 2018-09-27 18:41:11,535: tf_logging.info(): Restoring parameters from ckpts/H_D22_l3_nd30_np300_nt100_nv100_pto_ss100_ni5000_n05_k10_m0_b1_p50_nk3_c1_s07.ckpt\n",
      "\n",
      "  0%|          | 0/15 [00:00<?, ?test/s]\u001b[A\n",
      "  7%|▋         | 1/15 [00:05<01:17,  5.51s/test]\u001b[A\n",
      " 13%|█▎        | 2/15 [00:11<01:16,  5.85s/test]\u001b[A\n",
      " 20%|██        | 3/15 [00:22<01:29,  7.47s/test]\u001b[A\n",
      " 27%|██▋       | 4/15 [00:32<01:29,  8.12s/test]\u001b[A\n",
      " 33%|███▎      | 5/15 [00:42<01:25,  8.57s/test]\u001b[A\n",
      " 40%|████      | 6/15 [00:43<01:05,  7.30s/test]\u001b[A\n",
      " 47%|████▋     | 7/15 [00:45<00:51,  6.47s/test]\u001b[A\n",
      " 53%|█████▎    | 8/15 [00:47<00:41,  5.89s/test]\u001b[A\n",
      " 60%|██████    | 9/15 [00:49<00:32,  5.44s/test]\u001b[A\n",
      " 67%|██████▋   | 10/15 [00:50<00:25,  5.07s/test]\u001b[A\n",
      " 73%|███████▎  | 11/15 [00:52<00:19,  4.81s/test]\u001b[A\n",
      " 80%|████████  | 12/15 [00:54<00:13,  4.58s/test]\u001b[A\n",
      " 87%|████████▋ | 13/15 [00:57<00:08,  4.43s/test]\u001b[A\n",
      " 93%|█████████▎| 14/15 [01:00<00:04,  4.30s/test]\u001b[A\n",
      "100%|██████████| 15/15 [01:03<00:00,  4.21s/test]\u001b[A\n",
      " 53%|█████▎    | 8/15 [11:22<09:56, 85.27s/seed]"
     ]
    },
    {
     "name": "stdout",
     "output_type": "stream",
     "text": [
      "INFO:tensorflow:Restoring parameters from ckpts/H_D22_l3_nd30_np300_nt100_nv100_pto_ss100_ni5000_n05_k10_m0_b1_p50_nk3_c1_s08.ckpt\n"
     ]
    },
    {
     "name": "stderr",
     "output_type": "stream",
     "text": [
      "INFO: 2018-09-27 18:42:37,201: tf_logging.info(): Restoring parameters from ckpts/H_D22_l3_nd30_np300_nt100_nv100_pto_ss100_ni5000_n05_k10_m0_b1_p50_nk3_c1_s08.ckpt\n",
      "\n",
      "  0%|          | 0/15 [00:00<?, ?test/s]\u001b[A\n",
      "  7%|▋         | 1/15 [00:05<01:18,  5.63s/test]\u001b[A\n",
      " 13%|█▎        | 2/15 [00:11<01:16,  5.88s/test]\u001b[A\n",
      " 20%|██        | 3/15 [00:19<01:19,  6.63s/test]\u001b[A\n",
      " 27%|██▋       | 4/15 [00:29<01:21,  7.45s/test]\u001b[A\n",
      " 33%|███▎      | 5/15 [00:39<01:19,  7.99s/test]\u001b[A\n",
      " 40%|████      | 6/15 [00:40<01:01,  6.83s/test]\u001b[A\n",
      " 47%|████▋     | 7/15 [00:42<00:48,  6.06s/test]\u001b[A\n",
      " 53%|█████▎    | 8/15 [00:44<00:38,  5.53s/test]\u001b[A\n",
      " 60%|██████    | 9/15 [00:45<00:30,  5.10s/test]\u001b[A\n",
      " 67%|██████▋   | 10/15 [00:47<00:23,  4.75s/test]\u001b[A\n",
      " 73%|███████▎  | 11/15 [00:49<00:18,  4.50s/test]\u001b[A\n",
      " 80%|████████  | 12/15 [00:51<00:12,  4.30s/test]\u001b[A\n",
      " 87%|████████▋ | 13/15 [00:54<00:08,  4.15s/test]\u001b[A\n",
      " 93%|█████████▎| 14/15 [00:56<00:04,  4.03s/test]\u001b[A\n",
      "100%|██████████| 15/15 [00:59<00:00,  3.95s/test]\u001b[A\n",
      " 60%|██████    | 9/15 [12:45<08:30, 85.00s/seed]"
     ]
    },
    {
     "name": "stdout",
     "output_type": "stream",
     "text": [
      "INFO:tensorflow:Restoring parameters from ckpts/H_D22_l3_nd30_np300_nt100_nv100_pto_ss100_ni5000_n05_k10_m0_b1_p50_nk3_c1_s09.ckpt\n"
     ]
    },
    {
     "name": "stderr",
     "output_type": "stream",
     "text": [
      "INFO: 2018-09-27 18:44:02,539: tf_logging.info(): Restoring parameters from ckpts/H_D22_l3_nd30_np300_nt100_nv100_pto_ss100_ni5000_n05_k10_m0_b1_p50_nk3_c1_s09.ckpt\n",
      "\n",
      "  0%|          | 0/15 [00:00<?, ?test/s]\u001b[A\n",
      "  7%|▋         | 1/15 [00:05<01:15,  5.41s/test]\u001b[A\n",
      " 13%|█▎        | 2/15 [00:11<01:15,  5.77s/test]\u001b[A\n",
      " 20%|██        | 3/15 [00:19<01:19,  6.61s/test]\u001b[A\n",
      " 27%|██▋       | 4/15 [00:31<01:26,  7.87s/test]\u001b[A\n",
      " 33%|███▎      | 5/15 [00:41<01:23,  8.37s/test]\u001b[A\n",
      " 40%|████      | 6/15 [00:42<01:04,  7.14s/test]\u001b[A\n",
      " 47%|████▋     | 7/15 [00:44<00:50,  6.32s/test]\u001b[A\n",
      " 53%|█████▎    | 8/15 [00:46<00:40,  5.76s/test]\u001b[A\n",
      " 60%|██████    | 9/15 [00:48<00:32,  5.33s/test]\u001b[A\n",
      " 67%|██████▋   | 10/15 [00:49<00:24,  4.96s/test]\u001b[A\n",
      " 73%|███████▎  | 11/15 [00:51<00:18,  4.70s/test]\u001b[A\n",
      " 80%|████████  | 12/15 [00:53<00:13,  4.48s/test]\u001b[A\n",
      " 87%|████████▋ | 13/15 [00:56<00:08,  4.33s/test]\u001b[A\n",
      " 93%|█████████▎| 14/15 [00:58<00:04,  4.20s/test]\u001b[A\n",
      "100%|██████████| 15/15 [01:01<00:00,  4.12s/test]\u001b[A\n",
      " 67%|██████▋   | 10/15 [14:11<07:05, 85.18s/seed]"
     ]
    },
    {
     "name": "stdout",
     "output_type": "stream",
     "text": [
      "INFO:tensorflow:Restoring parameters from ckpts/H_D22_l3_nd30_np300_nt100_nv100_pto_ss100_ni5000_n05_k10_m0_b1_p50_nk3_c1_s10.ckpt\n"
     ]
    },
    {
     "name": "stderr",
     "output_type": "stream",
     "text": [
      "INFO: 2018-09-27 18:45:26,781: tf_logging.info(): Restoring parameters from ckpts/H_D22_l3_nd30_np300_nt100_nv100_pto_ss100_ni5000_n05_k10_m0_b1_p50_nk3_c1_s10.ckpt\n",
      "\n",
      "  0%|          | 0/15 [00:00<?, ?test/s]\u001b[A\n",
      "  7%|▋         | 1/15 [00:05<01:16,  5.45s/test]\u001b[A\n",
      " 13%|█▎        | 2/15 [00:11<01:15,  5.80s/test]\u001b[A\n",
      " 20%|██        | 3/15 [00:21<01:25,  7.12s/test]\u001b[A\n",
      " 27%|██▋       | 4/15 [00:31<01:25,  7.80s/test]\u001b[A\n",
      " 33%|███▎      | 5/15 [00:41<01:22,  8.30s/test]\u001b[A\n",
      " 40%|████      | 6/15 [00:42<01:03,  7.09s/test]\u001b[A\n",
      " 47%|████▋     | 7/15 [00:43<00:50,  6.28s/test]\u001b[A\n",
      " 53%|█████▎    | 8/15 [00:45<00:40,  5.73s/test]\u001b[A\n",
      " 60%|██████    | 9/15 [00:47<00:31,  5.30s/test]\u001b[A\n",
      " 67%|██████▋   | 10/15 [00:49<00:24,  4.94s/test]\u001b[A\n",
      " 73%|███████▎  | 11/15 [00:51<00:18,  4.67s/test]\u001b[A\n",
      " 80%|████████  | 12/15 [00:53<00:13,  4.45s/test]\u001b[A\n",
      " 87%|████████▋ | 13/15 [00:56<00:08,  4.31s/test]\u001b[A\n",
      " 93%|█████████▎| 14/15 [00:58<00:04,  4.18s/test]\u001b[A\n",
      "100%|██████████| 15/15 [01:01<00:00,  4.10s/test]\u001b[A\n",
      " 73%|███████▎  | 11/15 [15:37<05:40, 85.19s/seed]"
     ]
    },
    {
     "name": "stdout",
     "output_type": "stream",
     "text": [
      "INFO:tensorflow:Restoring parameters from ckpts/H_D22_l3_nd30_np300_nt100_nv100_pto_ss100_ni5000_n05_k10_m0_b1_p50_nk3_c1_s11.ckpt\n"
     ]
    },
    {
     "name": "stderr",
     "output_type": "stream",
     "text": [
      "INFO: 2018-09-27 18:46:52,389: tf_logging.info(): Restoring parameters from ckpts/H_D22_l3_nd30_np300_nt100_nv100_pto_ss100_ni5000_n05_k10_m0_b1_p50_nk3_c1_s11.ckpt\n",
      "\n",
      "  0%|          | 0/15 [00:00<?, ?test/s]\u001b[A\n",
      "  7%|▋         | 1/15 [00:05<01:17,  5.51s/test]\u001b[A\n",
      " 13%|█▎        | 2/15 [00:11<01:16,  5.87s/test]\u001b[A\n",
      " 20%|██        | 3/15 [00:19<01:17,  6.49s/test]\u001b[A\n",
      " 27%|██▋       | 4/15 [00:29<01:19,  7.26s/test]\u001b[A\n",
      " 33%|███▎      | 5/15 [00:38<01:17,  7.76s/test]\u001b[A\n",
      " 40%|████      | 6/15 [00:39<00:59,  6.63s/test]\u001b[A\n",
      " 47%|████▋     | 7/15 [00:41<00:47,  5.88s/test]\u001b[A\n",
      " 53%|█████▎    | 8/15 [00:43<00:37,  5.38s/test]\u001b[A\n",
      " 60%|██████    | 9/15 [00:44<00:29,  4.99s/test]\u001b[A\n",
      " 67%|██████▋   | 10/15 [00:46<00:23,  4.67s/test]\u001b[A\n",
      " 73%|███████▎  | 11/15 [00:48<00:17,  4.44s/test]\u001b[A\n",
      " 80%|████████  | 12/15 [00:50<00:12,  4.24s/test]\u001b[A\n",
      " 87%|████████▋ | 13/15 [00:53<00:08,  4.11s/test]\u001b[A\n",
      " 93%|█████████▎| 14/15 [00:56<00:04,  4.01s/test]\u001b[A\n",
      "100%|██████████| 15/15 [00:58<00:00,  3.93s/test]\u001b[A\n",
      " 80%|████████  | 12/15 [16:59<04:14, 84.98s/seed]"
     ]
    },
    {
     "name": "stdout",
     "output_type": "stream",
     "text": [
      "INFO:tensorflow:Restoring parameters from ckpts/H_D22_l3_nd30_np300_nt100_nv100_pto_ss100_ni5000_n05_k10_m0_b1_p50_nk3_c1_s12.ckpt\n"
     ]
    },
    {
     "name": "stderr",
     "output_type": "stream",
     "text": [
      "INFO: 2018-09-27 18:48:15,790: tf_logging.info(): Restoring parameters from ckpts/H_D22_l3_nd30_np300_nt100_nv100_pto_ss100_ni5000_n05_k10_m0_b1_p50_nk3_c1_s12.ckpt\n",
      "\n",
      "  0%|          | 0/15 [00:00<?, ?test/s]\u001b[A\n",
      "  7%|▋         | 1/15 [00:05<01:17,  5.51s/test]\u001b[A\n",
      " 13%|█▎        | 2/15 [00:12<01:18,  6.02s/test]\u001b[A\n",
      " 20%|██        | 3/15 [00:20<01:20,  6.72s/test]\u001b[A\n",
      " 27%|██▋       | 4/15 [00:32<01:28,  8.01s/test]\u001b[A\n",
      " 33%|███▎      | 5/15 [00:42<01:25,  8.52s/test]\u001b[A\n",
      " 40%|████      | 6/15 [00:43<01:05,  7.27s/test]\u001b[A\n",
      " 47%|████▋     | 7/15 [00:45<00:51,  6.44s/test]\u001b[A\n",
      " 53%|█████▎    | 8/15 [00:46<00:41,  5.87s/test]\u001b[A\n",
      " 60%|██████    | 9/15 [00:48<00:32,  5.42s/test]\u001b[A\n",
      " 67%|██████▋   | 10/15 [00:50<00:25,  5.04s/test]\u001b[A\n",
      " 73%|███████▎  | 11/15 [00:52<00:19,  4.77s/test]\u001b[A\n",
      " 80%|████████  | 12/15 [00:54<00:13,  4.55s/test]\u001b[A\n",
      " 87%|████████▋ | 13/15 [00:57<00:08,  4.40s/test]\u001b[A\n",
      " 93%|█████████▎| 14/15 [00:59<00:04,  4.27s/test]\u001b[A\n",
      "100%|██████████| 15/15 [01:02<00:00,  4.18s/test]\u001b[A\n",
      " 87%|████████▋ | 13/15 [18:25<02:50, 85.07s/seed]"
     ]
    },
    {
     "name": "stdout",
     "output_type": "stream",
     "text": [
      "INFO:tensorflow:Restoring parameters from ckpts/H_D22_l3_nd30_np300_nt100_nv100_pto_ss100_ni5000_n05_k10_m0_b1_p50_nk3_c1_s13.ckpt\n"
     ]
    },
    {
     "name": "stderr",
     "output_type": "stream",
     "text": [
      "INFO: 2018-09-27 18:49:41,044: tf_logging.info(): Restoring parameters from ckpts/H_D22_l3_nd30_np300_nt100_nv100_pto_ss100_ni5000_n05_k10_m0_b1_p50_nk3_c1_s13.ckpt\n",
      "\n",
      "  0%|          | 0/15 [00:00<?, ?test/s]\u001b[A\n",
      "  7%|▋         | 1/15 [00:05<01:17,  5.52s/test]\u001b[A\n",
      " 13%|█▎        | 2/15 [00:13<01:27,  6.72s/test]\u001b[A\n",
      " 20%|██        | 3/15 [00:24<01:37,  8.11s/test]\u001b[A\n",
      " 27%|██▋       | 4/15 [00:34<01:35,  8.70s/test]\u001b[A\n",
      " 33%|███▎      | 5/15 [00:45<01:30,  9.02s/test]\u001b[A\n",
      " 40%|████      | 6/15 [00:46<01:09,  7.69s/test]\u001b[A\n",
      " 47%|████▋     | 7/15 [00:47<00:54,  6.79s/test]\u001b[A\n",
      " 53%|█████▎    | 8/15 [00:49<00:43,  6.16s/test]\u001b[A\n",
      " 60%|██████    | 9/15 [00:51<00:34,  5.67s/test]\u001b[A\n",
      " 67%|██████▋   | 10/15 [00:52<00:26,  5.27s/test]\u001b[A\n",
      " 73%|███████▎  | 11/15 [00:54<00:19,  4.98s/test]\u001b[A\n",
      " 80%|████████  | 12/15 [00:56<00:14,  4.73s/test]\u001b[A\n",
      " 87%|████████▋ | 13/15 [00:59<00:09,  4.57s/test]\u001b[A\n",
      " 93%|█████████▎| 14/15 [01:01<00:04,  4.43s/test]\u001b[A\n",
      "100%|██████████| 15/15 [01:04<00:00,  4.33s/test]\u001b[A\n",
      " 93%|█████████▎| 14/15 [19:53<01:25, 85.26s/seed]"
     ]
    },
    {
     "name": "stdout",
     "output_type": "stream",
     "text": [
      "INFO:tensorflow:Restoring parameters from ckpts/H_D22_l3_nd30_np300_nt100_nv100_pto_ss100_ni5000_n05_k10_m0_b1_p50_nk3_c1_s14.ckpt\n"
     ]
    },
    {
     "name": "stderr",
     "output_type": "stream",
     "text": [
      "INFO: 2018-09-27 18:51:10,673: tf_logging.info(): Restoring parameters from ckpts/H_D22_l3_nd30_np300_nt100_nv100_pto_ss100_ni5000_n05_k10_m0_b1_p50_nk3_c1_s14.ckpt\n",
      "\n",
      "  0%|          | 0/15 [00:00<?, ?test/s]\u001b[A\n",
      "  7%|▋         | 1/15 [00:05<01:17,  5.53s/test]\u001b[A\n",
      " 13%|█▎        | 2/15 [00:11<01:17,  5.97s/test]\u001b[A\n",
      " 20%|██        | 3/15 [00:19<01:19,  6.65s/test]\u001b[A\n",
      " 27%|██▋       | 4/15 [00:29<01:21,  7.43s/test]\u001b[A\n",
      " 33%|███▎      | 5/15 [00:39<01:19,  7.94s/test]\u001b[A\n",
      " 40%|████      | 6/15 [00:40<01:00,  6.78s/test]\u001b[A\n",
      " 47%|████▋     | 7/15 [00:42<00:48,  6.02s/test]\u001b[A\n",
      " 53%|█████▎    | 8/15 [00:43<00:38,  5.50s/test]\u001b[A\n",
      " 60%|██████    | 9/15 [00:45<00:30,  5.09s/test]\u001b[A\n",
      " 67%|██████▋   | 10/15 [00:47<00:23,  4.76s/test]\u001b[A\n",
      " 73%|███████▎  | 11/15 [00:49<00:18,  4.51s/test]\u001b[A\n",
      " 80%|████████  | 12/15 [00:51<00:12,  4.30s/test]\u001b[A\n",
      " 87%|████████▋ | 13/15 [00:54<00:08,  4.17s/test]\u001b[A\n",
      " 93%|█████████▎| 14/15 [00:56<00:04,  4.06s/test]\u001b[A\n",
      "100%|██████████| 15/15 [00:59<00:00,  3.98s/test]\u001b[A\n",
      "100%|██████████| 15/15 [21:19<00:00, 85.31s/seed]\n",
      "  0%|          | 0/15 [00:00<?, ?seed/s]"
     ]
    },
    {
     "name": "stdout",
     "output_type": "stream",
     "text": [
      "INFO:tensorflow:Restoring parameters from ckpts/M_D43_l3_nd30_np300_nt100_nv100_pto_ss100_ni5000_n05_k10_m0_b1_p50_nk3_c1_s00.ckpt\n"
     ]
    },
    {
     "name": "stderr",
     "output_type": "stream",
     "text": [
      "INFO: 2018-09-27 18:52:33,492: tf_logging.info(): Restoring parameters from ckpts/M_D43_l3_nd30_np300_nt100_nv100_pto_ss100_ni5000_n05_k10_m0_b1_p50_nk3_c1_s00.ckpt\n",
      "\n",
      "  0%|          | 0/15 [00:00<?, ?test/s]\u001b[A\n",
      "  7%|▋         | 1/15 [00:05<01:20,  5.75s/test]\u001b[A\n",
      " 13%|█▎        | 2/15 [00:12<01:18,  6.03s/test]\u001b[A\n",
      " 20%|██        | 3/15 [00:20<01:21,  6.78s/test]\u001b[A\n",
      " 27%|██▋       | 4/15 [00:31<01:26,  7.85s/test]\u001b[A\n",
      " 33%|███▎      | 5/15 [00:41<01:23,  8.38s/test]\u001b[A\n",
      " 40%|████      | 6/15 [00:42<01:04,  7.16s/test]\u001b[A\n",
      " 47%|████▋     | 7/15 [00:44<00:51,  6.38s/test]\u001b[A\n",
      " 53%|█████▎    | 8/15 [00:46<00:40,  5.82s/test]\u001b[A\n",
      " 60%|██████    | 9/15 [00:48<00:32,  5.39s/test]\u001b[A\n",
      " 67%|██████▋   | 10/15 [00:50<00:25,  5.04s/test]\u001b[A\n",
      " 73%|███████▎  | 11/15 [00:52<00:19,  4.78s/test]\u001b[A\n",
      " 80%|████████  | 12/15 [00:54<00:13,  4.57s/test]\u001b[A\n",
      " 87%|████████▋ | 13/15 [00:57<00:08,  4.43s/test]\u001b[A\n",
      " 93%|█████████▎| 14/15 [01:00<00:04,  4.31s/test]\u001b[A\n",
      "100%|██████████| 15/15 [01:03<00:00,  4.23s/test]\u001b[A\n",
      "  7%|▋         | 1/15 [01:24<19:43, 84.53s/seed]"
     ]
    },
    {
     "name": "stdout",
     "output_type": "stream",
     "text": [
      "INFO:tensorflow:Restoring parameters from ckpts/M_D43_l3_nd30_np300_nt100_nv100_pto_ss100_ni5000_n05_k10_m0_b1_p50_nk3_c1_s01.ckpt\n"
     ]
    },
    {
     "name": "stderr",
     "output_type": "stream",
     "text": [
      "INFO: 2018-09-27 18:53:52,101: tf_logging.info(): Restoring parameters from ckpts/M_D43_l3_nd30_np300_nt100_nv100_pto_ss100_ni5000_n05_k10_m0_b1_p50_nk3_c1_s01.ckpt\n",
      "\n",
      "  0%|          | 0/15 [00:00<?, ?test/s]\u001b[A\n",
      "  7%|▋         | 1/15 [00:07<01:46,  7.60s/test]\u001b[A\n",
      " 13%|█▎        | 2/15 [00:14<01:31,  7.03s/test]\u001b[A\n",
      " 20%|██        | 3/15 [00:22<01:29,  7.44s/test]\u001b[A\n",
      " 27%|██▋       | 4/15 [00:32<01:28,  8.06s/test]\u001b[A\n",
      " 33%|███▎      | 5/15 [00:43<01:27,  8.76s/test]\u001b[A\n",
      " 40%|████      | 6/15 [00:44<01:07,  7.49s/test]\u001b[A\n",
      " 47%|████▋     | 7/15 [00:46<00:53,  6.65s/test]\u001b[A\n",
      " 53%|█████▎    | 8/15 [00:48<00:42,  6.06s/test]\u001b[A\n",
      " 60%|██████    | 9/15 [00:50<00:33,  5.62s/test]\u001b[A\n",
      " 67%|██████▋   | 10/15 [00:52<00:26,  5.24s/test]\u001b[A\n",
      " 73%|███████▎  | 11/15 [00:54<00:19,  4.95s/test]\u001b[A\n",
      " 80%|████████  | 12/15 [00:56<00:14,  4.73s/test]\u001b[A\n",
      " 87%|████████▋ | 13/15 [00:59<00:09,  4.57s/test]\u001b[A\n",
      " 93%|█████████▎| 14/15 [01:02<00:04,  4.44s/test]\u001b[A\n",
      "100%|██████████| 15/15 [01:05<00:00,  4.34s/test]\u001b[A\n",
      " 13%|█▎        | 2/15 [02:44<17:52, 82.49s/seed]"
     ]
    },
    {
     "name": "stdout",
     "output_type": "stream",
     "text": [
      "INFO:tensorflow:Restoring parameters from ckpts/M_D43_l3_nd30_np300_nt100_nv100_pto_ss100_ni5000_n05_k10_m0_b1_p50_nk3_c1_s02.ckpt\n"
     ]
    },
    {
     "name": "stderr",
     "output_type": "stream",
     "text": [
      "INFO: 2018-09-27 18:55:14,352: tf_logging.info(): Restoring parameters from ckpts/M_D43_l3_nd30_np300_nt100_nv100_pto_ss100_ni5000_n05_k10_m0_b1_p50_nk3_c1_s02.ckpt\n",
      "\n",
      "  0%|          | 0/15 [00:00<?, ?test/s]\u001b[A\n",
      "  7%|▋         | 1/15 [00:05<01:20,  5.72s/test]\u001b[A\n",
      " 13%|█▎        | 2/15 [00:12<01:18,  6.05s/test]\u001b[A\n",
      " 20%|██        | 3/15 [00:20<01:21,  6.76s/test]\u001b[A\n",
      " 27%|██▋       | 4/15 [00:30<01:23,  7.60s/test]\u001b[A\n",
      " 33%|███▎      | 5/15 [00:43<01:26,  8.66s/test]\u001b[A\n",
      " 40%|████      | 6/15 [00:44<01:06,  7.41s/test]\u001b[A\n",
      " 47%|████▋     | 7/15 [00:46<00:52,  6.58s/test]\u001b[A\n",
      " 53%|█████▎    | 8/15 [00:48<00:42,  6.01s/test]\u001b[A\n",
      " 60%|██████    | 9/15 [00:50<00:33,  5.57s/test]\u001b[A\n",
      " 67%|██████▋   | 10/15 [00:51<00:25,  5.19s/test]\u001b[A\n",
      " 73%|███████▎  | 11/15 [00:54<00:19,  4.93s/test]\u001b[A\n",
      " 80%|████████  | 12/15 [00:56<00:14,  4.70s/test]\u001b[A\n",
      " 87%|████████▋ | 13/15 [00:59<00:09,  4.55s/test]\u001b[A\n",
      " 93%|█████████▎| 14/15 [01:01<00:04,  4.42s/test]\u001b[A\n",
      "100%|██████████| 15/15 [01:04<00:00,  4.33s/test]\u001b[A\n",
      " 20%|██        | 3/15 [04:07<16:28, 82.37s/seed]"
     ]
    },
    {
     "name": "stdout",
     "output_type": "stream",
     "text": [
      "INFO:tensorflow:Restoring parameters from ckpts/M_D43_l3_nd30_np300_nt100_nv100_pto_ss100_ni5000_n05_k10_m0_b1_p50_nk3_c1_s03.ckpt\n"
     ]
    },
    {
     "name": "stderr",
     "output_type": "stream",
     "text": [
      "INFO: 2018-09-27 18:56:34,867: tf_logging.info(): Restoring parameters from ckpts/M_D43_l3_nd30_np300_nt100_nv100_pto_ss100_ni5000_n05_k10_m0_b1_p50_nk3_c1_s03.ckpt\n",
      "\n",
      "  0%|          | 0/15 [00:00<?, ?test/s]\u001b[A\n",
      "  7%|▋         | 1/15 [00:05<01:19,  5.67s/test]\u001b[A\n",
      " 13%|█▎        | 2/15 [00:11<01:17,  5.96s/test]\u001b[A\n",
      " 20%|██        | 3/15 [00:20<01:20,  6.67s/test]\u001b[A\n",
      " 27%|██▋       | 4/15 [00:30<01:23,  7.55s/test]\u001b[A\n",
      " 33%|███▎      | 5/15 [00:43<01:26,  8.65s/test]\u001b[A\n",
      " 40%|████      | 6/15 [00:44<01:06,  7.40s/test]\u001b[A\n",
      " 47%|████▋     | 7/15 [00:46<00:52,  6.58s/test]\u001b[A\n",
      " 53%|█████▎    | 8/15 [00:48<00:42,  6.01s/test]\u001b[A\n",
      " 60%|██████    | 9/15 [00:50<00:33,  5.57s/test]\u001b[A\n",
      " 67%|██████▋   | 10/15 [00:51<00:25,  5.19s/test]\u001b[A\n",
      " 73%|███████▎  | 11/15 [00:54<00:19,  4.93s/test]\u001b[A\n",
      " 80%|████████  | 12/15 [00:56<00:14,  4.70s/test]\u001b[A\n",
      " 87%|████████▋ | 13/15 [00:58<00:09,  4.53s/test]\u001b[A\n",
      " 93%|█████████▎| 14/15 [01:01<00:04,  4.40s/test]\u001b[A\n",
      "100%|██████████| 15/15 [01:04<00:00,  4.30s/test]\u001b[A\n",
      " 27%|██▋       | 4/15 [05:27<15:00, 81.82s/seed]"
     ]
    },
    {
     "name": "stdout",
     "output_type": "stream",
     "text": [
      "INFO:tensorflow:Restoring parameters from ckpts/M_D43_l3_nd30_np300_nt100_nv100_pto_ss100_ni5000_n05_k10_m0_b1_p50_nk3_c1_s04.ckpt\n"
     ]
    },
    {
     "name": "stderr",
     "output_type": "stream",
     "text": [
      "INFO: 2018-09-27 18:57:55,374: tf_logging.info(): Restoring parameters from ckpts/M_D43_l3_nd30_np300_nt100_nv100_pto_ss100_ni5000_n05_k10_m0_b1_p50_nk3_c1_s04.ckpt\n",
      "\n",
      "  0%|          | 0/15 [00:00<?, ?test/s]\u001b[A\n",
      "  7%|▋         | 1/15 [00:05<01:18,  5.63s/test]\u001b[A\n",
      " 13%|█▎        | 2/15 [00:11<01:17,  5.96s/test]\u001b[A\n",
      " 20%|██        | 3/15 [00:19<01:19,  6.64s/test]\u001b[A\n",
      " 27%|██▋       | 4/15 [00:29<01:21,  7.43s/test]\u001b[A\n",
      " 33%|███▎      | 5/15 [00:41<01:23,  8.37s/test]\u001b[A\n",
      " 40%|████      | 6/15 [00:42<01:04,  7.16s/test]\u001b[A\n",
      " 47%|████▋     | 7/15 [00:44<00:50,  6.37s/test]\u001b[A\n",
      " 53%|█████▎    | 8/15 [00:46<00:40,  5.82s/test]\u001b[A\n",
      " 60%|██████    | 9/15 [00:48<00:32,  5.39s/test]\u001b[A\n",
      " 67%|██████▋   | 10/15 [00:50<00:25,  5.04s/test]\u001b[A\n",
      " 73%|███████▎  | 11/15 [00:52<00:19,  4.78s/test]\u001b[A\n",
      " 80%|████████  | 12/15 [00:54<00:13,  4.57s/test]\u001b[A\n",
      " 87%|████████▋ | 13/15 [00:57<00:08,  4.43s/test]\u001b[A\n",
      " 93%|█████████▎| 14/15 [01:00<00:04,  4.31s/test]\u001b[A\n",
      "100%|██████████| 15/15 [01:03<00:00,  4.22s/test]\u001b[A\n",
      " 33%|███▎      | 5/15 [06:46<13:33, 81.31s/seed]"
     ]
    },
    {
     "name": "stdout",
     "output_type": "stream",
     "text": [
      "INFO:tensorflow:Restoring parameters from ckpts/M_D43_l3_nd30_np300_nt100_nv100_pto_ss100_ni5000_n05_k10_m0_b1_p50_nk3_c1_s05.ckpt\n"
     ]
    },
    {
     "name": "stderr",
     "output_type": "stream",
     "text": [
      "INFO: 2018-09-27 18:59:14,591: tf_logging.info(): Restoring parameters from ckpts/M_D43_l3_nd30_np300_nt100_nv100_pto_ss100_ni5000_n05_k10_m0_b1_p50_nk3_c1_s05.ckpt\n",
      "\n",
      "  0%|          | 0/15 [00:00<?, ?test/s]\u001b[A\n",
      "  7%|▋         | 1/15 [00:05<01:20,  5.73s/test]\u001b[A\n",
      " 13%|█▎        | 2/15 [00:11<01:17,  5.98s/test]\u001b[A\n",
      " 20%|██        | 3/15 [00:20<01:20,  6.69s/test]\u001b[A\n",
      " 27%|██▋       | 4/15 [00:31<01:26,  7.90s/test]\u001b[A\n",
      " 33%|███▎      | 5/15 [00:41<01:23,  8.34s/test]\u001b[A\n",
      " 40%|████      | 6/15 [00:42<01:04,  7.15s/test]\u001b[A\n",
      " 47%|████▋     | 7/15 [00:44<00:50,  6.36s/test]\u001b[A\n",
      " 53%|█████▎    | 8/15 [00:46<00:40,  5.81s/test]\u001b[A\n",
      " 60%|██████    | 9/15 [00:48<00:32,  5.41s/test]\u001b[A\n",
      " 67%|██████▋   | 10/15 [00:50<00:25,  5.06s/test]\u001b[A\n",
      " 73%|███████▎  | 11/15 [00:52<00:19,  4.81s/test]\u001b[A\n",
      " 80%|████████  | 12/15 [00:55<00:13,  4.60s/test]\u001b[A\n",
      " 87%|████████▋ | 13/15 [00:58<00:08,  4.46s/test]\u001b[A\n",
      " 93%|█████████▎| 14/15 [01:00<00:04,  4.35s/test]\u001b[A\n",
      "100%|██████████| 15/15 [01:04<00:00,  4.28s/test]\u001b[A\n",
      " 40%|████      | 6/15 [08:06<12:09, 81.08s/seed]"
     ]
    },
    {
     "name": "stdout",
     "output_type": "stream",
     "text": [
      "INFO:tensorflow:Restoring parameters from ckpts/M_D43_l3_nd30_np300_nt100_nv100_pto_ss100_ni5000_n05_k10_m0_b1_p50_nk3_c1_s06.ckpt\n"
     ]
    },
    {
     "name": "stderr",
     "output_type": "stream",
     "text": [
      "INFO: 2018-09-27 19:00:34,431: tf_logging.info(): Restoring parameters from ckpts/M_D43_l3_nd30_np300_nt100_nv100_pto_ss100_ni5000_n05_k10_m0_b1_p50_nk3_c1_s06.ckpt\n",
      "\n",
      "  0%|          | 0/15 [00:00<?, ?test/s]\u001b[A\n",
      "  7%|▋         | 1/15 [00:05<01:22,  5.93s/test]\u001b[A\n",
      " 13%|█▎        | 2/15 [00:12<01:19,  6.13s/test]\u001b[A\n",
      " 20%|██        | 3/15 [00:20<01:22,  6.87s/test]\u001b[A\n",
      " 27%|██▋       | 4/15 [00:32<01:30,  8.18s/test]\u001b[A\n",
      " 33%|███▎      | 5/15 [00:43<01:26,  8.61s/test]\u001b[A\n",
      " 40%|████      | 6/15 [00:44<01:06,  7.36s/test]\u001b[A\n",
      " 47%|████▋     | 7/15 [00:45<00:52,  6.54s/test]\u001b[A\n",
      " 53%|█████▎    | 8/15 [00:47<00:41,  5.98s/test]\u001b[A\n",
      " 60%|██████    | 9/15 [00:49<00:33,  5.53s/test]\u001b[A\n",
      " 67%|██████▋   | 10/15 [00:51<00:25,  5.16s/test]\u001b[A\n",
      " 73%|███████▎  | 11/15 [00:53<00:19,  4.90s/test]\u001b[A\n",
      " 80%|████████  | 12/15 [00:56<00:14,  4.67s/test]\u001b[A\n",
      " 87%|████████▋ | 13/15 [00:58<00:09,  4.52s/test]\u001b[A\n",
      " 93%|█████████▎| 14/15 [01:01<00:04,  4.39s/test]\u001b[A\n",
      "100%|██████████| 15/15 [01:04<00:00,  4.32s/test]\u001b[A\n",
      " 47%|████▋     | 7/15 [09:27<10:48, 81.06s/seed]"
     ]
    },
    {
     "name": "stdout",
     "output_type": "stream",
     "text": [
      "INFO:tensorflow:Restoring parameters from ckpts/M_D43_l3_nd30_np300_nt100_nv100_pto_ss100_ni5000_n05_k10_m0_b1_p50_nk3_c1_s07.ckpt\n"
     ]
    },
    {
     "name": "stderr",
     "output_type": "stream",
     "text": [
      "INFO: 2018-09-27 19:01:56,005: tf_logging.info(): Restoring parameters from ckpts/M_D43_l3_nd30_np300_nt100_nv100_pto_ss100_ni5000_n05_k10_m0_b1_p50_nk3_c1_s07.ckpt\n",
      "\n",
      "  0%|          | 0/15 [00:00<?, ?test/s]\u001b[A\n",
      "  7%|▋         | 1/15 [00:05<01:20,  5.76s/test]\u001b[A\n",
      " 13%|█▎        | 2/15 [00:12<01:18,  6.07s/test]\u001b[A\n",
      " 20%|██        | 3/15 [00:20<01:22,  6.86s/test]\u001b[A\n",
      " 27%|██▋       | 4/15 [00:33<01:31,  8.35s/test]\u001b[A\n",
      " 33%|███▎      | 5/15 [00:44<01:28,  8.82s/test]\u001b[A\n",
      " 40%|████      | 6/15 [00:45<01:07,  7.54s/test]\u001b[A\n",
      " 47%|████▋     | 7/15 [00:46<00:53,  6.69s/test]\u001b[A\n",
      " 53%|█████▎    | 8/15 [00:48<00:42,  6.10s/test]\u001b[A\n",
      " 60%|██████    | 9/15 [00:50<00:33,  5.64s/test]\u001b[A\n",
      " 67%|██████▋   | 10/15 [00:52<00:26,  5.26s/test]\u001b[A\n",
      " 73%|███████▎  | 11/15 [00:54<00:19,  4.98s/test]\u001b[A\n",
      " 80%|████████  | 12/15 [00:56<00:14,  4.74s/test]\u001b[A\n",
      " 87%|████████▋ | 13/15 [00:59<00:09,  4.57s/test]\u001b[A\n",
      " 93%|█████████▎| 14/15 [01:02<00:04,  4.44s/test]\u001b[A\n",
      "100%|██████████| 15/15 [01:05<00:00,  4.36s/test]\u001b[A\n",
      " 53%|█████▎    | 8/15 [10:49<09:28, 81.17s/seed]"
     ]
    },
    {
     "name": "stdout",
     "output_type": "stream",
     "text": [
      "INFO:tensorflow:Restoring parameters from ckpts/M_D43_l3_nd30_np300_nt100_nv100_pto_ss100_ni5000_n05_k10_m0_b1_p50_nk3_c1_s08.ckpt\n"
     ]
    },
    {
     "name": "stderr",
     "output_type": "stream",
     "text": [
      "INFO: 2018-09-27 19:03:19,253: tf_logging.info(): Restoring parameters from ckpts/M_D43_l3_nd30_np300_nt100_nv100_pto_ss100_ni5000_n05_k10_m0_b1_p50_nk3_c1_s08.ckpt\n",
      "\n",
      "  0%|          | 0/15 [00:00<?, ?test/s]\u001b[A\n",
      "  7%|▋         | 1/15 [00:05<01:23,  5.98s/test]\u001b[A\n",
      " 13%|█▎        | 2/15 [00:15<01:37,  7.50s/test]\u001b[A\n",
      " 20%|██        | 3/15 [00:23<01:33,  7.82s/test]\u001b[A\n",
      " 27%|██▋       | 4/15 [00:33<01:31,  8.36s/test]\u001b[A\n",
      " 33%|███▎      | 5/15 [00:44<01:29,  8.98s/test]\u001b[A\n",
      " 40%|████      | 6/15 [00:46<01:09,  7.68s/test]\u001b[A\n",
      " 47%|████▋     | 7/15 [00:47<00:54,  6.82s/test]\u001b[A\n",
      " 53%|█████▎    | 8/15 [00:49<00:43,  6.23s/test]\u001b[A\n",
      " 60%|██████    | 9/15 [00:51<00:34,  5.76s/test]\u001b[A\n",
      " 67%|██████▋   | 10/15 [00:53<00:26,  5.37s/test]\u001b[A\n",
      " 73%|███████▎  | 11/15 [00:56<00:20,  5.10s/test]\u001b[A\n",
      " 80%|████████  | 12/15 [00:58<00:14,  4.86s/test]\u001b[A\n",
      " 87%|████████▋ | 13/15 [01:01<00:09,  4.70s/test]\u001b[A\n",
      " 93%|█████████▎| 14/15 [01:03<00:04,  4.56s/test]\u001b[A\n",
      "100%|██████████| 15/15 [01:07<00:00,  4.47s/test]\u001b[A\n",
      " 60%|██████    | 9/15 [12:17<08:11, 81.97s/seed]"
     ]
    },
    {
     "name": "stdout",
     "output_type": "stream",
     "text": [
      "INFO:tensorflow:Restoring parameters from ckpts/M_D43_l3_nd30_np300_nt100_nv100_pto_ss100_ni5000_n05_k10_m0_b1_p50_nk3_c1_s09.ckpt\n"
     ]
    },
    {
     "name": "stderr",
     "output_type": "stream",
     "text": [
      "INFO: 2018-09-27 19:04:45,004: tf_logging.info(): Restoring parameters from ckpts/M_D43_l3_nd30_np300_nt100_nv100_pto_ss100_ni5000_n05_k10_m0_b1_p50_nk3_c1_s09.ckpt\n",
      "\n",
      "  0%|          | 0/15 [00:00<?, ?test/s]\u001b[A\n",
      "  7%|▋         | 1/15 [00:05<01:20,  5.76s/test]\u001b[A\n",
      " 13%|█▎        | 2/15 [00:12<01:19,  6.12s/test]\u001b[A\n",
      " 20%|██        | 3/15 [00:20<01:22,  6.91s/test]\u001b[A\n",
      " 27%|██▋       | 4/15 [00:30<01:24,  7.73s/test]\u001b[A\n",
      " 33%|███▎      | 5/15 [00:43<01:26,  8.62s/test]\u001b[A\n",
      " 40%|████      | 6/15 [00:44<01:06,  7.37s/test]\u001b[A\n",
      " 47%|████▋     | 7/15 [00:45<00:52,  6.55s/test]\u001b[A\n",
      " 53%|█████▎    | 8/15 [00:47<00:41,  5.98s/test]\u001b[A\n",
      " 60%|██████    | 9/15 [00:49<00:33,  5.54s/test]\u001b[A\n",
      " 67%|██████▋   | 10/15 [00:51<00:25,  5.17s/test]\u001b[A\n",
      " 73%|███████▎  | 11/15 [00:53<00:19,  4.90s/test]\u001b[A\n",
      " 80%|████████  | 12/15 [00:56<00:14,  4.68s/test]\u001b[A\n",
      " 87%|████████▋ | 13/15 [00:58<00:09,  4.53s/test]\u001b[A\n",
      " 93%|█████████▎| 14/15 [01:01<00:04,  4.40s/test]\u001b[A\n",
      "100%|██████████| 15/15 [01:04<00:00,  4.32s/test]\u001b[A\n",
      " 67%|██████▋   | 10/15 [13:39<06:49, 81.93s/seed]"
     ]
    },
    {
     "name": "stdout",
     "output_type": "stream",
     "text": [
      "INFO:tensorflow:Restoring parameters from ckpts/M_D43_l3_nd30_np300_nt100_nv100_pto_ss100_ni5000_n05_k10_m0_b1_p50_nk3_c1_s10.ckpt\n"
     ]
    },
    {
     "name": "stderr",
     "output_type": "stream",
     "text": [
      "INFO: 2018-09-27 19:06:06,854: tf_logging.info(): Restoring parameters from ckpts/M_D43_l3_nd30_np300_nt100_nv100_pto_ss100_ni5000_n05_k10_m0_b1_p50_nk3_c1_s10.ckpt\n",
      "\n",
      "  0%|          | 0/15 [00:00<?, ?test/s]\u001b[A\n",
      "  7%|▋         | 1/15 [00:05<01:20,  5.74s/test]\u001b[A\n",
      " 13%|█▎        | 2/15 [00:12<01:20,  6.21s/test]\u001b[A\n",
      " 20%|██        | 3/15 [00:20<01:23,  6.95s/test]\u001b[A\n",
      " 27%|██▋       | 4/15 [00:31<01:25,  7.81s/test]\u001b[A\n",
      " 33%|███▎      | 5/15 [00:41<01:23,  8.33s/test]\u001b[A\n",
      " 40%|████      | 6/15 [00:42<01:04,  7.13s/test]\u001b[A\n",
      " 47%|████▋     | 7/15 [00:44<00:50,  6.34s/test]\u001b[A\n",
      " 53%|█████▎    | 8/15 [00:46<00:40,  5.79s/test]\u001b[A\n",
      " 60%|██████    | 9/15 [00:48<00:32,  5.37s/test]\u001b[A\n",
      " 67%|██████▋   | 10/15 [00:50<00:25,  5.02s/test]\u001b[A\n",
      " 73%|███████▎  | 11/15 [00:52<00:19,  4.77s/test]\u001b[A\n",
      " 80%|████████  | 12/15 [00:54<00:13,  4.55s/test]\u001b[A\n",
      " 87%|████████▋ | 13/15 [00:57<00:08,  4.42s/test]\u001b[A\n",
      " 93%|█████████▎| 14/15 [01:00<00:04,  4.30s/test]\u001b[A\n",
      "100%|██████████| 15/15 [01:03<00:00,  4.22s/test]\u001b[A\n",
      " 73%|███████▎  | 11/15 [14:58<05:26, 81.64s/seed]"
     ]
    },
    {
     "name": "stdout",
     "output_type": "stream",
     "text": [
      "INFO:tensorflow:Restoring parameters from ckpts/M_D43_l3_nd30_np300_nt100_nv100_pto_ss100_ni5000_n05_k10_m0_b1_p50_nk3_c1_s11.ckpt\n"
     ]
    },
    {
     "name": "stderr",
     "output_type": "stream",
     "text": [
      "INFO: 2018-09-27 19:07:28,456: tf_logging.info(): Restoring parameters from ckpts/M_D43_l3_nd30_np300_nt100_nv100_pto_ss100_ni5000_n05_k10_m0_b1_p50_nk3_c1_s11.ckpt\n",
      "\n",
      "  0%|          | 0/15 [00:00<?, ?test/s]\u001b[A\n",
      "  7%|▋         | 1/15 [00:05<01:21,  5.79s/test]\u001b[A\n",
      " 13%|█▎        | 2/15 [00:12<01:19,  6.11s/test]\u001b[A\n",
      " 20%|██        | 3/15 [00:20<01:23,  6.93s/test]\u001b[A\n",
      " 27%|██▋       | 4/15 [00:30<01:24,  7.73s/test]\u001b[A\n",
      " 33%|███▎      | 5/15 [00:41<01:23,  8.36s/test]\u001b[A\n",
      " 40%|████      | 6/15 [00:42<01:04,  7.16s/test]\u001b[A\n",
      " 47%|████▋     | 7/15 [00:44<00:51,  6.38s/test]\u001b[A\n",
      " 53%|█████▎    | 8/15 [00:46<00:40,  5.84s/test]\u001b[A\n",
      " 60%|██████    | 9/15 [00:48<00:32,  5.41s/test]\u001b[A\n",
      " 67%|██████▋   | 10/15 [00:50<00:25,  5.05s/test]\u001b[A\n",
      " 73%|███████▎  | 11/15 [00:52<00:19,  4.80s/test]\u001b[A\n",
      " 80%|████████  | 12/15 [00:55<00:13,  4.59s/test]\u001b[A\n",
      " 87%|████████▋ | 13/15 [00:57<00:08,  4.45s/test]\u001b[A\n",
      " 93%|█████████▎| 14/15 [01:00<00:04,  4.33s/test]\u001b[A\n",
      "100%|██████████| 15/15 [01:03<00:00,  4.24s/test]\u001b[A\n",
      " 80%|████████  | 12/15 [16:21<04:05, 81.78s/seed]"
     ]
    },
    {
     "name": "stdout",
     "output_type": "stream",
     "text": [
      "INFO:tensorflow:Restoring parameters from ckpts/M_D43_l3_nd30_np300_nt100_nv100_pto_ss100_ni5000_n05_k10_m0_b1_p50_nk3_c1_s12.ckpt\n"
     ]
    },
    {
     "name": "stderr",
     "output_type": "stream",
     "text": [
      "INFO: 2018-09-27 19:08:52,505: tf_logging.info(): Restoring parameters from ckpts/M_D43_l3_nd30_np300_nt100_nv100_pto_ss100_ni5000_n05_k10_m0_b1_p50_nk3_c1_s12.ckpt\n",
      "\n",
      "  0%|          | 0/15 [00:00<?, ?test/s]\u001b[A\n",
      "  7%|▋         | 1/15 [00:06<01:25,  6.13s/test]\u001b[A\n",
      " 13%|█▎        | 2/15 [00:12<01:22,  6.33s/test]\u001b[A\n",
      " 20%|██        | 3/15 [00:20<01:23,  6.93s/test]\u001b[A\n",
      " 27%|██▋       | 4/15 [00:33<01:31,  8.33s/test]\u001b[A\n",
      " 33%|███▎      | 5/15 [00:43<01:27,  8.78s/test]\u001b[A\n",
      " 40%|████      | 6/15 [00:45<01:07,  7.51s/test]\u001b[A\n",
      " 47%|████▋     | 7/15 [00:46<00:53,  6.69s/test]\u001b[A\n",
      " 53%|█████▎    | 8/15 [00:48<00:42,  6.11s/test]\u001b[A\n",
      " 60%|██████    | 9/15 [00:50<00:33,  5.67s/test]\u001b[A\n",
      " 67%|██████▋   | 10/15 [00:52<00:26,  5.28s/test]\u001b[A\n",
      " 73%|███████▎  | 11/15 [00:54<00:19,  4.99s/test]\u001b[A\n",
      " 80%|████████  | 12/15 [00:57<00:14,  4.76s/test]\u001b[A\n",
      " 87%|████████▋ | 13/15 [00:59<00:09,  4.61s/test]\u001b[A\n",
      " 93%|█████████▎| 14/15 [01:02<00:04,  4.47s/test]\u001b[A\n",
      "100%|██████████| 15/15 [01:05<00:00,  4.38s/test]\u001b[A\n",
      " 87%|████████▋ | 13/15 [17:46<02:44, 82.03s/seed]"
     ]
    },
    {
     "name": "stdout",
     "output_type": "stream",
     "text": [
      "INFO:tensorflow:Restoring parameters from ckpts/M_D43_l3_nd30_np300_nt100_nv100_pto_ss100_ni5000_n05_k10_m0_b1_p50_nk3_c1_s13.ckpt\n"
     ]
    },
    {
     "name": "stderr",
     "output_type": "stream",
     "text": [
      "INFO: 2018-09-27 19:10:14,789: tf_logging.info(): Restoring parameters from ckpts/M_D43_l3_nd30_np300_nt100_nv100_pto_ss100_ni5000_n05_k10_m0_b1_p50_nk3_c1_s13.ckpt\n",
      "\n",
      "  0%|          | 0/15 [00:00<?, ?test/s]\u001b[A\n",
      "  7%|▋         | 1/15 [00:05<01:20,  5.77s/test]\u001b[A\n",
      " 13%|█▎        | 2/15 [00:12<01:19,  6.10s/test]\u001b[A\n",
      " 20%|██        | 3/15 [00:23<01:32,  7.67s/test]\u001b[A\n",
      " 27%|██▋       | 4/15 [00:33<01:31,  8.32s/test]\u001b[A\n",
      " 33%|███▎      | 5/15 [00:43<01:27,  8.75s/test]\u001b[A\n",
      " 40%|████      | 6/15 [00:44<01:07,  7.49s/test]\u001b[A\n",
      " 47%|████▋     | 7/15 [00:46<00:53,  6.66s/test]\u001b[A\n",
      " 53%|█████▎    | 8/15 [00:48<00:42,  6.10s/test]\u001b[A\n",
      " 60%|██████    | 9/15 [00:50<00:33,  5.65s/test]\u001b[A\n",
      " 67%|██████▋   | 10/15 [00:52<00:26,  5.26s/test]\u001b[A\n",
      " 73%|███████▎  | 11/15 [00:54<00:19,  4.99s/test]\u001b[A\n",
      " 80%|████████  | 12/15 [00:57<00:14,  4.77s/test]\u001b[A\n",
      " 87%|████████▋ | 13/15 [00:59<00:09,  4.61s/test]\u001b[A\n",
      " 93%|█████████▎| 14/15 [01:02<00:04,  4.48s/test]\u001b[A\n",
      "100%|██████████| 15/15 [01:05<00:00,  4.39s/test]\u001b[A\n",
      " 93%|█████████▎| 14/15 [19:08<01:22, 82.04s/seed]"
     ]
    },
    {
     "name": "stdout",
     "output_type": "stream",
     "text": [
      "INFO:tensorflow:Restoring parameters from ckpts/M_D43_l3_nd30_np300_nt100_nv100_pto_ss100_ni5000_n05_k10_m0_b1_p50_nk3_c1_s14.ckpt\n"
     ]
    },
    {
     "name": "stderr",
     "output_type": "stream",
     "text": [
      "INFO: 2018-09-27 19:11:37,788: tf_logging.info(): Restoring parameters from ckpts/M_D43_l3_nd30_np300_nt100_nv100_pto_ss100_ni5000_n05_k10_m0_b1_p50_nk3_c1_s14.ckpt\n",
      "\n",
      "  0%|          | 0/15 [00:00<?, ?test/s]\u001b[A\n",
      "  7%|▋         | 1/15 [00:05<01:20,  5.72s/test]\u001b[A\n",
      " 13%|█▎        | 2/15 [00:11<01:17,  5.99s/test]\u001b[A\n",
      " 20%|██        | 3/15 [00:20<01:21,  6.78s/test]\u001b[A\n",
      " 27%|██▋       | 4/15 [00:29<01:22,  7.49s/test]\u001b[A\n",
      " 33%|███▎      | 5/15 [00:40<01:20,  8.09s/test]\u001b[A\n",
      " 40%|████      | 6/15 [00:41<01:02,  6.92s/test]\u001b[A\n",
      " 47%|████▋     | 7/15 [00:43<00:49,  6.17s/test]\u001b[A\n",
      " 53%|█████▎    | 8/15 [00:45<00:39,  5.65s/test]\u001b[A\n",
      " 60%|██████    | 9/15 [00:47<00:31,  5.26s/test]\u001b[A\n",
      " 67%|██████▋   | 10/15 [00:49<00:24,  4.92s/test]\u001b[A\n",
      " 73%|███████▎  | 11/15 [00:51<00:18,  4.68s/test]\u001b[A\n",
      " 80%|████████  | 12/15 [00:53<00:13,  4.48s/test]\u001b[A\n",
      " 87%|████████▋ | 13/15 [00:56<00:08,  4.34s/test]\u001b[A\n",
      " 93%|█████████▎| 14/15 [00:59<00:04,  4.22s/test]\u001b[A\n",
      "100%|██████████| 15/15 [01:02<00:00,  4.15s/test]\u001b[A\n",
      "100%|██████████| 15/15 [20:28<00:00, 81.87s/seed]\n"
     ]
    }
   ],
   "source": [
    "dnames = [\"redwine\", \"whitewine\", \"parkinsons\", \"hepmass\",\"miniboone\"]\n",
    "for dname in dnames:\n",
    "    run_all_steins(dname)"
   ]
  },
  {
   "cell_type": "code",
   "execution_count": 33,
   "metadata": {},
   "outputs": [
    {
     "name": "stdout",
     "output_type": "stream",
     "text": [
      "INFO:tensorflow:Restoring parameters from ckpts/R_D11_l3_nd30_np300_nt100_nv100_pto_ss100_ni5000_n05_k10_m0_b1_p50_nk3_c1_s00.ckpt\n"
     ]
    },
    {
     "name": "stderr",
     "output_type": "stream",
     "text": [
      "INFO: 2018-09-27 16:48:39,272: tf_logging.info(): Restoring parameters from ckpts/R_D11_l3_nd30_np300_nt100_nv100_pto_ss100_ni5000_n05_k10_m0_b1_p50_nk3_c1_s00.ckpt\n"
     ]
    }
   ],
   "source": [
    "m = load_all_models(\"redwine\", 0, dl_args, others_args)[1]"
   ]
  },
  {
   "cell_type": "code",
   "execution_count": 8,
   "metadata": {},
   "outputs": [
    {
     "ename": "NameError",
     "evalue": "name 'm' is not defined",
     "output_type": "error",
     "traceback": [
      "\u001b[0;31m---------------------------------------------------------------------------\u001b[0m",
      "\u001b[0;31mNameError\u001b[0m                                 Traceback (most recent call last)",
      "\u001b[0;32m<ipython-input-8-85894463ac2c>\u001b[0m in \u001b[0;36m<module>\u001b[0;34m()\u001b[0m\n\u001b[0;32m----> 1\u001b[0;31m \u001b[0mmodel_names\u001b[0m \u001b[0;34m=\u001b[0m \u001b[0msorted\u001b[0m\u001b[0;34m(\u001b[0m\u001b[0mm\u001b[0m\u001b[0;34m.\u001b[0m\u001b[0mkeys\u001b[0m\u001b[0;34m(\u001b[0m\u001b[0;34m)\u001b[0m\u001b[0;34m)\u001b[0m\u001b[0;34m\u001b[0m\u001b[0m\n\u001b[0m",
      "\u001b[0;31mNameError\u001b[0m: name 'm' is not defined"
     ]
    }
   ],
   "source": [
    "model_names = sorted(m.keys())"
>>>>>>> 34099bd1ad7807328c74d389f1c88ae95499e473
   ]
  },
  {
   "cell_type": "code",
<<<<<<< HEAD
   "execution_count": null,
   "metadata": {},
   "outputs": [],
   "source": [
    "run_all_steins('redwine')"
=======
   "execution_count": 9,
   "metadata": {},
   "outputs": [],
   "source": [
    "test_res = np.load(\"stein_hepmass.npz\")\n",
    "ps = test_res[\"ps\"]\n",
    "stats = test_res[\"stats\"]\n",
    "model_names = test_res[\"model_names\"]"
   ]
  },
  {
   "cell_type": "code",
   "execution_count": 11,
   "metadata": {},
   "outputs": [
    {
     "data": {
      "image/png": "iVBORw0KGgoAAAANSUhEUgAAAXwAAAEICAYAAABcVE8dAAAABHNCSVQICAgIfAhkiAAAAAlwSFlz\nAAALEgAACxIB0t1+/AAAD9lJREFUeJzt3X+s3XV9x/Hny7ZsdmAxtiopdHWuTmHBwSoQNAtzYwNk\nIcvYgi6wsSWNTjdNzCLhD3RZtsg/ZuGHNI0isjjNNhjrtJ1hmROIAy21Fii6dA6lWGWClp9iCu/9\ncb7Su+ut59tzzzn3cj/PR3LC+fE557zvh9tnT88959xUFZKkpe9FCz2AJGk6DL4kNcLgS1IjDL4k\nNcLgS1IjDL4kNcLgS0cgyR8muWOh55BGYfAlqREGX5IaYfC1JCV5IMmfJ9md5MkkH03yiiTbkzye\n5N+SvLRb+w9Jvp3kQJLbkpw043ZelmRrkseSfBF49az7eW2SW5M8muRrSX5vyl+q1JvB11L2O8DZ\nwGuA3wK2A5cDaxh87/9Zt247sAF4ObAT+MSM27gW+AFwHPBH3QGAJD8D3Ar8XXfdi4APJzlxYl+R\nNA8GX0vZ1VX1nap6CLgduKuqvlxVPwD+CTgFoKqur6rHq+oZ4APA65OsSrKMwV8aV1TVk1V1L/Dx\nGbd/PvBAVX2sqg5W1ZeBm4Dfnd6XKPW3fKEHkCboOzOOPz3H6aO7qP8Vg0ivAZ7rLl8NvJjBn5EH\nZ1zvGzOO/yxwepLvzzhvOfC3Y5leGjODr9a9DbgA+HXgAWAV8D0gwP8CB4ETgK9269fNuO6DwOer\n6uxpDSvNh0/pqHXHAM8AjwArgb/+0QVV9SxwM/CBJCu75+b/YMZ1Pw28JsnFSVZ0hzcked0U55d6\nM/hq3Y0MnqZ5CNgD3Dnr8ncBRwPfBm4APvajC6rqceA3GPyw9lvdmiuBn5r00NIo4i9AkaQ2+Ahf\nkhph8CWpEQZfkhph8CWpEQv2OvzVq1fX+vXrF+ruJekF6e677/5uVa0Z5boLFvz169ezY8eOhbp7\nSXpBSvKN4avm5lM6ktQIgy9JjTD4ktQIgy9JjTD4ktQIgy9JjRga/CQ/neSLSb6S5L4kfzHHmiS5\nKsne7neInjqZcSVJo+rzOvxngDdX1RNJVgB3JNleVTM/RvZcBr8TdANwOnBd919J0iIx9BF+DTzR\nnVzRHWZ/pvIFwI3d2juBY5McN95RJUnz0eudtt3v/bwb+Hng2qq6a9aStfz/3/u5rztv/6zb2QRs\nAlj2kjWsv+wzI449GQ988C0LPcKcFts+weLdK2mcFuOfvfno9UPbqnq2qn4JOB44LckvjnJnVbWl\nqjZW1cZlK1eNchOSpBEd0at0qur7wOeAc2Zd9BCDX/T8I8d350mSFok+r9JZk+TY7viLgbOBr85a\nthW4pHu1zhnAgarajyRp0ejzHP5xwMe75/FfBPx9VX06ydsBqmozsA04D9gLPAVcOqF5JUkjGhr8\nqtoNnDLH+ZtnHC/gneMdTZI0Tr7TVpIaYfAlqREGX5IaYfAlqREGX5IaYfAlqREGX5IaYfAlqREG\nX5IaYfAlqREGX5IaYfAlqREGX5IaYfAlqREGX5IaYfAlqREGX5IaYfAlqREGX5IaYfAlqREGX5Ia\nYfAlqREGX5IaYfAlqREGX5IaMTT4SU5I8rkke5Lcl+Tdc6w5K8mBJLu6wxWTGVeSNKrlPdYcBN5b\nVTuTHAPcneTWqtoza93tVXX++EeUJI3D0Ef4VbW/qnZ2xx8H7gfWTnowSdJ4HdFz+EnWA6cAd81x\n8ZlJdifZnuSkw1x/U5IdSXY8+9SBIx5WkjS63sFPcjRwE/Ceqnps1sU7gXVVdTJwNXDLXLdRVVuq\namNVbVy2ctWoM0uSRtAr+ElWMIj9J6rq5tmXV9VjVfVEd3wbsCLJ6rFOKkmalz6v0gnwUeD+qvrQ\nYda8sltHktO6231knINKkuanz6t03ghcDNyTZFd33uXAOoCq2gxcCLwjyUHgaeCiqqoJzCtJGtHQ\n4FfVHUCGrLkGuGZcQ0mSxs932kpSIwy+JDXC4EtSIwy+JDXC4EtSIwy+JDXC4EtSIwy+JDXC4EtS\nIwy+JDXC4EtSIwy+JDXC4EtSIwy+JDXC4EtSIwy+JDXC4EtSIwy+JDXC4EtSIwy+JDXC4EtSIwy+\nJDXC4EtSIwy+JDXC4EtSIwy+JDViaPCTnJDkc0n2JLkvybvnWJMkVyXZm2R3klMnM64kaVTLe6w5\nCLy3qnYmOQa4O8mtVbVnxppzgQ3d4XTguu6/kqRFYugj/KraX1U7u+OPA/cDa2ctuwC4sQbuBI5N\nctzYp5UkjazPI/znJVkPnALcNeuitcCDM07v687bP+v6m4BNAMtesubIJpWGWH/ZZxZ6hB/zwAff\nstAjSM/r/UPbJEcDNwHvqarHRrmzqtpSVRurauOylatGuQlJ0oh6BT/JCgax/0RV3TzHkoeAE2ac\nPr47T5K0SPR5lU6AjwL3V9WHDrNsK3BJ92qdM4ADVbX/MGslSQugz3P4bwQuBu5Jsqs773JgHUBV\nbQa2AecBe4GngEvHP6okaT6GBr+q7gAyZE0B7xzXUJKk8fOdtpLUCIMvSY0w+JLUCIMvSY0w+JLU\nCIMvSY0w+JLUCIMvSY0w+JLUCIMvSY0w+JLUCIMvSY0w+JLUCIMvSY0w+JLUCIMvSY0w+JLUCIMv\nSY0w+JLUCIMvSY0w+JLUCIMvSY0w+JLUCIMvSY0w+JLUiKHBT3J9koeT3HuYy89KciDJru5wxfjH\nlCTN1/Iea24ArgFu/Alrbq+q88cykSRpIoY+wq+q24BHpzCLJGmCxvUc/plJdifZnuSkwy1KsinJ\njiQ7nn3qwJjuWpLUxziCvxNYV1UnA1cDtxxuYVVtqaqNVbVx2cpVY7hrSVJf8w5+VT1WVU90x7cB\nK5KsnvdkkqSxmnfwk7wySbrjp3W3+ch8b1eSNF5DX6WT5JPAWcDqJPuA9wMrAKpqM3Ah8I4kB4Gn\ngYuqqiY2sSRpJEODX1VvHXL5NQxetilJWsR8p60kNcLgS1IjDL4kNcLgS1IjDL4kNcLgS1IjDL4k\nNcLgS1IjDL4kNcLgS1IjDL4kNcLgS1IjDL4kNcLgS1IjDL4kNcLgS1IjDL4kNcLgS1IjDL4kNcLg\nS1IjDL4kNcLgS1IjDL4kNcLgS1IjDL4kNcLgS1IjhgY/yfVJHk5y72EuT5KrkuxNsjvJqeMfU5I0\nX30e4d8AnPMTLj8X2NAdNgHXzX8sSdK4DQ1+Vd0GPPoTllwA3FgDdwLHJjluXANKksZj+RhuYy3w\n4IzT+7rz9s9emGQTg38FsOwla8Zw1+O1/rLPLPQILxju1QuX/+/aNdUf2lbVlqraWFUbl61cNc27\nlqTmjSP4DwEnzDh9fHeeJGkRGUfwtwKXdK/WOQM4UFU/9nSOJGlhDX0OP8kngbOA1Un2Ae8HVgBU\n1WZgG3AesBd4Crh0UsNKkkY3NPhV9dYhlxfwzrFNJEmaCN9pK0mNMPiS1AiDL0mNMPiS1AiDL0mN\nMPiS1AiDL0mNMPiS1AiDL0mNMPiS1AiDL0mNMPiS1AiDL0mNMPiS1AiDL0mNMPiS1AiDL0mNMPiS\n1AiDL0mNMPiS1AiDL0mNMPiS1AiDL0mNMPiS1AiDL0mN6BX8JOck+VqSvUkum+Pys5IcSLKrO1wx\n/lElSfOxfNiCJMuAa4GzgX3Al5Jsrao9s5beXlXnT2BGSdIY9HmEfxqwt6q+XlU/BD4FXDDZsSRJ\n49Yn+GuBB2ec3tedN9uZSXYn2Z7kpLluKMmmJDuS7Hj2qQMjjCtJGtW4fmi7E1hXVScDVwO3zLWo\nqrZU1caq2rhs5aox3bUkqY8+wX8IOGHG6eO7855XVY9V1RPd8W3AiiSrxzalJGne+gT/S8CGJK9K\nchRwEbB15oIkr0yS7vhp3e0+Mu5hJUmjG/oqnao6mORdwGeBZcD1VXVfkrd3l28GLgTekeQg8DRw\nUVXVBOeWJB2hocGH55+m2TbrvM0zjl8DXDPe0SRJ4+Q7bSWpEQZfkhph8CWpEQZfkhph8CWpEQZf\nkhph8CWpEQZfkhph8CWpEQZfkhph8CWpEQZfkhph8CWpEQZfkhph8CWpEQZfkhph8CWpEQZfkhph\n8CWpEQZfkhph8CWpEQZfkhph8CWpEQZfkhph8CWpEQZfkhrRK/hJzknytSR7k1w2x+VJclV3+e4k\np45/VEnSfAwNfpJlwLXAucCJwFuTnDhr2bnAhu6wCbhuzHNKkuapzyP804C9VfX1qvoh8Cnggllr\nLgBurIE7gWOTHDfmWSVJ87C8x5q1wIMzTu8DTu+xZi2wf+aiJJsY/AsA4JlvXHn+vUc07dK1Gvju\nQg+xSCypvciV87r6ktqLeXIvDvmFUa/YJ/hjU1VbgC0ASXZU1cZp3v9i5V4c4l4c4l4c4l4ckmTH\nqNft85TOQ8AJM04f3513pGskSQuoT/C/BGxI8qokRwEXAVtnrdkKXNK9WucM4EBV7Z99Q5KkhTP0\nKZ2qOpjkXcBngWXA9VV1X5K3d5dvBrYB5wF7gaeAS3vc95aRp1563ItD3ItD3ItD3ItDRt6LVNU4\nB5EkLVK+01aSGmHwJakREw++H8twSI+9+P1uD+5J8oUkr1+IOadh2F7MWPeGJAeTXDjN+aapz14k\nOSvJriT3Jfn8tGeclh5/RlYl+ZckX+n2os/PC19wklyf5OEkc75XaeRuVtXEDgx+yPvfwM8BRwFf\nAU6cteY8YDsQ4AzgrknOtFCHnntxJvDS7vi5Le/FjHX/zuBFARcu9NwL+H1xLLAHWNedfvlCz72A\ne3E5cGV3fA3wKHDUQs8+gb34FeBU4N7DXD5SNyf9CN+PZThk6F5U1Req6nvdyTsZvJ9hKerzfQHw\np8BNwMPTHG7K+uzF24Cbq+qbAFW1VPejz14UcEySAEczCP7B6Y45eVV1G4Ov7XBG6uakg3+4j1w4\n0jVLwZF+nX/M4G/wpWjoXiRZC/w2S/+D+Pp8X7wGeGmS/0hyd5JLpjbddPXZi2uA1wHfAu4B3l1V\nz01nvEVlpG5O9aMV1E+SX2UQ/Dct9CwL6G+A91XVc4MHc01bDvwy8GvAi4H/THJnVf3Xwo61IH4T\n2AW8GXg1cGuS26vqsYUd64Vh0sH3YxkO6fV1JjkZ+AhwblU9MqXZpq3PXmwEPtXFfjVwXpKDVXXL\ndEacmj57sQ94pKqeBJ5MchvwemCpBb/PXlwKfLAGT2TvTfI/wGuBL05nxEVjpG5O+ikdP5bhkKF7\nkWQdcDNw8RJ/9DZ0L6rqVVW1vqrWA/8I/MkSjD30+zPyz8CbkixPspLBp9XeP+U5p6HPXnyTwb90\nSPIKBp8c+fWpTrk4jNTNiT7Cr8l9LMMLTs+9uAJ4GfDh7pHtwVqCnxDYcy+a0Gcvqur+JP8K7Aae\nAz5SVUvuo8V7fl/8JXBDknsYvELlfVW15D42OckngbOA1Un2Ae8HVsD8uulHK0hSI3ynrSQ1wuBL\nUiMMviQ1wuBLUiMMviQ1wuBLUiMMviQ14v8AIQ9XrYAND0oAAAAASUVORK5CYII=\n",
      "text/plain": [
       "<matplotlib.figure.Figure at 0x7ff713635fd0>"
      ]
     },
     "metadata": {},
     "output_type": "display_data"
    },
    {
     "data": {
      "image/png": "iVBORw0KGgoAAAANSUhEUgAAAXIAAAEICAYAAABCnX+uAAAABHNCSVQICAgIfAhkiAAAAAlwSFlz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\n",
      "text/plain": [
       "<matplotlib.figure.Figure at 0x7ff658251a50>"
      ]
     },
     "metadata": {},
     "output_type": "display_data"
    },
    {
     "data": {
      "image/png": "iVBORw0KGgoAAAANSUhEUgAAAXgAAAEICAYAAABVv+9nAAAABHNCSVQICAgIfAhkiAAAAAlwSFlz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\nf6nxcMMJAfXcAAAAAElFTkSuQmCC\n",
      "text/plain": [
       "<matplotlib.figure.Figure at 0x7ff855befd10>"
      ]
     },
     "metadata": {},
     "output_type": "display_data"
    },
    {
     "data": {
      "image/png": "iVBORw0KGgoAAAANSUhEUgAAAXIAAAEICAYAAABCnX+uAAAABHNCSVQICAgIfAhkiAAAAAlwSFlz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\nIgAAAABJRU5ErkJggg==\n",
      "text/plain": [
       "<matplotlib.figure.Figure at 0x7ff658251a10>"
      ]
     },
     "metadata": {},
     "output_type": "display_data"
    },
    {
     "data": {
      "image/png": "iVBORw0KGgoAAAANSUhEUgAAAXIAAAEICAYAAABCnX+uAAAABHNCSVQICAgIfAhkiAAAAAlwSFlz\nAAALEgAACxIB0t1+/AAADRRJREFUeJzt3X+MZXdZx/H3p7OtsNJuibuQ2kKmaq1WQmkdCwpBWhRK\niyUmjQG0xAYzUQOpiURWEzXEf2piDBIRs6kFjNBiCihQqdbwoxLa4m7t761mLYX+IqVUC7SJzbaP\nf9xbdyzd3rN35947z/T9SiZ778y5d575Zva9Z889ZyZVhSSpryMWPYAk6fAYcklqzpBLUnOGXJKa\nM+SS1Jwhl6TmDLkkNWfIJak5Qy5JzRlybQpJ7kryriQ3J3k4yceSPCfJ3iRvXLPdliTfTHJ6kuUk\nlWQ1yX1J7k/yrkV+HdI0DLk2k18CzgZOBF4K/CpwGfCWNdu8Hniwqm5Y874zgZOA1wHvTvJzc5lW\nWieGXJvJ+6rqvqp6CPg08DLgo8B5SbaOt3kro7iv9Z6qeqSqbgE+yP8Pv7ThGXJtJt9Yc/tR4HlV\ntQ/YC/zCOObnMYr7Wnevuf014AdnOqW0zrYsegBpDp48vHIEcPs47mu9CLhjfPvFwH1znE06bO6R\n69ngckbHv3+D790bB/j9JFuT/ARwIfCxeQ4nHS73yLXpVdX9Sa4FfpbRC6JP9UVgH6Mdmz+pqn+a\n53zS4Yq/WELPVkmWga8CR1bV/sVOI03PQyuS1Jwhl6TmPLQiSc25Ry5Jzc3krJXt27fX8vLyLJ5a\nkjalPXv2PFhVO6Z57ExCvry8zO7du2fx1JK0KSX52rSP9dCKJDVnyCWpOUMuSc0ZcklqzpBLUnOG\nXJKaGxTyJMcmuSLJHePfgfjTsx5MkjTM0PPI/wy4qqrOT3IUsHXSAyRJ8zEx5Em2Aa9m9ItsqarH\ngMdmO5Ykaaghe+QnAt8EPpjkVGAPcFFVPbJ2oySrwCrA0jE7WN555XrPeljuuvjcRY8gSTMx5Bj5\nFuB04ANVdRrwCLDzqRtV1a6qWqmqlaWt29Z5TEnSwQwJ+T3APVV1/fj+FYzCLknaACaGvKq+Adyd\n5OTxu14L3D7TqSRJgw09a+WdwEfGZ6zcyeg3jUuSNoBBIa+qG4GVGc8iSZqCV3ZKUnOGXJKaM+SS\n1Jwhl6TmDLkkNWfIJak5Qy5JzRlySWrOkEtSc4Zckpoz5JLUnCGXpOYMuSQ1Z8glqTlDLknNGXJJ\nas6QS1JzhlySmjPkktScIZek5gy5JDVnyCWpOUMuSc0ZcklqzpBLUnNbhmyU5C7gO8DjwP6qWpnl\nUJKk4QaFfOzMqnpwZpNIkqbioRVJam5oyAv45yR7kqw+3QZJVpPsTrL78UcfXr8JJUnPaOihlVdV\n1b1JXgBcneSOqrpm7QZVtQvYBfB9x51U6zynJOkgBu2RV9W94z8fAD4JnDHLoSRJw00MeZLvT3L0\nk7eB1wG3znowSdIwQw6tvBD4ZJInt/9oVV0106kkSYNNDHlV3QmcOodZJElT8PRDSWrOkEtSc4Zc\nkpoz5JLUnCGXpOYMuSQ1Z8glqTlDLknNGXJJas6QS1JzhlySmjPkktScIZek5gy5JDVnyCWpOUMu\nSc0ZcklqzpBLUnOGXJKaM+SS1Jwhl6TmDLkkNWfIJak5Qy5JzRlySWrOkEtSc4NDnmQpyb8l+cws\nB5IkHZpD2SO/CNg7q0EkSdMZFPIkJwDnApfMdhxJ0qHaMnC79wK/Axx9sA2SrAKrAEvH7Dj8yaSx\n5Z1XLnqEp3XXxecuegQJGLBHnuSNwANVteeZtquqXVW1UlUrS1u3rduAkqRnNuTQyiuB85LcBVwO\nnJXkb2Y6lSRpsIkhr6rfraoTqmoZeDPwuar6lZlPJkkaxPPIJam5oS92AlBVXwC+MJNJJElTcY9c\nkpoz5JLUnCGXpOYMuSQ1Z8glqTlDLknNGXJJas6QS1JzhlySmjPkktScIZek5gy5JDVnyCWpOUMu\nSc0ZcklqzpBLUnOGXJKaM+SS1Jwhl6TmDLkkNWfIJak5Qy5JzRlySWrOkEtSc4ZckpqbGPIkz0ny\nlSQ3JbktyXvmMZgkaZgtA7b5H+CsqvpukiOBLyX5bFVdN+PZJEkDTAx5VRXw3fHdI8dvNcuhJEnD\nDdkjJ8kSsAf4EeD9VXX902yzCqwCLB2zYz1nXBfLO69c9Ajf466Lz130CJI2gUEvdlbV41X1MuAE\n4IwkL3mabXZV1UpVrSxt3bbec0qSDuKQzlqpqv8GPg+cPZtxJEmHashZKzuSHDu+/Vzg54E7Zj2Y\nJGmYIcfIjwM+PD5OfgTwt1X1mdmOJUkaashZKzcDp81hFknSFLyyU5KaM+SS1Jwhl6TmDLkkNWfI\nJak5Qy5JzRlySWrOkEtSc4Zckpoz5JLUnCGXpOYMuSQ1Z8glqTlDLknNGXJJas6QS1JzhlySmjPk\nktScIZek5gy5JDVnyCWpOUMuSc0ZcklqzpBLUnOGXJKaM+SS1NzEkCd5UZLPJ7k9yW1JLprHYJKk\nYbYM2GY/8NtVdUOSo4E9Sa6uqttnPJskaYCJe+RVdX9V3TC+/R1gL3D8rAeTJA0zZI/8/yRZBk4D\nrn+aj60CqwBLx+xYh9G0CMs7r1z0CJIO0eAXO5M8D/g48FtV9e2nfryqdlXVSlWtLG3dtp4zSpKe\nwaCQJzmSUcQ/UlWfmO1IkqRDMeSslQB/Beytqj+d/UiSpEMxZI/8lcAFwFlJbhy/nTPjuSRJA018\nsbOqvgRkDrNIkqbglZ2S1Jwhl6TmDLkkNWfIJak5Qy5JzRlySWrOkEtSc4Zckpoz5JLUnCGXpOYM\nuSQ1Z8glqTlDLknNGXJJas6QS1JzhlySmjPkktScIZek5gy5JDVnyCWpOUMuSc0ZcklqzpBLUnOG\nXJKaM+SS1NzEkCe5NMkDSW6dx0CSpEMzZI/8Q8DZM55DkjSliSGvqmuAh+YwiyRpCut2jDzJapLd\nSXY//ujD6/W0kqQJ1i3kVbWrqlaqamVp67b1elpJ0gSetSJJzRlySWpuyOmHlwHXAicnuSfJ22c/\nliRpqC2TNqiqt8xjEEnSdDy0IknNGXJJas6QS1JzhlySmjPkktScIZek5gy5JDVnyCWpOUMuSc0Z\ncklqzpBLUnOGXJKaM+SS1Jwhl6TmDLkkNWfIJak5Qy5JzRlySWrOkEtSc4Zckpoz5JLUnCGXpOYM\nuSQ1Z8glqTlDLknNGXJJam5QyJOcneTfk+xLsnPWQ0mShpsY8iRLwPuBNwCnAG9JcsqsB5MkDTNk\nj/wMYF9V3VlVjwGXA2+a7ViSpKFSVc+8QXI+cHZV/dr4/gXAy6vqHU/ZbhVYHd99CXDr+o/b0nbg\nwUUPsQG4Dge4Fge4FgecXFVHT/PALes1QVXtAnYBJNldVSvr9dyduRYjrsMBrsUBrsUBSXZP+9gh\nh1buBV605v4J4/dJkjaAISH/V+CkJCcmOQp4M/Cp2Y4lSRpq4qGVqtqf5B3APwJLwKVVdduEh+1a\nj+E2CddixHU4wLU4wLU4YOq1mPhipyRpY/PKTklqzpBLUnNTh3zSZfsZed/44zcnOf3wRt24BqzF\nL4/X4JYkX05y6iLmnIehP84hyU8l2T++TmFTGrIWSV6T5MYktyX54rxnnJcBf0e2Jfl0kpvGa3Hh\nIuactSSXJnkgydNeZzN1N6vqkN8Yvej5n8APAUcBNwGnPGWbc4DPAgFeAVw/zefa6G8D1+JngOeP\nb7/h2bwWa7b7HPAPwPmLnnuB3xfHArcDLx7ff8Gi517gWvwe8Mfj2zuAh4CjFj37DNbi1cDpwK0H\n+fhU3Zx2j3zIZftvAv66Rq4Djk1y3JSfbyObuBZV9eWq+q/x3esYnYu/GQ39cQ7vBD4OPDDP4eZs\nyFq8FfhEVX0doKo263oMWYsCjk4S4HmMQr5/vmPOXlVdw+hrO5ipujltyI8H7l5z/57x+w51m83g\nUL/OtzP6F3czmrgWSY4HfhH4wBznWoQh3xc/Cjw/yReS7EnytrlNN19D1uLPgR8H7gNuAS6qqifm\nM96GMlU31+0SfU2W5ExGIX/VomdZoPcC766qJ0Y7X89qW4CfBF4LPBe4Nsl1VfUfix1rIV4P3Aic\nBfwwcHWSf6mqby92rB6mDfmQy/afLZf2D/o6k7wUuAR4Q1V9a06zzduQtVgBLh9HfDtwTpL9VfV3\n8xlxboasxT3At6rqEeCRJNcApwKbLeRD1uJC4OIaHSjel+SrwI8BX5nPiBvGVN2c9tDKkMv2PwW8\nbfwq7CuAh6vq/ik/30Y2cS2SvBj4BHDBJt/bmrgWVXViVS1X1TJwBfCbmzDiMOzvyN8Dr0qyJclW\n4OXA3jnPOQ9D1uLrjP5nQpIXAicDd851yo1hqm5OtUdeB7lsP8mvjz/+l4zOSDgH2Ac8yuhf3E1n\n4Fr8AfADwF+M90T31yb8iW8D1+JZYchaVNXeJFcBNwNPAJdU1ab78c8Dvy/+CPhQklsYnbHx7qra\ndD/eNsllwGuA7UnuAf4QOBIOr5teoi9JzXllpyQ1Z8glqTlDLknNGXJJas6QS1JzhlySmjPkktTc\n/wJEtAYAmuFluwAAAABJRU5ErkJggg==\n",
      "text/plain": [
       "<matplotlib.figure.Figure at 0x7ff5f0c36fd0>"
      ]
     },
     "metadata": {},
     "output_type": "display_data"
    }
   ],
   "source": [
    "for i in range(1, 6):\n",
    "    plt.figure()\n",
    "    plt.hist(ps[:, i, 0][np.isfinite(ps[:,i,0])], bins=np.linspace(0,1,10));\n",
    "    plt.title(model_names[i])\n",
    "    plt.xlim(0, 1)"
   ]
  },
  {
   "cell_type": "code",
   "execution_count": 21,
   "metadata": {},
   "outputs": [
    {
     "name": "stderr",
     "output_type": "stream",
     "text": [
      "/nfs/nhome/live/kevinli/anaconda/lib/python2.7/site-packages/ipykernel/__main__.py:1: RuntimeWarning: Mean of empty slice\n",
      "  if __name__ == '__main__':\n"
     ]
    },
    {
     "data": {
      "text/plain": [
       "array([[        nan,  0.83054885,  0.93031015,  0.88695481,  0.89110496],\n",
       "       [ 0.16945115,         nan,  0.8820798 ,  0.55037755,  0.86601111],\n",
       "       [ 0.06968985,  0.1179202 ,         nan,  0.09383451,  0.55563835],\n",
       "       [ 0.11304519,  0.44962245,  0.90616549,         nan,  0.86932173],\n",
       "       [ 0.10889504,  0.13398889,  0.44436165,  0.13067827,         nan]])"
      ]
     },
     "execution_count": 21,
     "metadata": {},
     "output_type": "execute_result"
    }
   ],
   "source": [
    "np.nanmean(ps,0)"
   ]
  },
  {
   "cell_type": "code",
   "execution_count": 28,
   "metadata": {},
   "outputs": [
    {
     "name": "stderr",
     "output_type": "stream",
     "text": [
      "/nfs/nhome/live/kevinli/anaconda/lib/python2.7/site-packages/numpy/lib/nanfunctions.py:1427: RuntimeWarning: Degrees of freedom <= 0 for slice.\n",
      "  keepdims=keepdims)\n"
     ]
    },
    {
     "data": {
      "text/plain": [
       "array([[        nan,  0.15709959,  0.15061266,  0.14534805,  0.17182899],\n",
       "       [ 0.15709959,         nan,  0.18556585,  0.27777666,  0.17159743],\n",
       "       [ 0.15061266,  0.18556585,         nan,  0.17621632,  0.2733995 ],\n",
       "       [ 0.14534805,  0.27777666,  0.17621632,         nan,  0.19202445],\n",
       "       [ 0.17182899,  0.17159743,  0.2733995 ,  0.19202445,         nan]])"
      ]
     },
     "execution_count": 28,
     "metadata": {},
     "output_type": "execute_result"
    }
   ],
   "source": [
    "np.nanstd(ps,0)"
>>>>>>> 34099bd1ad7807328c74d389f1c88ae95499e473
   ]
  }
 ],
 "metadata": {
  "kernelspec": {
<<<<<<< HEAD
   "display_name": "Python 2",
=======
   "display_name": "Python [default]",
>>>>>>> 34099bd1ad7807328c74d389f1c88ae95499e473
   "language": "python",
   "name": "python2"
  },
  "language_info": {
   "codemirror_mode": {
    "name": "ipython",
    "version": 2
   },
   "file_extension": ".py",
   "mimetype": "text/x-python",
   "name": "python",
   "nbconvert_exporter": "python",
   "pygments_lexer": "ipython2",
<<<<<<< HEAD
   "version": "2.7.15"
=======
   "version": "2.7.13"
>>>>>>> 34099bd1ad7807328c74d389f1c88ae95499e473
  }
 },
 "nbformat": 4,
 "nbformat_minor": 2
}
