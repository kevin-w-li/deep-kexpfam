{
 "cells": [
  {
   "cell_type": "code",
   "execution_count": 1,
   "metadata": {},
   "outputs": [
    {
     "name": "stderr",
     "output_type": "stream",
     "text": [
      "Using cuDNN version 6021 on context None\n",
      "Mapped name None to device cuda: GeForce GTX 1080 Ti (0000:84:00.0)\n"
     ]
    }
   ],
   "source": [
    "import os\n",
    "os.environ[\"THEANO_FLAGS\"] = \"device=cuda\"\n",
    "\n",
    "import numpy as np\n",
    "import matplotlib.pyplot as plt\n",
    "%matplotlib inline\n",
    "\n",
    "from results_summary import load_all_models"
   ]
  },
  {
   "cell_type": "code",
   "execution_count": 2,
   "metadata": {
    "collapsed": true
   },
   "outputs": [],
   "source": [
    "#from tqdm import tqdm_notebook as tqdm\n",
    "from tqdm import tqdm"
   ]
  },
  {
   "cell_type": "code",
   "execution_count": 3,
   "metadata": {
    "collapsed": true
   },
   "outputs": [],
   "source": [
    "dl_args = dict(npoint=300, nlayer=3, nneuron=30, init_log_lam=-3, points_std=0.0, keep_prob=1.0, init_weight_std=1.0, noise_std=0.05,\n",
    "                    points_type=\"opt\", log_lam_weights=-6, step_size=1e-2, mixture_kernel=False, init_log_sigma=np.linspace(0,1,3), base=True,\n",
    "                    niter=10000, ntrain=100, nvalid=100, patience=200, gpu_count=0, clip_score=False, curve_penalty=1, train_stage=2)\n",
    "\n",
    "others_args = dict( n_hiddens = [100]*2,\n",
    "                    n_comps = 10,\n",
    "                    n_layers = 5,\n",
    "                    act_fun = 'tanh',\n",
    "                    mode = 'random')"
   ]
  },
  {
   "cell_type": "markdown",
   "metadata": {},
   "source": [
    "* `p` is the data object\n",
    "* `m` is a dict of all models\n",
    "* `l` is a dict of log liks\n",
    "* `s` is a dict of samples (not for dkef)"
   ]
  },
  {
   "cell_type": "code",
   "execution_count": 4,
   "metadata": {
    "collapsed": true
   },
   "outputs": [],
   "source": [
    "from kgof import density, data, kernel\n",
    "from kmod import mctest\n",
    "from itertools import combinations\n",
    "\n",
    "def run_all_steins(data_name, seeds=range(15), save=True):\n",
    "    model_names = None\n",
    "    ps = None\n",
    "    stats = None\n",
    "    k = kernel.KPoly(degree=3)\n",
    "\n",
    "    for seed_i, seed in enumerate(tqdm(seeds, unit=\"seed\")):\n",
    "        p, m, l, s = load_all_models(data_name, seed, dl_args, others_args)\n",
    "        print m\n",
    "        if model_names is None:\n",
    "            model_names = sorted(m)\n",
    "            n = len(model_names)\n",
    "\n",
    "            ps = np.full((len(seeds), n, n), np.nan)\n",
    "            stats = np.full_like(ps, np.nan)\n",
    "        else:\n",
    "            assert model_names == sorted(m)\n",
    "\n",
    "        test_data = data.Data(p.test_data)\n",
    "\n",
    "        rs = np.random.RandomState(seed=seed_i)\n",
    "        V = p.test_data[rs.choice(p.test_data.shape[0], 100)]\n",
    "        V += rs.normal(scale=.2, size=V.shape)\n",
    "\n",
    "        densities = {name: density.from_grad_log(p.D, model.grad)\n",
    "                     for name, model in m.iteritems()}\n",
    "\n",
    "        #for i, j in tqdm(list(combinations(range(n), 2)), unit=\"test\"):\n",
    "        i = 0\n",
    "        for j in tqdm(range(n), unit=\"test\"):\n",
    "            d1 = densities[model_names[i]]\n",
    "            d2 = densities[model_names[j]]\n",
    "            res = mctest.DC_FSSD(d1, d2, k, k, V, V).perform_test(test_data)\n",
    "            ps[seed_i, i, j] = res['pvalue']\n",
    "            ps[seed_i, j, i] = 1 - res['pvalue']\n",
    "            stats[seed_i, i, j] = res['test_stat']\n",
    "            stats[seed_i, j, i] = -res['test_stat']\n",
    "\n",
    "    if save:\n",
    "        np.savez('stein_{}.npz'.format(data_name), ps=ps, stats=stats, model_names=model_names)\n",
    "    return ps, stats, model_names"
   ]
  },
  {
   "cell_type": "code",
   "execution_count": 5,
   "metadata": {
    "scrolled": false
   },
   "outputs": [
    {
     "name": "stderr",
     "output_type": "stream",
     "text": [
      "\r",
      "  0%|          | 0/15 [00:00<?, ?seed/s]"
     ]
    },
    {
     "name": "stdout",
     "output_type": "stream",
     "text": [
      "INFO:tensorflow:Restoring parameters from ckpts/H_D22_l3_nd30_np300_nt100_nv100_pto_ss100_ni10000_n05_k10_m0_b1_p200_nk3_cl0_cu1_s00.ckpt\n"
     ]
    },
    {
     "name": "stderr",
     "output_type": "stream",
     "text": [
      "INFO: 2018-10-03 12:04:40,954: tf_logging.info(): Restoring parameters from ckpts/H_D22_l3_nd30_np300_nt100_nv100_pto_ss100_ni10000_n05_k10_m0_b1_p200_nk3_cl0_cu1_s00.ckpt\n"
     ]
    },
    {
     "ename": "IOError",
     "evalue": "[Errno 2] No such file or directory: 'maf_models/hepmass/hepmass_maf_rnd_100_100_layers_5_tanh_p200_s00.pkl'",
     "output_type": "error",
     "traceback": [
      "\u001b[0;31m---------------------------------------------------------------------------\u001b[0m",
      "\u001b[0;31mIOError\u001b[0m                                   Traceback (most recent call last)",
      "\u001b[0;32m<ipython-input-5-4ee582a426b3>\u001b[0m in \u001b[0;36m<module>\u001b[0;34m()\u001b[0m\n\u001b[1;32m      4\u001b[0m \u001b[0;34m\u001b[0m\u001b[0m\n\u001b[1;32m      5\u001b[0m \u001b[0;32mfor\u001b[0m \u001b[0mdname\u001b[0m \u001b[0;32min\u001b[0m \u001b[0mdnames\u001b[0m\u001b[0;34m:\u001b[0m\u001b[0;34m\u001b[0m\u001b[0m\n\u001b[0;32m----> 6\u001b[0;31m     \u001b[0mrun_all_steins\u001b[0m\u001b[0;34m(\u001b[0m\u001b[0mdname\u001b[0m\u001b[0;34m)\u001b[0m\u001b[0;34m\u001b[0m\u001b[0m\n\u001b[0m",
      "\u001b[0;32m<ipython-input-4-cd52eead3687>\u001b[0m in \u001b[0;36mrun_all_steins\u001b[0;34m(data_name, seeds, save)\u001b[0m\n\u001b[1;32m     10\u001b[0m \u001b[0;34m\u001b[0m\u001b[0m\n\u001b[1;32m     11\u001b[0m     \u001b[0;32mfor\u001b[0m \u001b[0mseed_i\u001b[0m\u001b[0;34m,\u001b[0m \u001b[0mseed\u001b[0m \u001b[0;32min\u001b[0m \u001b[0menumerate\u001b[0m\u001b[0;34m(\u001b[0m\u001b[0mtqdm\u001b[0m\u001b[0;34m(\u001b[0m\u001b[0mseeds\u001b[0m\u001b[0;34m,\u001b[0m \u001b[0munit\u001b[0m\u001b[0;34m=\u001b[0m\u001b[0;34m\"seed\"\u001b[0m\u001b[0;34m)\u001b[0m\u001b[0;34m)\u001b[0m\u001b[0;34m:\u001b[0m\u001b[0;34m\u001b[0m\u001b[0m\n\u001b[0;32m---> 12\u001b[0;31m         \u001b[0mp\u001b[0m\u001b[0;34m,\u001b[0m \u001b[0mm\u001b[0m\u001b[0;34m,\u001b[0m \u001b[0ml\u001b[0m\u001b[0;34m,\u001b[0m \u001b[0ms\u001b[0m \u001b[0;34m=\u001b[0m \u001b[0mload_all_models\u001b[0m\u001b[0;34m(\u001b[0m\u001b[0mdata_name\u001b[0m\u001b[0;34m,\u001b[0m \u001b[0mseed\u001b[0m\u001b[0;34m,\u001b[0m \u001b[0mdl_args\u001b[0m\u001b[0;34m,\u001b[0m \u001b[0mothers_args\u001b[0m\u001b[0;34m)\u001b[0m\u001b[0;34m\u001b[0m\u001b[0m\n\u001b[0m\u001b[1;32m     13\u001b[0m         \u001b[0;32mprint\u001b[0m \u001b[0mm\u001b[0m\u001b[0;34m\u001b[0m\u001b[0m\n\u001b[1;32m     14\u001b[0m         \u001b[0;32mif\u001b[0m \u001b[0mmodel_names\u001b[0m \u001b[0;32mis\u001b[0m \u001b[0mNone\u001b[0m\u001b[0;34m:\u001b[0m\u001b[0;34m\u001b[0m\u001b[0m\n",
      "\u001b[0;32m/nfs/nhome/live/kevinli/Code/deep-kexpfam/results_summary.py\u001b[0m in \u001b[0;36mload_all_models\u001b[0;34m(data_name, seed, dl_args, others_args, skip_theano)\u001b[0m\n\u001b[1;32m    104\u001b[0m     \u001b[0mmodel_fn\u001b[0m \u001b[0;34m=\u001b[0m \u001b[0mcreate_model_id\u001b[0m\u001b[0;34m(\u001b[0m\u001b[0mdata_name\u001b[0m\u001b[0;34m,\u001b[0m \u001b[0;34m\"maf\"\u001b[0m\u001b[0;34m,\u001b[0m \u001b[0mmode\u001b[0m\u001b[0;34m,\u001b[0m \u001b[0mn_hiddens\u001b[0m\u001b[0;34m,\u001b[0m \u001b[0mact_fun\u001b[0m\u001b[0;34m,\u001b[0m \u001b[0mn_layers\u001b[0m\u001b[0;34m,\u001b[0m \u001b[0mseed\u001b[0m\u001b[0;34m=\u001b[0m\u001b[0mseed\u001b[0m\u001b[0;34m)\u001b[0m\u001b[0;34m\u001b[0m\u001b[0m\n\u001b[1;32m    105\u001b[0m     \u001b[0mmodel_fn\u001b[0m \u001b[0;34m=\u001b[0m \u001b[0;34m\"maf_models/%s/%s.pkl\"\u001b[0m \u001b[0;34m%\u001b[0m \u001b[0;34m(\u001b[0m\u001b[0mp\u001b[0m\u001b[0;34m.\u001b[0m\u001b[0mname\u001b[0m\u001b[0;34m.\u001b[0m\u001b[0mlower\u001b[0m\u001b[0;34m(\u001b[0m\u001b[0;34m)\u001b[0m\u001b[0;34m,\u001b[0m \u001b[0mmodel_fn\u001b[0m\u001b[0;34m)\u001b[0m\u001b[0;34m\u001b[0m\u001b[0m\n\u001b[0;32m--> 106\u001b[0;31m     \u001b[0mmodels\u001b[0m\u001b[0;34m[\u001b[0m\u001b[0;34m\"maf\"\u001b[0m\u001b[0;34m]\u001b[0m \u001b[0;34m=\u001b[0m \u001b[0mload\u001b[0m\u001b[0;34m(\u001b[0m\u001b[0mmodel_fn\u001b[0m\u001b[0;34m)\u001b[0m\u001b[0;34m\u001b[0m\u001b[0m\n\u001b[0m\u001b[1;32m    107\u001b[0m     \u001b[0mfn\u001b[0m \u001b[0;34m=\u001b[0m \u001b[0;34m\"data/maf/%s_D%02d_n%d_nn%d_nl%d_nt200_p200_maf_samples_s%02d.h5\"\u001b[0m \u001b[0;34m%\u001b[0m \u001b[0;34m(\u001b[0m\u001b[0mp\u001b[0m\u001b[0;34m.\u001b[0m\u001b[0mname\u001b[0m\u001b[0;34m,\u001b[0m \u001b[0mp\u001b[0m\u001b[0;34m.\u001b[0m\u001b[0mD\u001b[0m\u001b[0;34m,\u001b[0m \u001b[0mp\u001b[0m\u001b[0;34m.\u001b[0m\u001b[0mnoise_std\u001b[0m\u001b[0;34m*\u001b[0m\u001b[0;36m100\u001b[0m\u001b[0;34m,\u001b[0m \u001b[0mn_hiddens\u001b[0m\u001b[0;34m[\u001b[0m\u001b[0;36m0\u001b[0m\u001b[0;34m]\u001b[0m\u001b[0;34m,\u001b[0m \u001b[0mn_layers\u001b[0m\u001b[0;34m,\u001b[0m \u001b[0mseed\u001b[0m\u001b[0;34m)\u001b[0m\u001b[0;34m\u001b[0m\u001b[0m\n\u001b[1;32m    108\u001b[0m     \u001b[0;32mif\u001b[0m \u001b[0mos\u001b[0m\u001b[0;34m.\u001b[0m\u001b[0mpath\u001b[0m\u001b[0;34m.\u001b[0m\u001b[0misfile\u001b[0m\u001b[0;34m(\u001b[0m\u001b[0mfn\u001b[0m\u001b[0;34m)\u001b[0m\u001b[0;34m:\u001b[0m\u001b[0;34m\u001b[0m\u001b[0m\n",
      "\u001b[0;32m/nfs/nhome/live/kevinli/Code/deep-kexpfam/maf/util.pyc\u001b[0m in \u001b[0;36mload\u001b[0;34m(file)\u001b[0m\n\u001b[1;32m    311\u001b[0m     \"\"\"\n\u001b[1;32m    312\u001b[0m \u001b[0;34m\u001b[0m\u001b[0m\n\u001b[0;32m--> 313\u001b[0;31m     \u001b[0mf\u001b[0m \u001b[0;34m=\u001b[0m \u001b[0mopen\u001b[0m\u001b[0;34m(\u001b[0m\u001b[0mfile\u001b[0m\u001b[0;34m,\u001b[0m \u001b[0;34m'r'\u001b[0m\u001b[0;34m)\u001b[0m\u001b[0;34m\u001b[0m\u001b[0m\n\u001b[0m\u001b[1;32m    314\u001b[0m     \u001b[0mdata\u001b[0m \u001b[0;34m=\u001b[0m \u001b[0mpickle\u001b[0m\u001b[0;34m.\u001b[0m\u001b[0mload\u001b[0m\u001b[0;34m(\u001b[0m\u001b[0mf\u001b[0m\u001b[0;34m)\u001b[0m\u001b[0;34m\u001b[0m\u001b[0m\n\u001b[1;32m    315\u001b[0m     \u001b[0mf\u001b[0m\u001b[0;34m.\u001b[0m\u001b[0mclose\u001b[0m\u001b[0;34m(\u001b[0m\u001b[0;34m)\u001b[0m\u001b[0;34m\u001b[0m\u001b[0m\n",
      "\u001b[0;31mIOError\u001b[0m: [Errno 2] No such file or directory: 'maf_models/hepmass/hepmass_maf_rnd_100_100_layers_5_tanh_p200_s00.pkl'"
     ]
    }
   ],
   "source": [
    "dnames = [\"redwine\", \"whitewine\", \"parkinsons\", \"miniboone\", \"hepmass\"]\n",
    "dnames = [\"hepmass\"]\n",
    "\n",
    "\n",
    "for dname in dnames:\n",
    "    run_all_steins(dname)"
   ]
  },
  {
   "cell_type": "code",
   "execution_count": 9,
   "metadata": {},
   "outputs": [
    {
     "data": {
      "image/png": "[encoded data removed]",
      "text/plain": [
       "<matplotlib.figure.Figure at 0x7faa35c34b50>"
      ]
     },
     "metadata": {},
     "output_type": "display_data"
    }
   ],
   "source": [
    "fig, axes = plt.subplots(1,5, figsize=(12,3), sharex=False, sharey=True)\n",
    "\n",
    "display_names = dict(dkef=\"DKEF\", made=\"MADE\", maf=\"MAF\", made_mog = \"MADE-MOG\", maf_mog=\"MAF-MOG\", nvp=\"NVP\")\n",
    "\n",
    "dnames = [\"redwine\", \"whitewine\", \"parkinsons\", \"miniboone\"]\n",
    "\n",
    "for di, dname in enumerate(dnames):\n",
    "\n",
    "    test_res = np.load(\"stein_%s.npz\" % dname.lower())\n",
    "    \n",
    "    ps = test_res[\"ps\"]\n",
    "    stats = test_res[\"stats\"]\n",
    "    model_names = test_res[\"model_names\"]\n",
    "\n",
    "    pvalues = ps[:, 1:, 0]\n",
    "    ax = axes[di]\n",
    "\n",
    "\n",
    "    ax.set_title(dname, fontsize=15)\n",
    "    ax.bar(np.arange(5), np.nanmean(pvalues,0), yerr=np.nanstd(pvalues,0))\n",
    "    \n",
    "    x = np.repeat(np.arange(5)[None,:],[ps.shape[0]], axis=0).flatten()\n",
    "    x = x + np.random.uniform(-0.2,0.2,*x.shape)\n",
    "    ax.scatter(x, pvalues.flatten(), 10, 'k', marker=\"x\", zorder=3)\n",
    "    \n",
    "       \n",
    "    ax.set_xticks(range(5))\n",
    "    ax.set_xticklabels([display_names[k] for k in model_names[1:]], rotation=45, ha=\"right\", position=(0.0,0.01))\n",
    "    ax.set_ylim([0,1])\n",
    "    \n",
    "    if di == 0:\n",
    "        ax.set_ylabel(r\"$p_{H_0}$\", fontsize=15)\n",
    "fig.tight_layout(w_pad=0)\n",
    "#fig.savefig(\"figs/real_data_stein.pdf\")"
   ]
  },
  {
   "cell_type": "code",
   "execution_count": null,
   "metadata": {
    "collapsed": true
   },
   "outputs": [],
   "source": []
  }
 ],
 "metadata": {
  "kernelspec": {
   "display_name": "Python [default]",
   "language": "python",
   "name": "python2"
  },
  "language_info": {
   "codemirror_mode": {
    "name": "ipython",
    "version": 2
   },
   "file_extension": ".py",
   "mimetype": "text/x-python",
   "name": "python",
   "nbconvert_exporter": "python",
   "pygments_lexer": "ipython2",
   "version": "2.7.13"
  }
 },
 "nbformat": 4,
 "nbformat_minor": 2
}
