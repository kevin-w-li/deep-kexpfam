{
 "cells": [
  {
   "cell_type": "code",
   "execution_count": 1,
   "metadata": {},
   "outputs": [],
   "source": [
    "import numpy as np\n",
    "import matplotlib.pyplot as plt\n",
    "%matplotlib inline\n",
    "\n",
    "from results_summary import load_all_models"
   ]
  },
  {
   "cell_type": "code",
   "execution_count": 2,
   "metadata": {},
   "outputs": [],
   "source": [
    "from tqdm import tqdm_notebook as tqdm\n",
    "# from tqdm import tqdm"
   ]
  },
  {
   "cell_type": "code",
   "execution_count": 3,
   "metadata": {},
   "outputs": [],
   "source": [
    "dl_args = dict(npoint=300, nlayer=3, nneuron=30, init_log_lam=-3, points_std=0.0, keep_prob=1.0, init_weight_std=1.0, noise_std=0.05,\n",
    "                    points_type=\"opt\", log_lam_weights=-6, step_size=1e-2, mixture_kernel=False, init_log_sigma=np.linspace(0,1,3), base=True,\n",
    "                    niter=5000, ntrain=100, nvalid=100, patience=50, gpu_count=0, clip_score=True, trainable=False)\n",
    "\n",
    "others_args = dict( n_hiddens = [100]*2,\n",
    "                    n_comps = 10,\n",
    "                    n_layers = 5,\n",
    "                    act_fun = 'tanh',\n",
    "                    mode = 'random')"
   ]
  },
  {
   "cell_type": "markdown",
   "metadata": {},
   "source": [
    "* `p` is the data object\n",
    "* `m` is a dict of all models\n",
    "* `l` is a dict of log liks\n",
    "* `s` is a dict of samples (not for dkef)"
   ]
  },
  {
   "cell_type": "code",
   "execution_count": 4,
   "metadata": {},
   "outputs": [],
   "source": [
    "from kgof import density, data, kernel\n",
    "from kmod import mctest\n",
    "from itertools import combinations\n",
    "\n",
    "def run_all_steins(data_name, seeds=range(15), save=True):\n",
    "    model_names = None\n",
    "    ps = None\n",
    "    stats = None\n",
    "    k = kernel.KPoly(degree=3)\n",
    "\n",
    "    for seed_i, seed in enumerate(tqdm(seeds, unit=\"seed\")):\n",
    "        p, m, l, s = load_all_models(data_name, seed, dl_args, others_args)\n",
    "        if model_names is None:\n",
    "            model_names = sorted(m)\n",
    "            n = len(model_names)\n",
    "\n",
    "            ps = np.full((len(seeds), n, n), np.nan)\n",
    "            stats = np.full_like(ps, np.nan)\n",
    "        else:\n",
    "            assert model_names == sorted(m)\n",
    "\n",
    "        test_data = data.Data(p.test_data)\n",
    "\n",
    "        rs = np.random.RandomState(seed=seed_i)\n",
    "        V = p.test_data[rs.choice(p.test_data.shape[0], 100)]\n",
    "        V += rs.normal(scale=.2, size=V.shape)\n",
    "\n",
    "        densities = {name: density.from_grad_log(p.D, model.grad)\n",
    "                     for name, model in m.iteritems()}\n",
    "\n",
    "        for i, j in tqdm(list(combinations(range(n), 2)), unit=\"test\"):\n",
    "            d1 = densities[model_names[i]]\n",
    "            d2 = densities[model_names[j]]\n",
    "            res = mctest.DC_FSSD(d1, d2, k, k, V, V).perform_test(test_data)\n",
    "            ps[seed_i, i, j] = res['pvalue']\n",
    "            ps[seed_i, j, i] = 1 - res['pvalue']\n",
    "            stats[seed_i, i, j] = res['test_stat']\n",
    "            stats[seed_i, j, i] = -res['test_stat']\n",
    "\n",
    "    if save:\n",
    "        np.savez('stein_{}.npz'.format(data_name), ps=ps, stats=stats)\n",
    "    return ps, stats"
   ]
  },
  {
   "cell_type": "code",
   "execution_count": null,
   "metadata": {},
   "outputs": [],
   "source": [
    "run_all_steins('redwine')"
   ]
  }
 ],
 "metadata": {
  "kernelspec": {
   "display_name": "Python 2",
   "language": "python",
   "name": "python2"
  },
  "language_info": {
   "codemirror_mode": {
    "name": "ipython",
    "version": 2
   },
   "file_extension": ".py",
   "mimetype": "text/x-python",
   "name": "python",
   "nbconvert_exporter": "python",
   "pygments_lexer": "ipython2",
   "version": "2.7.15"
  }
 },
 "nbformat": 4,
 "nbformat_minor": 2
}
