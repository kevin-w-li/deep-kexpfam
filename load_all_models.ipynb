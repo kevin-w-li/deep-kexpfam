{
 "cells": [
  {
   "cell_type": "code",
   "execution_count": 1,
   "metadata": {},
   "outputs": [
    {
     "name": "stderr",
     "output_type": "stream",
     "text": [
      "WARNING (theano.tensor.blas): Using NumPy C-API based implementation for BLAS functions.\n",
      "Using cuDNN version 6021 on context None\n",
      "Mapped name None to device cuda: GeForce GTX 1080 Ti (0000:84:00.0)\n",
      "/nfs/nhome/live/kevinli/anaconda/lib/python2.7/site-packages/h5py/__init__.py:36: FutureWarning: Conversion of the second argument of issubdtype from `float` to `np.floating` is deprecated. In future, it will be treated as `np.float64 == np.dtype(float).type`.\n",
      "  from ._conv import register_converters as _register_converters\n"
     ]
    }
   ],
   "source": [
    "import os, sys\n",
    "os.environ[\"MKL_THREADING_LAYER\"]=\"GNU\"\n",
    "import numpy as np\n",
    "import matplotlib.pyplot as plt\n",
    "%matplotlib inline\n",
    "\n",
    "from results_summary import load_all_models"
   ]
  },
  {
   "cell_type": "code",
   "execution_count": 2,
   "metadata": {},
   "outputs": [],
   "source": [
    "dl_args = dict(npoint=300, nlayer=3, nneuron=30, init_log_lam=-3, points_std=0.0, keep_prob=1.0, init_weight_std=1.0, noise_std=0.05,\n",
    "                    points_type=\"opt\", log_lam_weights=-6, step_size=1e-3, mixture_kernel=False, \n",
    "               init_log_sigma=np.linspace(0,1,3), base=True,\n",
    "                    niter=10000, ntrain=100, nvalid=100, patience=200, gpu_count=0, clip_score=False,\n",
    "                curve_penalty=True)\n",
    "\n",
    "others_args = dict( n_hiddens = [100]*2,\n",
    "                    n_comps = 10,\n",
    "                    n_layers = 5,\n",
    "                    act_fun = 'tanh',\n",
    "                    mode = 'random')"
   ]
  },
  {
   "cell_type": "markdown",
   "metadata": {},
   "source": [
    "* `p` is the data object\n",
    "* `m` is a dict of all models\n",
    "* `l` is a dict of log liks\n",
    "* `s` is a dict of samples (not for dkef)"
   ]
  },
  {
   "cell_type": "code",
   "execution_count": 3,
   "metadata": {},
   "outputs": [
    {
     "name": "stdout",
     "output_type": "stream",
     "text": [
      "INFO:tensorflow:Restoring parameters from ckpts/R_D11_l0_nd0_np300_nt100_nv100_pto_ss10_ni10000_n05_k10_m0_b1_p200_nk3_cl0_cu1_q1_s00.ckpt\n",
      "INFO:tensorflow:Restoring parameters from ckpts/R_D11_l3_nd30_np300_nt100_nv100_pto_ss10_ni10000_n05_k10_m0_b1_p200_nk3_cl0_cu1_q1_s00.ckpt\n"
     ]
    }
   ],
   "source": [
    "seed = 0\n",
    "data_name = \"redwine\"\n",
    "p, m, l, s = load_all_models(data_name, seed, dl_args, others_args, skip_theano=True)"
   ]
  },
  {
   "cell_type": "code",
   "execution_count": 5,
   "metadata": {},
   "outputs": [
    {
     "name": "stderr",
     "output_type": "stream",
     "text": [
      "estimating logZ: 100%|██████████████████████████████████████████| 1000/1000 [00:12<00:00, 82.53it/s]\n"
     ]
    },
    {
     "data": {
      "text/plain": [
       "-13.491497128804342"
      ]
     },
     "execution_count": 5,
     "metadata": {},
     "output_type": "execute_result"
    }
   ],
   "source": [
    "m[\"dkef\"].eval(p.test_data, n=10**6).mean()"
   ]
  },
  {
   "cell_type": "code",
   "execution_count": 6,
   "metadata": {},
   "outputs": [
    {
     "name": "stderr",
     "output_type": "stream",
     "text": [
      "estimating logZ: 100%|█████████████████████████████████████████| 1000/1000 [00:07<00:00, 135.52it/s]\n"
     ]
    },
    {
     "data": {
      "text/plain": [
       "-14.136530847911123"
      ]
     },
     "execution_count": 6,
     "metadata": {},
     "output_type": "execute_result"
    }
   ],
   "source": [
    "m[\"kef\"].eval(p.test_data, n=10**6).mean()"
   ]
  }
 ],
 "metadata": {
  "kernelspec": {
   "display_name": "Python 2",
   "language": "python",
   "name": "python2"
  },
  "language_info": {
   "codemirror_mode": {
    "name": "ipython",
    "version": 2
   },
   "file_extension": ".py",
   "mimetype": "text/x-python",
   "name": "python",
   "nbconvert_exporter": "python",
   "pygments_lexer": "ipython2",
   "version": "2.7.16"
  }
 },
 "nbformat": 4,
 "nbformat_minor": 2
}
