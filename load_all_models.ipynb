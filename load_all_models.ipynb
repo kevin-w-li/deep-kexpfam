{
 "cells": [
  {
   "cell_type": "code",
   "execution_count": 1,
   "metadata": {},
   "outputs": [
    {
     "name": "stderr",
     "output_type": "stream",
     "text": [
      "Using cuDNN version 6021 on context None\n",
      "Mapped name None to device cuda: GeForce GTX 1080 Ti (0000:84:00.0)\n",
      "/nfs/nhome/live/kevinli/anaconda/lib/python2.7/site-packages/h5py/__init__.py:36: FutureWarning: Conversion of the second argument of issubdtype from `float` to `np.floating` is deprecated. In future, it will be treated as `np.float64 == np.dtype(float).type`.\n",
      "  from ._conv import register_converters as _register_converters\n"
     ]
    }
   ],
   "source": [
    "import os, sys\n",
    "os.environ[\"MKL_THREADING_LAYER\"]=\"GNU\"\n",
    "import numpy as np\n",
    "import matplotlib.pyplot as plt\n",
    "%matplotlib inline\n",
    "\n",
    "from results_summary import load_all_models"
   ]
  },
  {
   "cell_type": "code",
   "execution_count": 2,
   "metadata": {
    "collapsed": true
   },
   "outputs": [],
   "source": [
    "dl_args = dict(npoint=300, nlayer=3, nneuron=30, init_log_lam=-3, points_std=0.0, keep_prob=1.0, init_weight_std=1.0, noise_std=0.05,\n",
    "                    points_type=\"opt\", log_lam_weights=-6, step_size=1e-2, mixture_kernel=False, \n",
    "               init_log_sigma=np.linspace(0,1,3), base=True,\n",
    "                    niter=10000, ntrain=100, nvalid=100, patience=200, gpu_count=0, clip_score=False,\n",
    "                curve_penalty=True)\n",
    "\n",
    "others_args = dict( n_hiddens = [100]*2,\n",
    "                    n_comps = 10,\n",
    "                    n_layers = 5,\n",
    "                    act_fun = 'tanh',\n",
    "                    mode = 'random')"
   ]
  },
  {
   "cell_type": "markdown",
   "metadata": {},
   "source": [
    "* `p` is the data object\n",
    "* `m` is a dict of all models\n",
    "* `l` is a dict of log liks\n",
    "* `s` is a dict of samples (not for dkef)"
   ]
  },
  {
   "cell_type": "code",
   "execution_count": 3,
   "metadata": {},
   "outputs": [
    {
     "name": "stdout",
     "output_type": "stream",
     "text": [
      "INFO:tensorflow:Restoring parameters from ckpts/R_D11_l3_nd30_np300_nt100_nv100_pto_ss100_ni10000_n05_k10_m0_b1_p200_nk3_cl0_cu1_q1_s00.ckpt\n"
     ]
    }
   ],
   "source": [
    "seed = 0\n",
    "data_name = \"redwine\"\n",
    "p, m, l, s = load_all_models(data_name, seed, dl_args, others_args, skip_theano=True)"
   ]
  },
  {
   "cell_type": "code",
   "execution_count": 4,
   "metadata": {
    "collapsed": true
   },
   "outputs": [],
   "source": [
    "d = m[\"dkef\"]\n"
   ]
  },
  {
   "cell_type": "code",
   "execution_count": 12,
   "metadata": {},
   "outputs": [
    {
     "data": {
      "text/plain": [
       "<matplotlib.collections.PathCollection at 0x7faa7c174890>"
      ]
     },
     "execution_count": 12,
     "metadata": {},
     "output_type": "execute_result"
    },
    {
     "data": {
      "image/png": "[encoded data removed]",
      "text/plain": [
       "<matplotlib.figure.Figure at 0x7faa7c2571d0>"
      ]
     },
     "metadata": {},
     "output_type": "display_data"
    }
   ],
   "source": [
    "plt.scatter(q_rand_fv  , q_logq)"
   ]
  },
  {
   "cell_type": "code",
   "execution_count": 6,
   "metadata": {},
   "outputs": [
    {
     "data": {
      "image/png": "[encoded data removed]",
      "text/plain": [
       "<matplotlib.figure.Figure at 0x7faa7c59bed0>"
      ]
     },
     "metadata": {},
     "output_type": "display_data"
    }
   ],
   "source": [
    "import tensorflow as tf\n",
    "q_rand_fv, q_rand_kfv, q_logq, q_sample = d.sess.run([d.nodes[\"q_rand_fv\"],d.nodes[\"q_rand_kfv\"],d.nodes[\"q_logq\"], d.nodes[\"q_sample\"]] , feed_dict={d.nodes[\"n_rand\"]:100})\n",
    "plt.hist(q_rand_fv-q_logq, bins=np.linspace(15.5,16,20));\n"
   ]
  },
  {
   "cell_type": "code",
   "execution_count": 7,
   "metadata": {},
   "outputs": [
    {
     "name": "stderr",
     "output_type": "stream",
     "text": [
      "estimating logZ: 100%|████████████████████████████████████████████| 100/100 [00:01<00:00, 78.88it/s]\n"
     ]
    }
   ],
   "source": [
    "d = m[\"dkef\"]\n",
    "d.estimate_normaliser(100000, batch_size=1000)\n",
    "logr = d.get_q_logr(10000)"
   ]
  },
  {
   "cell_type": "code",
   "execution_count": 8,
   "metadata": {},
   "outputs": [
    {
     "data": {
      "image/png": "[encoded data removed]",
      "text/plain": [
       "<matplotlib.figure.Figure at 0x7faa8780b550>"
      ]
     },
     "metadata": {},
     "output_type": "display_data"
    }
   ],
   "source": [
    "plt.hist(d.fun_multiple(np.random.randn(1000,11)), bins=100);"
   ]
  },
  {
   "cell_type": "code",
   "execution_count": 9,
   "metadata": {},
   "outputs": [
    {
     "data": {
      "image/png": "[encoded data removed]",
      "text/plain": [
       "<matplotlib.figure.Figure at 0x7faa7c121890>"
      ]
     },
     "metadata": {},
     "output_type": "display_data"
    }
   ],
   "source": [
    "plt.hist(logr, bins=100);"
   ]
  },
  {
   "cell_type": "code",
   "execution_count": 15,
   "metadata": {},
   "outputs": [
    {
     "name": "stderr",
     "output_type": "stream",
     "text": [
      "\n",
      "estimating logZ:   0%|                                                      | 0/100 [00:00<?, ?it/s]\u001b[A\n",
      "estimating logZ:   9%|████▏                                         | 9/100 [00:00<00:01, 86.47it/s]\u001b[A\n",
      "estimating logZ:  19%|████████▌                                    | 19/100 [00:00<00:00, 92.04it/s]\u001b[A\n",
      "estimating logZ:  29%|█████████████                                | 29/100 [00:00<00:00, 94.24it/s]\u001b[A\n",
      "estimating logZ:  39%|█████████████████▌                           | 39/100 [00:00<00:00, 93.67it/s]\u001b[A\n",
      "estimating logZ:  48%|█████████████████████▌                       | 48/100 [00:00<00:00, 92.15it/s]\u001b[A\n",
      "estimating logZ:  57%|█████████████████████████▋                   | 57/100 [00:00<00:00, 91.82it/s]\u001b[A\n",
      "estimating logZ:  67%|██████████████████████████████▏              | 67/100 [00:00<00:00, 91.76it/s]\u001b[A\n",
      "estimating logZ:  77%|██████████████████████████████████▋          | 77/100 [00:00<00:00, 91.81it/s]\u001b[A\n",
      "estimating logZ:  86%|██████████████████████████████████████▋      | 86/100 [00:00<00:00, 91.14it/s]\u001b[A\n",
      "estimating logZ:  96%|███████████████████████████████████████████▏ | 96/100 [00:01<00:00, 91.67it/s]\u001b[A\n",
      "estimating logZ: 100%|████████████████████████████████████████████| 100/100 [00:01<00:00, 91.05it/s]\u001b[A"
     ]
    },
    {
     "data": {
      "text/plain": [
       "-13.211343983715848"
      ]
     },
     "execution_count": 15,
     "metadata": {},
     "output_type": "execute_result"
    },
    {
     "name": "stderr",
     "output_type": "stream",
     "text": [
      "\r",
      "estimating logZ:   0%|▏                                      | 328/100000 [00:20<1:41:17, 16.40it/s]"
     ]
    }
   ],
   "source": [
    "d.eval(p.test_data, n=10**5).mean()"
   ]
  },
  {
   "cell_type": "code",
   "execution_count": 5,
   "metadata": {},
   "outputs": [
    {
     "name": "stderr",
     "output_type": "stream",
     "text": [
      "estimating logZ: 100%|████████████████████████████████████████████| 100/100 [00:01<00:00, 63.86it/s]\n"
     ]
    },
    {
     "data": {
      "text/plain": [
       "19.196891349068423"
      ]
     },
     "execution_count": 5,
     "metadata": {},
     "output_type": "execute_result"
    }
   ],
   "source": [
    "d.q_estimate_normaliser(100000, batch_size=1000)"
   ]
  },
  {
   "cell_type": "code",
   "execution_count": 6,
   "metadata": {
    "collapsed": true
   },
   "outputs": [],
   "source": [
    "d = m[\"dkef\"]\n",
    "r1 = d.get_logr(10000)\n",
    "r2 = d.get_q_logr(10000)"
   ]
  },
  {
   "cell_type": "code",
   "execution_count": 7,
   "metadata": {},
   "outputs": [
    {
     "data": {
      "image/png": "[encoded data removed]",
      "text/plain": [
       "<matplotlib.figure.Figure at 0x7fdcf8c2f790>"
      ]
     },
     "metadata": {},
     "output_type": "display_data"
    }
   ],
   "source": [
    "plt.hist([r1,r2]);"
   ]
  },
  {
   "cell_type": "code",
   "execution_count": null,
   "metadata": {
    "collapsed": true
   },
   "outputs": [],
   "source": []
  }
 ],
 "metadata": {
  "kernelspec": {
   "display_name": "Python [default]",
   "language": "python",
   "name": "python2"
  },
  "language_info": {
   "codemirror_mode": {
    "name": "ipython",
    "version": 2
   },
   "file_extension": ".py",
   "mimetype": "text/x-python",
   "name": "python",
   "nbconvert_exporter": "python",
   "pygments_lexer": "ipython2",
   "version": "2.7.15"
  }
 },
 "nbformat": 4,
 "nbformat_minor": 2
}
