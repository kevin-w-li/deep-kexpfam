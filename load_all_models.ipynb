{
 "cells": [
  {
   "cell_type": "code",
   "execution_count": 1,
   "metadata": {},
   "outputs": [
    {
     "name": "stderr",
     "output_type": "stream",
     "text": [
      "Using cuDNN version 6021 on context None\n",
      "Mapped name None to device cuda: GeForce GTX 1080 Ti (0000:84:00.0)\n"
     ]
    }
   ],
   "source": [
    "import numpy as np\n",
    "import matplotlib.pyplot as plt\n",
    "%matplotlib inline\n",
    "\n",
    "from results_summary import load_all_models"
   ]
  },
  {
   "cell_type": "code",
   "execution_count": 2,
   "metadata": {},
   "outputs": [],
   "source": [
    "dl_args = dict(npoint=300, nlayer=3, nneuron=30, init_log_lam=-3, points_std=0.0, keep_prob=1.0, init_weight_std=1.0, noise_std=0.05,\n",
    "                    points_type=\"opt\", log_lam_weights=-6, step_size=1e-2, mixture_kernel=False, init_log_sigma=np.linspace(0,1,3), base=True,\n",
    "                    niter=5000, ntrain=100, nvalid=100, patience=50, gpu_count=0, clip_score=True, trainable=False)\n",
    "\n",
    "others_args = dict( n_hiddens = [100]*2,\n",
    "                    n_comps = 10,\n",
    "                    n_layers = 5,\n",
    "                    act_fun = 'tanh',\n",
    "                    mode = 'random')"
   ]
  },
  {
   "cell_type": "code",
   "execution_count": null,
   "metadata": {},
   "outputs": [],
   "source": [
    "seed = 0\n",
    "data_name = \"redwine\"\n",
    "p, m, l, s = load_all_models(data_name, seed, dl_args, others_args)\n",
    "print m[\"made\"].eval(p.test_data).mean()\n",
    "m[\"dkef\"].estimate_normaliser(n=10**6)\n",
    "print m[\"dkef\"].estimate_data_lik(p.test_data, batch_size=p.ntest).mean()"
   ]
  },
  {
   "cell_type": "code",
   "execution_count": null,
   "metadata": {},
   "outputs": [],
   "source": []
  }
 ],
 "metadata": {
  "kernelspec": {
   "display_name": "Python [default]",
   "language": "python",
   "name": "python2"
  },
  "language_info": {
   "codemirror_mode": {
    "name": "ipython",
    "version": 2
   },
   "file_extension": ".py",
   "mimetype": "text/x-python",
   "name": "python",
   "nbconvert_exporter": "python",
   "pygments_lexer": "ipython2",
   "version": "2.7.13"
  }
 },
 "nbformat": 4,
 "nbformat_minor": 2
}
